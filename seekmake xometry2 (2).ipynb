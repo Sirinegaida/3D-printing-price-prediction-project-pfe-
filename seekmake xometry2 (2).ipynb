{
 "cells": [
  {
   "cell_type": "code",
   "execution_count": 1,
   "id": "699ba218",
   "metadata": {},
   "outputs": [],
   "source": [
    "import selenium\n",
    "import time\n",
    "from selenium import webdriver \n",
    "from pymongo import MongoClient\n",
    "from bs4 import BeautifulSoup\n",
    "from selenium.webdriver.support.wait import WebDriverWait\n",
    "from selenium.webdriver.support import expected_conditions as EC\n",
    "from selenium.webdriver.common.by import By\n",
    "import pymongo\n",
    "import requests\n",
    "from time import sleep\n",
    "import urllib.request\n",
    "import os\n",
    "import pandas as pd\n",
    "from lxml import html\n"
   ]
  },
  {
   "cell_type": "code",
   "execution_count": 2,
   "id": "0fc2cca0",
   "metadata": {},
   "outputs": [],
   "source": [
    "url = 'https://get.xometry.eu/quotes/'"
   ]
  },
  {
   "cell_type": "code",
   "execution_count": 3,
   "id": "35ad22e9",
   "metadata": {
    "scrolled": true
   },
   "outputs": [],
   "source": [
    "#Open web browser and navigate to url\n",
    "browser = webdriver.Chrome()\n",
    "response = browser.get(url)\n",
    "\n",
    "\n",
    "#wait amount of time to load page \n",
    "browser.implicitly_wait(5)\n",
    "\n",
    "#login process \n",
    "Login = WebDriverWait(browser, 10).until(EC.element_to_be_clickable(('xpath', '//*[@id=\"root\"]/section/main/div/div/div')))\n",
    "Login.click()\n",
    "\n",
    "#target username and password\n",
    "email = WebDriverWait(browser, 10).until(EC.element_to_be_clickable(('xpath', '//*[@id=\"email\"]')))\n",
    "password = WebDriverWait(browser, 10).until(EC.element_to_be_clickable(('xpath', '//*[@id=\"password\"]')))\n",
    "#enter email and password\n",
    "email.clear()\n",
    "email.send_keys(\"sirinemahjoubgaida@gmail.com\") # please insert your user_name here \n",
    "password.clear()\n",
    "password.send_keys(\"sirine\") # please insert your password here \n",
    "loginbutton = WebDriverWait(browser, 10).until(EC.element_to_be_clickable(('xpath', '//*[@id=\"root\"]/section/main/div/div/div/form/button')))\n",
    "loginbutton.click()\n",
    "\n",
    "#choose a random 3D Model \n",
    "pièce_dexemple =WebDriverWait(browser, 10).until(EC.element_to_be_clickable(('xpath', '//*[@id=\"root\"]/section/main/div[3]/div')))\n",
    "pièce_dexemple.click()\n",
    "\n",
    "#start quoting \n",
    "button=WebDriverWait(browser, 10).until(EC.element_to_be_clickable(('xpath', '//*[@id=\"root\"]/section/main/div[3]/div/div[3]/button[2]')))\n",
    "\n",
    "button.click()\n",
    "\n",
    "\n",
    "\n",
    "\n",
    "#add more 3d models \n",
    "#pièces= WebDriverWait(browser, 10).until(EC.element_to_be_clickable(('xpath', '//*[@id=\"root\"]/section/main/div[3]/div/div[3]/button[1]')))\n",
    "#pièces.click()\n",
    "\n"
   ]
  },
  {
   "cell_type": "code",
   "execution_count": 4,
   "id": "5d438efe",
   "metadata": {},
   "outputs": [
    {
     "ename": "AttributeError",
     "evalue": "'NoneType' object has no attribute 'content'",
     "output_type": "error",
     "traceback": [
      "\u001b[1;31m---------------------------------------------------------------------------\u001b[0m",
      "\u001b[1;31mAttributeError\u001b[0m                            Traceback (most recent call last)",
      "Input \u001b[1;32mIn [4]\u001b[0m, in \u001b[0;36m<cell line: 2>\u001b[1;34m()\u001b[0m\n\u001b[0;32m      1\u001b[0m html_content \u001b[38;5;241m=\u001b[39m requests\u001b[38;5;241m.\u001b[39mget(browser\u001b[38;5;241m.\u001b[39mcurrent_url)\n\u001b[1;32m----> 2\u001b[0m tree \u001b[38;5;241m=\u001b[39m html\u001b[38;5;241m.\u001b[39mfromstring(\u001b[43mresponse\u001b[49m\u001b[38;5;241;43m.\u001b[39;49m\u001b[43mcontent\u001b[49m)\n\u001b[0;32m      3\u001b[0m div_container \u001b[38;5;241m=\u001b[39m tree\u001b[38;5;241m.\u001b[39mxpath(\u001b[38;5;124m'\u001b[39m\u001b[38;5;124m//div[@class=\u001b[39m\u001b[38;5;124m\"\u001b[39m\u001b[38;5;124mquote-part-details-description quote-part-details-description-active\u001b[39m\u001b[38;5;124m\"\u001b[39m\u001b[38;5;124m]\u001b[39m\u001b[38;5;124m'\u001b[39m)[\u001b[38;5;241m0\u001b[39m]\n\u001b[0;32m      4\u001b[0m p_tags \u001b[38;5;241m=\u001b[39m div_container\u001b[38;5;241m.\u001b[39mxpath(\u001b[38;5;124m'\u001b[39m\u001b[38;5;124m.//p\u001b[39m\u001b[38;5;124m'\u001b[39m)\n",
      "\u001b[1;31mAttributeError\u001b[0m: 'NoneType' object has no attribute 'content'"
     ]
    }
   ],
   "source": [
    "html_content = requests.get(browser.current_url)\n",
    "tree = html.fromstring(response.content)\n",
    "div_container = tree.xpath('//div[@class=\"quote-part-details-description quote-part-details-description-active\"]')[0]\n",
    "p_tags = div_container.xpath('.//p')\n",
    "\n",
    "infos_list = []\n",
    "for p in p_tags:\n",
    "     infos_list.append(p.text.strip())\n",
    "\n",
    "# To join the list items into a single string with a separator:\n",
    "infos = ' '.join(infos_list)\n",
    "print(infos)"
   ]
  },
  {
   "cell_type": "code",
   "execution_count": 6,
   "id": "ad3f3c64",
   "metadata": {
    "scrolled": true
   },
   "outputs": [
    {
     "name": "stdout",
     "output_type": "stream",
     "text": [
      "the list of prices :  ['€ 4.73', '€ 7.57']\n",
      "the list of ModelNames :  ['10. 11017.stl']\n"
     ]
    }
   ],
   "source": [
    "def  extract_3DModel_info():\n",
    "    #click on detail button\n",
    "    model_info_list = []\n",
    "    ModelNameList = []\n",
    "    pricesList = []\n",
    "    dimensionsList = []\n",
    "    materailList= []\n",
    "    holeslocationList=[]\n",
    "    specificationList=[]\n",
    "    \n",
    "    prices = browser.find_elements('class name','shipping-selector-price')\n",
    "    \n",
    "    for price in prices:\n",
    "   \t    pricesList.append(price.text)\n",
    "            \n",
    "    print (\"the list of prices : \" , pricesList) \n",
    "    \n",
    "     \n",
    "        \n",
    "    #specification = browser.find_elements('class name','quote-part-details-description quote-part-details-description-active')\n",
    "    #for spe in specification:\n",
    "   \t    #specificationList.append(spe.text)\n",
    "   # print (\"the list of specification : \" , specificationList) \n",
    "  \n",
    "  \n",
    "    \n",
    "    \n",
    "   #dimensions = browser.find_elements_by_xpath('//*[@id=\"root\"]/section/main/div[2]/div[1]/div[2]/div[2]/div/div[2]/div[1]/div/p[2]')\n",
    "    #for dimension in dimensions:\n",
    "        #dimensionsList.append(dimension.text)\n",
    "    #print (\"the list of dimensions : \" , dimensionsList) \n",
    "    #dimensionsList = [x.replace('\\n', '').replace('\\u202f', '') for x in dimensionsList]\n",
    "\n",
    "    \n",
    "    #for material in materials:\n",
    "       # materialList.append(dimension.text)\n",
    "    model_names = browser.find_elements('class name','quote-part-head-title')\n",
    "\n",
    "    for model in model_names:\n",
    "        ModelNameList.append(model.text)\n",
    "   \n",
    "    print (\"the list of ModelNames : \" , ModelNameList)\n",
    "   \n",
    "    #print (\"the list of specifications:\" , specificationsList)\n",
    "    #print (\"The list of dimensions :\" , dimensionsList)\n",
    "    \n",
    "\n",
    "extract_3DModel_info()"
   ]
  },
  {
   "cell_type": "code",
   "execution_count": null,
   "id": "55583a3f",
   "metadata": {},
   "outputs": [],
   "source": [
    "#ADD 3D  Models\n",
    "from glob import glob\n",
    "list = []\n",
    "Files = glob(r'C:\\Users\\fzaea\\Desktop\\3D\\*.stl')\n",
    "print(Files)"
   ]
  },
  {
   "cell_type": "code",
   "execution_count": null,
   "id": "4a3882f2",
   "metadata": {},
   "outputs": [],
   "source": [
    "for File in Files:\n",
    "    Add_Models = browser.find_element('xpath','//*[@id=\"file\"]')\n",
    "    Add_Models.send_keys(File)\n",
    "    sleep(20)"
   ]
  },
  {
   "cell_type": "code",
   "execution_count": null,
   "id": "a4787cef",
   "metadata": {},
   "outputs": [],
   "source": [
    "list1,list2,list3=extract_3DModel_info()"
   ]
  },
  {
   "cell_type": "code",
   "execution_count": null,
   "id": "cee777ea",
   "metadata": {},
   "outputs": [],
   "source": [
    "len(list1)"
   ]
  },
  {
   "cell_type": "code",
   "execution_count": null,
   "id": "47a0d084",
   "metadata": {},
   "outputs": [],
   "source": [
    "len(list2)"
   ]
  },
  {
   "cell_type": "code",
   "execution_count": null,
   "id": "a56018f4",
   "metadata": {},
   "outputs": [],
   "source": [
    "len(list3)"
   ]
  },
  {
   "cell_type": "code",
   "execution_count": null,
   "id": "40cd2d1b",
   "metadata": {},
   "outputs": [],
   "source": [
    "df = pd.DataFrame(list1,columns =['Price'])\n",
    "df2 = pd.DataFrame(list2,columns =['color'])\n",
    "df3 = pd.DataFrame(List3,columns =['measurement'])\n",
    "df=df.join([df2, df3])\n",
    "df"
   ]
  },
  {
   "cell_type": "code",
   "execution_count": null,
   "id": "84758748",
   "metadata": {},
   "outputs": [],
   "source": [
    "df.to_csv('sample.csv', index=False)"
   ]
  },
  {
   "cell_type": "code",
   "execution_count": null,
   "id": "8e5ebcee",
   "metadata": {},
   "outputs": [],
   "source": [
    "# Read the CSV file into a dataframe\n",
    "df_from_csv = pd.read_csv('sample.csv')\n",
    "\n",
    "# Print the resulting dataframe to verify it's the same as the original\n",
    "df_from_csv"
   ]
  },
  {
   "cell_type": "code",
   "execution_count": null,
   "id": "d7e210c0",
   "metadata": {},
   "outputs": [],
   "source": [
    "ModelNames = browser.find_elements('class name','part-description__title')\n",
    "for ModelName in ModelNames:\n",
    "        print(ModelName.text)\n",
    "print(len(ModelNames))"
   ]
  },
  {
   "cell_type": "code",
   "execution_count": null,
   "id": "dc07318e",
   "metadata": {},
   "outputs": [],
   "source": [
    "def extract_3DModel():\n",
    "    model_info_list = [] \n",
    "    prices = browser.find_elements('class name','h3d-subtitle-2')\n",
    "    dimensions = browser.find_elements('class name','part-description__sizes')\n",
    "    specifications = browser.find_elements('class name','part-specs')\n",
    "    errors =  browser.find_elements('class name','h3d-banner__title')\n",
    "    model_names = browser.find_elements('class name','part-description__title')\n",
    "\n",
    "    for i in range(len(model_names)):\n",
    "        model_info = {}\n",
    "        model_info[\"name\"] = model_names[i].text\n",
    "        model_info[\"price\"] = prices[i].text\n",
    "        dimension = dimensions[i].text.replace('\\n', '').replace('\\u202f', '').strip()\n",
    "        if dimension:\n",
    "            model_info[\"dimension\"] = dimension\n",
    "        else:\n",
    "            model_info[\"dimension\"] = None\n",
    "        model_info[\"specification\"] = specifications[i].text.replace('\\n', '')\n",
    "        model_info_list.append(model_info)\n",
    "        \n",
    "    df = pd.DataFrame(model_info_list)\n",
    "    print(\"The data frame of model information:\")\n",
    "    df\n",
    "    return df\n",
    "data= extract_3DModel()"
   ]
  },
  {
   "cell_type": "code",
   "execution_count": null,
   "id": "5a977e04",
   "metadata": {},
   "outputs": [],
   "source": [
    "data.to_csv('sample.csv', index=False)"
   ]
  },
  {
   "cell_type": "code",
   "execution_count": null,
   "id": "93c99835",
   "metadata": {
    "scrolled": false
   },
   "outputs": [],
   "source": [
    "data"
   ]
  },
  {
   "cell_type": "code",
   "execution_count": null,
   "id": "6c8c01dd",
   "metadata": {},
   "outputs": [],
   "source": []
  }
 ],
 "metadata": {
  "kernelspec": {
   "display_name": "Python 3 (ipykernel)",
   "language": "python",
   "name": "python3"
  },
  "language_info": {
   "codemirror_mode": {
    "name": "ipython",
    "version": 3
   },
   "file_extension": ".py",
   "mimetype": "text/x-python",
   "name": "python",
   "nbconvert_exporter": "python",
   "pygments_lexer": "ipython3",
   "version": "3.9.12"
  }
 },
 "nbformat": 4,
 "nbformat_minor": 5
}
