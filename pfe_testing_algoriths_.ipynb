{
  "nbformat": 4,
  "nbformat_minor": 0,
  "metadata": {
    "colab": {
      "provenance": []
    },
    "kernelspec": {
      "name": "python3",
      "display_name": "Python 3"
    },
    "language_info": {
      "name": "python"
    }
  },
  "cells": [
    {
      "cell_type": "code",
      "execution_count": 3,
      "metadata": {
        "colab": {
          "base_uri": "https://localhost:8080/"
        },
        "id": "F_r6vSsb9D39",
        "outputId": "5cfb2006-b965-41e3-88d1-38bff3bc9719"
      },
      "outputs": [
        {
          "output_type": "stream",
          "name": "stdout",
          "text": [
            "Drive already mounted at /content/drive; to attempt to forcibly remount, call drive.mount(\"/content/drive\", force_remount=True).\n"
          ]
        }
      ],
      "source": [
        "import numpy as np  #to manipulate array dataframes(comes from tables)\n",
        "import pandas as pd  #to manipulate dataframes\n",
        "\n",
        "import seaborn as sns  #for data visualization (provides a variety of visualization patterns as scaterplot and lineplot)\n",
        "import matplotlib.pyplot as plt #for data visualization (Visualization using Matplotlib generally consists of bars,pies,lines,scatter plots) \n",
        "import os  #module for interacting with the native OS Python which is currently running on.\n",
        "\n",
        "from sklearn.utils import shuffle               #to shuffle the data to remove any inherent ordering in the dataset\n",
        "                                                # which can lead to bias in the learning process \n",
        "from sklearn.tree import DecisionTreeRegressor  #importation od decision tree module \n",
        "from sklearn.svm import SVR                     #importation of SVR module \n",
        "from sklearn.ensemble import RandomForestRegressor  #importattion of randomforest regressor module\n",
        "from sklearn.linear_model import LinearRegression, Ridge, Lasso  #importation of linear regression module \n",
        "\n",
        "from sklearn.model_selection import train_test_split #to devide dataframe into testing and training \n",
        "\n",
        "from sklearn.preprocessing import StandardScaler   #for the normalisation of data \n",
        "from sklearn.preprocessing import LabelEncoder     #to convert categorical data into numerical\n",
        "\n",
        "from sklearn.metrics import r2_score   #coefficient of determination (regression score function)\n",
        "from sklearn.metrics import mean_squared_error  #error calculation module \n",
        "from sklearn.linear_model import Ridge\n",
        "from sklearn.model_selection import cross_val_score  #model to evaluate the model Model-evaluation tools\n",
        "from sklearn.metrics import classification_report, confusion_matrix  #to test the performance of the machine learning model\n",
        "from sklearn.model_selection import GridSearchCV,ShuffleSplit    #to determine the best model with the best parameters (model evaluation tool) \n",
        "\n",
        "from sklearn import linear_model  #module it contain different functions for performing machine learning with linear models. \n",
        "                                  #The term linear model implies that the model is specified as a linear combination of features\n",
        "\n",
        "\n",
        "%matplotlib inline\n",
        "\n",
        "from google.colab import drive\n",
        "drive.mount('/content/drive')\n",
        "\n",
        "\n",
        "\n"
      ]
    },
    {
      "cell_type": "code",
      "source": [
        "PATH = '/content/drive/MyDrive/pfe seekmake/'\n",
        "\n",
        "os.chdir(PATH)"
      ],
      "metadata": {
        "id": "Llubzanl-cvy"
      },
      "execution_count": 4,
      "outputs": []
    },
    {
      "cell_type": "markdown",
      "source": [
        "##**Data importation**"
      ],
      "metadata": {
        "id": "tDfUgUgb6NeA"
      }
    },
    {
      "cell_type": "code",
      "source": [
        "#importaion of the exel file \n",
        "df = pd.read_excel('output_data.xlsx')\n",
        "#convert the dataframe to a CSV file\n",
        "df.to_csv('output_data.csv', index=False)"
      ],
      "metadata": {
        "id": "WeFnU_ly_SzU"
      },
      "execution_count": 5,
      "outputs": []
    },
    {
      "cell_type": "code",
      "source": [
        "# Extracting the model input and output features\n",
        "X = df.drop([\"name\",\"Finish\",\"technolgy\",\"material\",\"color\",\"Process\"], axis=1)  # Removing species columns from the input features\n",
        "y = df['price (in $ )']  # Single output "
      ],
      "metadata": {
        "id": "LQvWuwekYiIh"
      },
      "execution_count": 6,
      "outputs": []
    },
    {
      "cell_type": "markdown",
      "source": [
        "##80% for training and 20% for validation"
      ],
      "metadata": {
        "id": "LQ1t-bQ2RPy2"
      }
    },
    {
      "cell_type": "code",
      "source": [
        "#split the data into training and testing sets  train_size = int(0.8 * len(X))\n",
        "\n",
        "X_train, X_test, y_train, y_test = train_test_split(X, y, test_size=0.2,random_state=42 )\n"
      ],
      "metadata": {
        "id": "xEyFhvUQYaj7"
      },
      "execution_count": 7,
      "outputs": []
    },
    {
      "cell_type": "markdown",
      "source": [
        "###Shuffling the data is an important step in many machine learning tasks. The main reason for shuffling the data is to remove any inherent ordering in the dataset, which can lead to bias in the learning process.\n",
        "\n",
        "For example, imagine a dataset where the samples are ordered by the value of the target variable. If we do not shuffle the data before splitting it into training and testing sets, we may end up with a training set that contains only low or high values of the target variable, while the testing set contains the opposite. This can lead to poor performance on the testing set, as the model has not been trained on a representative sample of the data.\n",
        "\n",
        "Shuffling the data can help to prevent this type of bias by ensuring that the samples are randomly distributed across the training and testing sets. In addition, shuffling the data can help to prevent overfitting by ensuring that the model does not memorize the order of the samples during training.\n",
        "\n"
      ],
      "metadata": {
        "id": "asg7wqA8baXa"
      }
    },
    {
      "cell_type": "markdown",
      "source": [
        "##If you split the data into training and testing sets without shuffling, you may end up with all the most recent customers in the testing set and all the older customers in the training set. This can lead to poor performance on the testing set, as the model has not been trained on a representative sample of the data.\n",
        "\n",
        "To avoid this issue, you should shuffle the data before splitting it into training and testing sets. This will ensure that the most recent customers are randomly distributed across the training and testing sets, and that the model is trained on a representative sample of the data. You can use the shuffle method in NumPy or Scikit-learn to shuffle the data before splitting it."
      ],
      "metadata": {
        "id": "CMjJqaTmcRSk"
      }
    },
    {
      "cell_type": "code",
      "source": [
        "from sklearn.utils import shuffle\n",
        "# Shuffle the data\n",
        "X, y = shuffle(X, y, random_state=42)"
      ],
      "metadata": {
        "id": "XZ6MYAYLFtAi"
      },
      "execution_count": 8,
      "outputs": []
    },
    {
      "cell_type": "code",
      "source": [
        "print(y)"
      ],
      "metadata": {
        "colab": {
          "base_uri": "https://localhost:8080/"
        },
        "id": "-2L2QcxVbq74",
        "outputId": "fde94508-774f-4b04-cbf6-7281a636dec7"
      },
      "execution_count": 9,
      "outputs": [
        {
          "output_type": "stream",
          "name": "stdout",
          "text": [
            "205    141.00\n",
            "214     40.83\n",
            "138     83.95\n",
            "177     27.71\n",
            "15      62.92\n",
            "        ...  \n",
            "106      8.13\n",
            "14      22.81\n",
            "92       4.60\n",
            "179     32.35\n",
            "102    135.35\n",
            "Name: price (in $ ), Length: 217, dtype: float64\n"
          ]
        }
      ]
    },
    {
      "cell_type": "code",
      "source": [
        "#split the data into training and testing sets  train_size = int(0.8 * len(X))\n",
        "\n",
        "X_train, X_test, y_train, y_test = train_test_split(X, y, test_size=0.2,random_state=42 )"
      ],
      "metadata": {
        "id": "iiU54ku4FzYa"
      },
      "execution_count": 10,
      "outputs": []
    },
    {
      "cell_type": "code",
      "source": [
        "X_train"
      ],
      "metadata": {
        "colab": {
          "base_uri": "https://localhost:8080/",
          "height": 423
        },
        "id": "eIKapFy9hebx",
        "outputId": "b931e796-23c5-4540-86dd-cf509dcbb963"
      },
      "execution_count": 11,
      "outputs": [
        {
          "output_type": "execute_result",
          "data": {
            "text/plain": [
              "     price (in $ )  x(mm)  y(mm)  z(mm)  dimension (mm)\n",
              "78           14.52   36.0   11.7   10.2        4296.240\n",
              "90           52.07   79.0   35.5   35.3       98998.850\n",
              "158          28.79   48.1   40.5   25.3       49285.665\n",
              "106           8.13   15.7   15.7    5.0        1232.450\n",
              "26            9.86   38.0   36.0    4.0        5472.000\n",
              "..             ...    ...    ...    ...             ...\n",
              "211         356.64  154.1  107.0   78.0     1286118.600\n",
              "67           36.49  124.9   79.8   15.9      158475.618\n",
              "46           71.82  139.7   38.1   38.1      202789.917\n",
              "50            9.22   24.0   24.0    5.0        2880.000\n",
              "141         108.72  169.1   69.6   57.0      670853.520\n",
              "\n",
              "[173 rows x 5 columns]"
            ],
            "text/html": [
              "\n",
              "  <div id=\"df-c594b525-a235-4645-aa77-78124673ff9d\">\n",
              "    <div class=\"colab-df-container\">\n",
              "      <div>\n",
              "<style scoped>\n",
              "    .dataframe tbody tr th:only-of-type {\n",
              "        vertical-align: middle;\n",
              "    }\n",
              "\n",
              "    .dataframe tbody tr th {\n",
              "        vertical-align: top;\n",
              "    }\n",
              "\n",
              "    .dataframe thead th {\n",
              "        text-align: right;\n",
              "    }\n",
              "</style>\n",
              "<table border=\"1\" class=\"dataframe\">\n",
              "  <thead>\n",
              "    <tr style=\"text-align: right;\">\n",
              "      <th></th>\n",
              "      <th>price (in $ )</th>\n",
              "      <th>x(mm)</th>\n",
              "      <th>y(mm)</th>\n",
              "      <th>z(mm)</th>\n",
              "      <th>dimension (mm)</th>\n",
              "    </tr>\n",
              "  </thead>\n",
              "  <tbody>\n",
              "    <tr>\n",
              "      <th>78</th>\n",
              "      <td>14.52</td>\n",
              "      <td>36.0</td>\n",
              "      <td>11.7</td>\n",
              "      <td>10.2</td>\n",
              "      <td>4296.240</td>\n",
              "    </tr>\n",
              "    <tr>\n",
              "      <th>90</th>\n",
              "      <td>52.07</td>\n",
              "      <td>79.0</td>\n",
              "      <td>35.5</td>\n",
              "      <td>35.3</td>\n",
              "      <td>98998.850</td>\n",
              "    </tr>\n",
              "    <tr>\n",
              "      <th>158</th>\n",
              "      <td>28.79</td>\n",
              "      <td>48.1</td>\n",
              "      <td>40.5</td>\n",
              "      <td>25.3</td>\n",
              "      <td>49285.665</td>\n",
              "    </tr>\n",
              "    <tr>\n",
              "      <th>106</th>\n",
              "      <td>8.13</td>\n",
              "      <td>15.7</td>\n",
              "      <td>15.7</td>\n",
              "      <td>5.0</td>\n",
              "      <td>1232.450</td>\n",
              "    </tr>\n",
              "    <tr>\n",
              "      <th>26</th>\n",
              "      <td>9.86</td>\n",
              "      <td>38.0</td>\n",
              "      <td>36.0</td>\n",
              "      <td>4.0</td>\n",
              "      <td>5472.000</td>\n",
              "    </tr>\n",
              "    <tr>\n",
              "      <th>...</th>\n",
              "      <td>...</td>\n",
              "      <td>...</td>\n",
              "      <td>...</td>\n",
              "      <td>...</td>\n",
              "      <td>...</td>\n",
              "    </tr>\n",
              "    <tr>\n",
              "      <th>211</th>\n",
              "      <td>356.64</td>\n",
              "      <td>154.1</td>\n",
              "      <td>107.0</td>\n",
              "      <td>78.0</td>\n",
              "      <td>1286118.600</td>\n",
              "    </tr>\n",
              "    <tr>\n",
              "      <th>67</th>\n",
              "      <td>36.49</td>\n",
              "      <td>124.9</td>\n",
              "      <td>79.8</td>\n",
              "      <td>15.9</td>\n",
              "      <td>158475.618</td>\n",
              "    </tr>\n",
              "    <tr>\n",
              "      <th>46</th>\n",
              "      <td>71.82</td>\n",
              "      <td>139.7</td>\n",
              "      <td>38.1</td>\n",
              "      <td>38.1</td>\n",
              "      <td>202789.917</td>\n",
              "    </tr>\n",
              "    <tr>\n",
              "      <th>50</th>\n",
              "      <td>9.22</td>\n",
              "      <td>24.0</td>\n",
              "      <td>24.0</td>\n",
              "      <td>5.0</td>\n",
              "      <td>2880.000</td>\n",
              "    </tr>\n",
              "    <tr>\n",
              "      <th>141</th>\n",
              "      <td>108.72</td>\n",
              "      <td>169.1</td>\n",
              "      <td>69.6</td>\n",
              "      <td>57.0</td>\n",
              "      <td>670853.520</td>\n",
              "    </tr>\n",
              "  </tbody>\n",
              "</table>\n",
              "<p>173 rows × 5 columns</p>\n",
              "</div>\n",
              "      <button class=\"colab-df-convert\" onclick=\"convertToInteractive('df-c594b525-a235-4645-aa77-78124673ff9d')\"\n",
              "              title=\"Convert this dataframe to an interactive table.\"\n",
              "              style=\"display:none;\">\n",
              "        \n",
              "  <svg xmlns=\"http://www.w3.org/2000/svg\" height=\"24px\"viewBox=\"0 0 24 24\"\n",
              "       width=\"24px\">\n",
              "    <path d=\"M0 0h24v24H0V0z\" fill=\"none\"/>\n",
              "    <path d=\"M18.56 5.44l.94 2.06.94-2.06 2.06-.94-2.06-.94-.94-2.06-.94 2.06-2.06.94zm-11 1L8.5 8.5l.94-2.06 2.06-.94-2.06-.94L8.5 2.5l-.94 2.06-2.06.94zm10 10l.94 2.06.94-2.06 2.06-.94-2.06-.94-.94-2.06-.94 2.06-2.06.94z\"/><path d=\"M17.41 7.96l-1.37-1.37c-.4-.4-.92-.59-1.43-.59-.52 0-1.04.2-1.43.59L10.3 9.45l-7.72 7.72c-.78.78-.78 2.05 0 2.83L4 21.41c.39.39.9.59 1.41.59.51 0 1.02-.2 1.41-.59l7.78-7.78 2.81-2.81c.8-.78.8-2.07 0-2.86zM5.41 20L4 18.59l7.72-7.72 1.47 1.35L5.41 20z\"/>\n",
              "  </svg>\n",
              "      </button>\n",
              "      \n",
              "  <style>\n",
              "    .colab-df-container {\n",
              "      display:flex;\n",
              "      flex-wrap:wrap;\n",
              "      gap: 12px;\n",
              "    }\n",
              "\n",
              "    .colab-df-convert {\n",
              "      background-color: #E8F0FE;\n",
              "      border: none;\n",
              "      border-radius: 50%;\n",
              "      cursor: pointer;\n",
              "      display: none;\n",
              "      fill: #1967D2;\n",
              "      height: 32px;\n",
              "      padding: 0 0 0 0;\n",
              "      width: 32px;\n",
              "    }\n",
              "\n",
              "    .colab-df-convert:hover {\n",
              "      background-color: #E2EBFA;\n",
              "      box-shadow: 0px 1px 2px rgba(60, 64, 67, 0.3), 0px 1px 3px 1px rgba(60, 64, 67, 0.15);\n",
              "      fill: #174EA6;\n",
              "    }\n",
              "\n",
              "    [theme=dark] .colab-df-convert {\n",
              "      background-color: #3B4455;\n",
              "      fill: #D2E3FC;\n",
              "    }\n",
              "\n",
              "    [theme=dark] .colab-df-convert:hover {\n",
              "      background-color: #434B5C;\n",
              "      box-shadow: 0px 1px 3px 1px rgba(0, 0, 0, 0.15);\n",
              "      filter: drop-shadow(0px 1px 2px rgba(0, 0, 0, 0.3));\n",
              "      fill: #FFFFFF;\n",
              "    }\n",
              "  </style>\n",
              "\n",
              "      <script>\n",
              "        const buttonEl =\n",
              "          document.querySelector('#df-c594b525-a235-4645-aa77-78124673ff9d button.colab-df-convert');\n",
              "        buttonEl.style.display =\n",
              "          google.colab.kernel.accessAllowed ? 'block' : 'none';\n",
              "\n",
              "        async function convertToInteractive(key) {\n",
              "          const element = document.querySelector('#df-c594b525-a235-4645-aa77-78124673ff9d');\n",
              "          const dataTable =\n",
              "            await google.colab.kernel.invokeFunction('convertToInteractive',\n",
              "                                                     [key], {});\n",
              "          if (!dataTable) return;\n",
              "\n",
              "          const docLinkHtml = 'Like what you see? Visit the ' +\n",
              "            '<a target=\"_blank\" href=https://colab.research.google.com/notebooks/data_table.ipynb>data table notebook</a>'\n",
              "            + ' to learn more about interactive tables.';\n",
              "          element.innerHTML = '';\n",
              "          dataTable['output_type'] = 'display_data';\n",
              "          await google.colab.output.renderOutput(dataTable, element);\n",
              "          const docLink = document.createElement('div');\n",
              "          docLink.innerHTML = docLinkHtml;\n",
              "          element.appendChild(docLink);\n",
              "        }\n",
              "      </script>\n",
              "    </div>\n",
              "  </div>\n",
              "  "
            ]
          },
          "metadata": {},
          "execution_count": 11
        }
      ]
    },
    {
      "cell_type": "code",
      "source": [
        "X_test"
      ],
      "metadata": {
        "colab": {
          "base_uri": "https://localhost:8080/",
          "height": 1000
        },
        "id": "7YNlJv6whkAB",
        "outputId": "60fdacc9-3e90-4b0b-8cb2-491c20cdc420"
      },
      "execution_count": 12,
      "outputs": [
        {
          "output_type": "execute_result",
          "data": {
            "text/plain": [
              "     price (in $ )  x(mm)  y(mm)   z(mm)  dimension (mm)\n",
              "202          31.43  149.8   99.0    4.00    5.932080e+04\n",
              "92            4.60   15.3    2.6    1.00    3.978000e+01\n",
              "81          823.16  218.4  123.5  123.50    3.331091e+06\n",
              "54           14.59   44.0   44.0    7.00    1.355200e+04\n",
              "176          22.38   97.9   97.9    9.30    8.913501e+04\n",
              "208         514.17  178.9  149.1  123.70    3.299573e+06\n",
              "169          88.04  131.5  105.5   66.30    9.197965e+05\n",
              "28          329.50  219.8  144.0  131.80    4.171628e+06\n",
              "74           56.72  149.0  149.0    7.00    1.554070e+05\n",
              "39           58.74  193.3   50.1   37.00    3.583202e+05\n",
              "91            7.20   19.1   14.3    3.70    1.010581e+03\n",
              "108         185.85  210.0   40.0   40.00    3.360000e+05\n",
              "187          74.42  116.9   58.0   48.00    3.254496e+05\n",
              "139         149.90  169.1   68.3   39.10    4.515866e+05\n",
              "65           31.33  108.0  108.0    7.00    8.164800e+04\n",
              "63           38.83  124.9   79.8   15.20    1.514987e+05\n",
              "189         464.27  167.0  108.9  108.00    1.964120e+06\n",
              "154          38.23  176.0  176.0   24.50    7.589120e+05\n",
              "49           43.32   34.0   34.0   33.90    3.918840e+04\n",
              "82           72.46  103.0   73.0   45.10    3.391069e+05\n",
              "21            5.31   14.0   14.0    2.00    3.920000e+02\n",
              "94            8.65   19.1   17.2    5.30    1.741156e+03\n",
              "207          69.91   75.1   56.9   56.90    2.431445e+05\n",
              "146          11.37   34.3   20.1    7.30    5.032839e+03\n",
              "33           11.18   18.0   18.0    8.00    2.592000e+03\n",
              "198          70.83  204.5  186.4   24.70    9.415344e+05\n",
              "192          91.37  101.5   62.7   62.60    3.983895e+05\n",
              "172          54.27   60.0   42.5   40.70    1.037850e+05\n",
              "95            8.05   15.7   15.7    5.00    1.232450e+03\n",
              "151           8.45   46.0   33.5   33.10    5.100710e+04\n",
              "6           276.48  213.0   37.0   33.00    2.600730e+05\n",
              "29           26.44  150.0   10.0    8.00    1.200000e+04\n",
              "148         188.89  431.6  345.6  158.40    2.362710e+07\n",
              "37           44.46  270.0   30.0    5.00    4.050000e+04\n",
              "178          26.41   29.2   25.4   20.40    1.513027e+04\n",
              "70           18.31   24.1   16.9   15.00    6.109350e+03\n",
              "210          19.81   35.8   25.5   17.10    1.561059e+04\n",
              "23           21.87   31.2   21.1   17.80    1.171810e+04\n",
              "155         270.67  115.0  113.5   99.00    1.292198e+06\n",
              "36           27.23  102.9   30.9    8.00    2.543688e+04\n",
              "85            4.01    9.8    9.8    1.00    9.604000e+01\n",
              "48           21.12   24.7   19.1   19.10    9.010807e+03\n",
              "173          62.12   79.6  160.3   36.30    4.631836e+05\n",
              "175         127.10  122.6   59.0   91.45    6.614944e+05"
            ],
            "text/html": [
              "\n",
              "  <div id=\"df-647ef4a3-9da1-4183-a41e-f31eab3c64d6\">\n",
              "    <div class=\"colab-df-container\">\n",
              "      <div>\n",
              "<style scoped>\n",
              "    .dataframe tbody tr th:only-of-type {\n",
              "        vertical-align: middle;\n",
              "    }\n",
              "\n",
              "    .dataframe tbody tr th {\n",
              "        vertical-align: top;\n",
              "    }\n",
              "\n",
              "    .dataframe thead th {\n",
              "        text-align: right;\n",
              "    }\n",
              "</style>\n",
              "<table border=\"1\" class=\"dataframe\">\n",
              "  <thead>\n",
              "    <tr style=\"text-align: right;\">\n",
              "      <th></th>\n",
              "      <th>price (in $ )</th>\n",
              "      <th>x(mm)</th>\n",
              "      <th>y(mm)</th>\n",
              "      <th>z(mm)</th>\n",
              "      <th>dimension (mm)</th>\n",
              "    </tr>\n",
              "  </thead>\n",
              "  <tbody>\n",
              "    <tr>\n",
              "      <th>202</th>\n",
              "      <td>31.43</td>\n",
              "      <td>149.8</td>\n",
              "      <td>99.0</td>\n",
              "      <td>4.00</td>\n",
              "      <td>5.932080e+04</td>\n",
              "    </tr>\n",
              "    <tr>\n",
              "      <th>92</th>\n",
              "      <td>4.60</td>\n",
              "      <td>15.3</td>\n",
              "      <td>2.6</td>\n",
              "      <td>1.00</td>\n",
              "      <td>3.978000e+01</td>\n",
              "    </tr>\n",
              "    <tr>\n",
              "      <th>81</th>\n",
              "      <td>823.16</td>\n",
              "      <td>218.4</td>\n",
              "      <td>123.5</td>\n",
              "      <td>123.50</td>\n",
              "      <td>3.331091e+06</td>\n",
              "    </tr>\n",
              "    <tr>\n",
              "      <th>54</th>\n",
              "      <td>14.59</td>\n",
              "      <td>44.0</td>\n",
              "      <td>44.0</td>\n",
              "      <td>7.00</td>\n",
              "      <td>1.355200e+04</td>\n",
              "    </tr>\n",
              "    <tr>\n",
              "      <th>176</th>\n",
              "      <td>22.38</td>\n",
              "      <td>97.9</td>\n",
              "      <td>97.9</td>\n",
              "      <td>9.30</td>\n",
              "      <td>8.913501e+04</td>\n",
              "    </tr>\n",
              "    <tr>\n",
              "      <th>208</th>\n",
              "      <td>514.17</td>\n",
              "      <td>178.9</td>\n",
              "      <td>149.1</td>\n",
              "      <td>123.70</td>\n",
              "      <td>3.299573e+06</td>\n",
              "    </tr>\n",
              "    <tr>\n",
              "      <th>169</th>\n",
              "      <td>88.04</td>\n",
              "      <td>131.5</td>\n",
              "      <td>105.5</td>\n",
              "      <td>66.30</td>\n",
              "      <td>9.197965e+05</td>\n",
              "    </tr>\n",
              "    <tr>\n",
              "      <th>28</th>\n",
              "      <td>329.50</td>\n",
              "      <td>219.8</td>\n",
              "      <td>144.0</td>\n",
              "      <td>131.80</td>\n",
              "      <td>4.171628e+06</td>\n",
              "    </tr>\n",
              "    <tr>\n",
              "      <th>74</th>\n",
              "      <td>56.72</td>\n",
              "      <td>149.0</td>\n",
              "      <td>149.0</td>\n",
              "      <td>7.00</td>\n",
              "      <td>1.554070e+05</td>\n",
              "    </tr>\n",
              "    <tr>\n",
              "      <th>39</th>\n",
              "      <td>58.74</td>\n",
              "      <td>193.3</td>\n",
              "      <td>50.1</td>\n",
              "      <td>37.00</td>\n",
              "      <td>3.583202e+05</td>\n",
              "    </tr>\n",
              "    <tr>\n",
              "      <th>91</th>\n",
              "      <td>7.20</td>\n",
              "      <td>19.1</td>\n",
              "      <td>14.3</td>\n",
              "      <td>3.70</td>\n",
              "      <td>1.010581e+03</td>\n",
              "    </tr>\n",
              "    <tr>\n",
              "      <th>108</th>\n",
              "      <td>185.85</td>\n",
              "      <td>210.0</td>\n",
              "      <td>40.0</td>\n",
              "      <td>40.00</td>\n",
              "      <td>3.360000e+05</td>\n",
              "    </tr>\n",
              "    <tr>\n",
              "      <th>187</th>\n",
              "      <td>74.42</td>\n",
              "      <td>116.9</td>\n",
              "      <td>58.0</td>\n",
              "      <td>48.00</td>\n",
              "      <td>3.254496e+05</td>\n",
              "    </tr>\n",
              "    <tr>\n",
              "      <th>139</th>\n",
              "      <td>149.90</td>\n",
              "      <td>169.1</td>\n",
              "      <td>68.3</td>\n",
              "      <td>39.10</td>\n",
              "      <td>4.515866e+05</td>\n",
              "    </tr>\n",
              "    <tr>\n",
              "      <th>65</th>\n",
              "      <td>31.33</td>\n",
              "      <td>108.0</td>\n",
              "      <td>108.0</td>\n",
              "      <td>7.00</td>\n",
              "      <td>8.164800e+04</td>\n",
              "    </tr>\n",
              "    <tr>\n",
              "      <th>63</th>\n",
              "      <td>38.83</td>\n",
              "      <td>124.9</td>\n",
              "      <td>79.8</td>\n",
              "      <td>15.20</td>\n",
              "      <td>1.514987e+05</td>\n",
              "    </tr>\n",
              "    <tr>\n",
              "      <th>189</th>\n",
              "      <td>464.27</td>\n",
              "      <td>167.0</td>\n",
              "      <td>108.9</td>\n",
              "      <td>108.00</td>\n",
              "      <td>1.964120e+06</td>\n",
              "    </tr>\n",
              "    <tr>\n",
              "      <th>154</th>\n",
              "      <td>38.23</td>\n",
              "      <td>176.0</td>\n",
              "      <td>176.0</td>\n",
              "      <td>24.50</td>\n",
              "      <td>7.589120e+05</td>\n",
              "    </tr>\n",
              "    <tr>\n",
              "      <th>49</th>\n",
              "      <td>43.32</td>\n",
              "      <td>34.0</td>\n",
              "      <td>34.0</td>\n",
              "      <td>33.90</td>\n",
              "      <td>3.918840e+04</td>\n",
              "    </tr>\n",
              "    <tr>\n",
              "      <th>82</th>\n",
              "      <td>72.46</td>\n",
              "      <td>103.0</td>\n",
              "      <td>73.0</td>\n",
              "      <td>45.10</td>\n",
              "      <td>3.391069e+05</td>\n",
              "    </tr>\n",
              "    <tr>\n",
              "      <th>21</th>\n",
              "      <td>5.31</td>\n",
              "      <td>14.0</td>\n",
              "      <td>14.0</td>\n",
              "      <td>2.00</td>\n",
              "      <td>3.920000e+02</td>\n",
              "    </tr>\n",
              "    <tr>\n",
              "      <th>94</th>\n",
              "      <td>8.65</td>\n",
              "      <td>19.1</td>\n",
              "      <td>17.2</td>\n",
              "      <td>5.30</td>\n",
              "      <td>1.741156e+03</td>\n",
              "    </tr>\n",
              "    <tr>\n",
              "      <th>207</th>\n",
              "      <td>69.91</td>\n",
              "      <td>75.1</td>\n",
              "      <td>56.9</td>\n",
              "      <td>56.90</td>\n",
              "      <td>2.431445e+05</td>\n",
              "    </tr>\n",
              "    <tr>\n",
              "      <th>146</th>\n",
              "      <td>11.37</td>\n",
              "      <td>34.3</td>\n",
              "      <td>20.1</td>\n",
              "      <td>7.30</td>\n",
              "      <td>5.032839e+03</td>\n",
              "    </tr>\n",
              "    <tr>\n",
              "      <th>33</th>\n",
              "      <td>11.18</td>\n",
              "      <td>18.0</td>\n",
              "      <td>18.0</td>\n",
              "      <td>8.00</td>\n",
              "      <td>2.592000e+03</td>\n",
              "    </tr>\n",
              "    <tr>\n",
              "      <th>198</th>\n",
              "      <td>70.83</td>\n",
              "      <td>204.5</td>\n",
              "      <td>186.4</td>\n",
              "      <td>24.70</td>\n",
              "      <td>9.415344e+05</td>\n",
              "    </tr>\n",
              "    <tr>\n",
              "      <th>192</th>\n",
              "      <td>91.37</td>\n",
              "      <td>101.5</td>\n",
              "      <td>62.7</td>\n",
              "      <td>62.60</td>\n",
              "      <td>3.983895e+05</td>\n",
              "    </tr>\n",
              "    <tr>\n",
              "      <th>172</th>\n",
              "      <td>54.27</td>\n",
              "      <td>60.0</td>\n",
              "      <td>42.5</td>\n",
              "      <td>40.70</td>\n",
              "      <td>1.037850e+05</td>\n",
              "    </tr>\n",
              "    <tr>\n",
              "      <th>95</th>\n",
              "      <td>8.05</td>\n",
              "      <td>15.7</td>\n",
              "      <td>15.7</td>\n",
              "      <td>5.00</td>\n",
              "      <td>1.232450e+03</td>\n",
              "    </tr>\n",
              "    <tr>\n",
              "      <th>151</th>\n",
              "      <td>8.45</td>\n",
              "      <td>46.0</td>\n",
              "      <td>33.5</td>\n",
              "      <td>33.10</td>\n",
              "      <td>5.100710e+04</td>\n",
              "    </tr>\n",
              "    <tr>\n",
              "      <th>6</th>\n",
              "      <td>276.48</td>\n",
              "      <td>213.0</td>\n",
              "      <td>37.0</td>\n",
              "      <td>33.00</td>\n",
              "      <td>2.600730e+05</td>\n",
              "    </tr>\n",
              "    <tr>\n",
              "      <th>29</th>\n",
              "      <td>26.44</td>\n",
              "      <td>150.0</td>\n",
              "      <td>10.0</td>\n",
              "      <td>8.00</td>\n",
              "      <td>1.200000e+04</td>\n",
              "    </tr>\n",
              "    <tr>\n",
              "      <th>148</th>\n",
              "      <td>188.89</td>\n",
              "      <td>431.6</td>\n",
              "      <td>345.6</td>\n",
              "      <td>158.40</td>\n",
              "      <td>2.362710e+07</td>\n",
              "    </tr>\n",
              "    <tr>\n",
              "      <th>37</th>\n",
              "      <td>44.46</td>\n",
              "      <td>270.0</td>\n",
              "      <td>30.0</td>\n",
              "      <td>5.00</td>\n",
              "      <td>4.050000e+04</td>\n",
              "    </tr>\n",
              "    <tr>\n",
              "      <th>178</th>\n",
              "      <td>26.41</td>\n",
              "      <td>29.2</td>\n",
              "      <td>25.4</td>\n",
              "      <td>20.40</td>\n",
              "      <td>1.513027e+04</td>\n",
              "    </tr>\n",
              "    <tr>\n",
              "      <th>70</th>\n",
              "      <td>18.31</td>\n",
              "      <td>24.1</td>\n",
              "      <td>16.9</td>\n",
              "      <td>15.00</td>\n",
              "      <td>6.109350e+03</td>\n",
              "    </tr>\n",
              "    <tr>\n",
              "      <th>210</th>\n",
              "      <td>19.81</td>\n",
              "      <td>35.8</td>\n",
              "      <td>25.5</td>\n",
              "      <td>17.10</td>\n",
              "      <td>1.561059e+04</td>\n",
              "    </tr>\n",
              "    <tr>\n",
              "      <th>23</th>\n",
              "      <td>21.87</td>\n",
              "      <td>31.2</td>\n",
              "      <td>21.1</td>\n",
              "      <td>17.80</td>\n",
              "      <td>1.171810e+04</td>\n",
              "    </tr>\n",
              "    <tr>\n",
              "      <th>155</th>\n",
              "      <td>270.67</td>\n",
              "      <td>115.0</td>\n",
              "      <td>113.5</td>\n",
              "      <td>99.00</td>\n",
              "      <td>1.292198e+06</td>\n",
              "    </tr>\n",
              "    <tr>\n",
              "      <th>36</th>\n",
              "      <td>27.23</td>\n",
              "      <td>102.9</td>\n",
              "      <td>30.9</td>\n",
              "      <td>8.00</td>\n",
              "      <td>2.543688e+04</td>\n",
              "    </tr>\n",
              "    <tr>\n",
              "      <th>85</th>\n",
              "      <td>4.01</td>\n",
              "      <td>9.8</td>\n",
              "      <td>9.8</td>\n",
              "      <td>1.00</td>\n",
              "      <td>9.604000e+01</td>\n",
              "    </tr>\n",
              "    <tr>\n",
              "      <th>48</th>\n",
              "      <td>21.12</td>\n",
              "      <td>24.7</td>\n",
              "      <td>19.1</td>\n",
              "      <td>19.10</td>\n",
              "      <td>9.010807e+03</td>\n",
              "    </tr>\n",
              "    <tr>\n",
              "      <th>173</th>\n",
              "      <td>62.12</td>\n",
              "      <td>79.6</td>\n",
              "      <td>160.3</td>\n",
              "      <td>36.30</td>\n",
              "      <td>4.631836e+05</td>\n",
              "    </tr>\n",
              "    <tr>\n",
              "      <th>175</th>\n",
              "      <td>127.10</td>\n",
              "      <td>122.6</td>\n",
              "      <td>59.0</td>\n",
              "      <td>91.45</td>\n",
              "      <td>6.614944e+05</td>\n",
              "    </tr>\n",
              "  </tbody>\n",
              "</table>\n",
              "</div>\n",
              "      <button class=\"colab-df-convert\" onclick=\"convertToInteractive('df-647ef4a3-9da1-4183-a41e-f31eab3c64d6')\"\n",
              "              title=\"Convert this dataframe to an interactive table.\"\n",
              "              style=\"display:none;\">\n",
              "        \n",
              "  <svg xmlns=\"http://www.w3.org/2000/svg\" height=\"24px\"viewBox=\"0 0 24 24\"\n",
              "       width=\"24px\">\n",
              "    <path d=\"M0 0h24v24H0V0z\" fill=\"none\"/>\n",
              "    <path d=\"M18.56 5.44l.94 2.06.94-2.06 2.06-.94-2.06-.94-.94-2.06-.94 2.06-2.06.94zm-11 1L8.5 8.5l.94-2.06 2.06-.94-2.06-.94L8.5 2.5l-.94 2.06-2.06.94zm10 10l.94 2.06.94-2.06 2.06-.94-2.06-.94-.94-2.06-.94 2.06-2.06.94z\"/><path d=\"M17.41 7.96l-1.37-1.37c-.4-.4-.92-.59-1.43-.59-.52 0-1.04.2-1.43.59L10.3 9.45l-7.72 7.72c-.78.78-.78 2.05 0 2.83L4 21.41c.39.39.9.59 1.41.59.51 0 1.02-.2 1.41-.59l7.78-7.78 2.81-2.81c.8-.78.8-2.07 0-2.86zM5.41 20L4 18.59l7.72-7.72 1.47 1.35L5.41 20z\"/>\n",
              "  </svg>\n",
              "      </button>\n",
              "      \n",
              "  <style>\n",
              "    .colab-df-container {\n",
              "      display:flex;\n",
              "      flex-wrap:wrap;\n",
              "      gap: 12px;\n",
              "    }\n",
              "\n",
              "    .colab-df-convert {\n",
              "      background-color: #E8F0FE;\n",
              "      border: none;\n",
              "      border-radius: 50%;\n",
              "      cursor: pointer;\n",
              "      display: none;\n",
              "      fill: #1967D2;\n",
              "      height: 32px;\n",
              "      padding: 0 0 0 0;\n",
              "      width: 32px;\n",
              "    }\n",
              "\n",
              "    .colab-df-convert:hover {\n",
              "      background-color: #E2EBFA;\n",
              "      box-shadow: 0px 1px 2px rgba(60, 64, 67, 0.3), 0px 1px 3px 1px rgba(60, 64, 67, 0.15);\n",
              "      fill: #174EA6;\n",
              "    }\n",
              "\n",
              "    [theme=dark] .colab-df-convert {\n",
              "      background-color: #3B4455;\n",
              "      fill: #D2E3FC;\n",
              "    }\n",
              "\n",
              "    [theme=dark] .colab-df-convert:hover {\n",
              "      background-color: #434B5C;\n",
              "      box-shadow: 0px 1px 3px 1px rgba(0, 0, 0, 0.15);\n",
              "      filter: drop-shadow(0px 1px 2px rgba(0, 0, 0, 0.3));\n",
              "      fill: #FFFFFF;\n",
              "    }\n",
              "  </style>\n",
              "\n",
              "      <script>\n",
              "        const buttonEl =\n",
              "          document.querySelector('#df-647ef4a3-9da1-4183-a41e-f31eab3c64d6 button.colab-df-convert');\n",
              "        buttonEl.style.display =\n",
              "          google.colab.kernel.accessAllowed ? 'block' : 'none';\n",
              "\n",
              "        async function convertToInteractive(key) {\n",
              "          const element = document.querySelector('#df-647ef4a3-9da1-4183-a41e-f31eab3c64d6');\n",
              "          const dataTable =\n",
              "            await google.colab.kernel.invokeFunction('convertToInteractive',\n",
              "                                                     [key], {});\n",
              "          if (!dataTable) return;\n",
              "\n",
              "          const docLinkHtml = 'Like what you see? Visit the ' +\n",
              "            '<a target=\"_blank\" href=https://colab.research.google.com/notebooks/data_table.ipynb>data table notebook</a>'\n",
              "            + ' to learn more about interactive tables.';\n",
              "          element.innerHTML = '';\n",
              "          dataTable['output_type'] = 'display_data';\n",
              "          await google.colab.output.renderOutput(dataTable, element);\n",
              "          const docLink = document.createElement('div');\n",
              "          docLink.innerHTML = docLinkHtml;\n",
              "          element.appendChild(docLink);\n",
              "        }\n",
              "      </script>\n",
              "    </div>\n",
              "  </div>\n",
              "  "
            ]
          },
          "metadata": {},
          "execution_count": 12
        }
      ]
    },
    {
      "cell_type": "code",
      "source": [
        "# Print the shapes of the training and testing sets\n",
        "print(\"Training set shape:\", X_train.shape, y_train.shape)\n",
        "print(\"Testing set shape:\", X_test.shape, y_test.shape)"
      ],
      "metadata": {
        "colab": {
          "base_uri": "https://localhost:8080/"
        },
        "id": "W8hj1LfkVCQm",
        "outputId": "f8e3daf2-13f9-4073-9dfa-227a7dfd4ffa"
      },
      "execution_count": 13,
      "outputs": [
        {
          "output_type": "stream",
          "name": "stdout",
          "text": [
            "Training set shape: (173, 5) (173,)\n",
            "Testing set shape: (44, 5) (44,)\n"
          ]
        }
      ]
    },
    {
      "cell_type": "code",
      "source": [
        "test=df.head(13)"
      ],
      "metadata": {
        "id": "dwcBHuW9NGOM"
      },
      "execution_count": 15,
      "outputs": []
    },
    {
      "cell_type": "code",
      "source": [
        "test"
      ],
      "metadata": {
        "colab": {
          "base_uri": "https://localhost:8080/",
          "height": 457
        },
        "id": "zdzTPk8iY2rc",
        "outputId": "cf66f051-ef70-4f05-bdce-29d5917c3e0a"
      },
      "execution_count": 16,
      "outputs": [
        {
          "output_type": "execute_result",
          "data": {
            "text/plain": [
              "                                                 name  price (in $ )  x(mm)  \\\n",
              "0                                           first.stl          33.92  138.0   \n",
              "1                                          hello.step         160.63  240.0   \n",
              "2            7772686460MainAssemblycontrolswitch1.STL         154.38   70.0   \n",
              "3                                          second.stl          43.97   46.5   \n",
              "4   19202101113Prusai3MK3SLaserMountforOptLasersGr...          40.29   85.0   \n",
              "5     8882777268MDO1312Shallow14InsertDivider25x4.stl          14.55   46.5   \n",
              "6                             6662595653LampPost3.stl         276.48  213.0   \n",
              "7   9488827772MDO1318Medium2InsertDivider333Point.stl          53.63   95.0   \n",
              "8                      3131019488revisitedsupport.stl          19.79  118.3   \n",
              "9                                  2121212121ball.stl          72.65   68.0   \n",
              "10                       5351039690RevolvingCaddy.stl        1414.38  245.0   \n",
              "11       8983787369MDO1313Short1InsertDivider25x4.stl          45.61   46.5   \n",
              "12                         3938373635Ensamblaje1.STEP        1492.19  270.0   \n",
              "\n",
              "    y(mm)  z(mm)  dimension (mm)      Finish technolgy  \\\n",
              "0    34.0   14.5        68034.00  No Finish        FDM   \n",
              "1    70.5   28.0       473760.00  No Finish        FDM   \n",
              "2    60.0   60.0       252000.00  No Finish        FDM   \n",
              "3    45.0   40.8        85374.00  No Finish        FDM   \n",
              "4    42.0   20.0        71400.00  No Finish        FDM   \n",
              "5    40.8    7.5        14229.00  No Finish        FDM   \n",
              "6    37.0   33.0       260073.00  No Finish        FDM   \n",
              "7    46.5   40.8       180234.00  No Finish        FDM   \n",
              "8    11.0    7.3         9499.49  No Finish        FDM   \n",
              "9    68.0   29.9       138257.60  No Finish        FDM   \n",
              "10  150.0  150.0      5512500.00  No Finish        FDM   \n",
              "11   45.0   40.8        85374.00  No Finish        FDM   \n",
              "12  269.6  181.0     13175352.00  No Finish        FDM   \n",
              "\n",
              "                     material  color     Process  \n",
              "0   ABS(standard transparent)  black  3Dprinting  \n",
              "1                         ABS  black  3Dprinting  \n",
              "2                         ABS  black  3Dprinting  \n",
              "3                         ABS  black  3Dprinting  \n",
              "4                         ABS  black  3Dprinting  \n",
              "5                         ABS  black  3Dprinting  \n",
              "6                         ABS  black  3Dprinting  \n",
              "7                         ABS  black  3Dprinting  \n",
              "8                         ABS  black  3Dprinting  \n",
              "9                         ABS  black  3Dprinting  \n",
              "10                        ABS  black  3Dprinting  \n",
              "11                        ABS  black  3Dprinting  \n",
              "12                        ABS  black  3Dprinting  "
            ],
            "text/html": [
              "\n",
              "  <div id=\"df-beb3ae0a-4bc2-4197-804c-3edfd812ce66\">\n",
              "    <div class=\"colab-df-container\">\n",
              "      <div>\n",
              "<style scoped>\n",
              "    .dataframe tbody tr th:only-of-type {\n",
              "        vertical-align: middle;\n",
              "    }\n",
              "\n",
              "    .dataframe tbody tr th {\n",
              "        vertical-align: top;\n",
              "    }\n",
              "\n",
              "    .dataframe thead th {\n",
              "        text-align: right;\n",
              "    }\n",
              "</style>\n",
              "<table border=\"1\" class=\"dataframe\">\n",
              "  <thead>\n",
              "    <tr style=\"text-align: right;\">\n",
              "      <th></th>\n",
              "      <th>name</th>\n",
              "      <th>price (in $ )</th>\n",
              "      <th>x(mm)</th>\n",
              "      <th>y(mm)</th>\n",
              "      <th>z(mm)</th>\n",
              "      <th>dimension (mm)</th>\n",
              "      <th>Finish</th>\n",
              "      <th>technolgy</th>\n",
              "      <th>material</th>\n",
              "      <th>color</th>\n",
              "      <th>Process</th>\n",
              "    </tr>\n",
              "  </thead>\n",
              "  <tbody>\n",
              "    <tr>\n",
              "      <th>0</th>\n",
              "      <td>first.stl</td>\n",
              "      <td>33.92</td>\n",
              "      <td>138.0</td>\n",
              "      <td>34.0</td>\n",
              "      <td>14.5</td>\n",
              "      <td>68034.00</td>\n",
              "      <td>No Finish</td>\n",
              "      <td>FDM</td>\n",
              "      <td>ABS(standard transparent)</td>\n",
              "      <td>black</td>\n",
              "      <td>3Dprinting</td>\n",
              "    </tr>\n",
              "    <tr>\n",
              "      <th>1</th>\n",
              "      <td>hello.step</td>\n",
              "      <td>160.63</td>\n",
              "      <td>240.0</td>\n",
              "      <td>70.5</td>\n",
              "      <td>28.0</td>\n",
              "      <td>473760.00</td>\n",
              "      <td>No Finish</td>\n",
              "      <td>FDM</td>\n",
              "      <td>ABS</td>\n",
              "      <td>black</td>\n",
              "      <td>3Dprinting</td>\n",
              "    </tr>\n",
              "    <tr>\n",
              "      <th>2</th>\n",
              "      <td>7772686460MainAssemblycontrolswitch1.STL</td>\n",
              "      <td>154.38</td>\n",
              "      <td>70.0</td>\n",
              "      <td>60.0</td>\n",
              "      <td>60.0</td>\n",
              "      <td>252000.00</td>\n",
              "      <td>No Finish</td>\n",
              "      <td>FDM</td>\n",
              "      <td>ABS</td>\n",
              "      <td>black</td>\n",
              "      <td>3Dprinting</td>\n",
              "    </tr>\n",
              "    <tr>\n",
              "      <th>3</th>\n",
              "      <td>second.stl</td>\n",
              "      <td>43.97</td>\n",
              "      <td>46.5</td>\n",
              "      <td>45.0</td>\n",
              "      <td>40.8</td>\n",
              "      <td>85374.00</td>\n",
              "      <td>No Finish</td>\n",
              "      <td>FDM</td>\n",
              "      <td>ABS</td>\n",
              "      <td>black</td>\n",
              "      <td>3Dprinting</td>\n",
              "    </tr>\n",
              "    <tr>\n",
              "      <th>4</th>\n",
              "      <td>19202101113Prusai3MK3SLaserMountforOptLasersGr...</td>\n",
              "      <td>40.29</td>\n",
              "      <td>85.0</td>\n",
              "      <td>42.0</td>\n",
              "      <td>20.0</td>\n",
              "      <td>71400.00</td>\n",
              "      <td>No Finish</td>\n",
              "      <td>FDM</td>\n",
              "      <td>ABS</td>\n",
              "      <td>black</td>\n",
              "      <td>3Dprinting</td>\n",
              "    </tr>\n",
              "    <tr>\n",
              "      <th>5</th>\n",
              "      <td>8882777268MDO1312Shallow14InsertDivider25x4.stl</td>\n",
              "      <td>14.55</td>\n",
              "      <td>46.5</td>\n",
              "      <td>40.8</td>\n",
              "      <td>7.5</td>\n",
              "      <td>14229.00</td>\n",
              "      <td>No Finish</td>\n",
              "      <td>FDM</td>\n",
              "      <td>ABS</td>\n",
              "      <td>black</td>\n",
              "      <td>3Dprinting</td>\n",
              "    </tr>\n",
              "    <tr>\n",
              "      <th>6</th>\n",
              "      <td>6662595653LampPost3.stl</td>\n",
              "      <td>276.48</td>\n",
              "      <td>213.0</td>\n",
              "      <td>37.0</td>\n",
              "      <td>33.0</td>\n",
              "      <td>260073.00</td>\n",
              "      <td>No Finish</td>\n",
              "      <td>FDM</td>\n",
              "      <td>ABS</td>\n",
              "      <td>black</td>\n",
              "      <td>3Dprinting</td>\n",
              "    </tr>\n",
              "    <tr>\n",
              "      <th>7</th>\n",
              "      <td>9488827772MDO1318Medium2InsertDivider333Point.stl</td>\n",
              "      <td>53.63</td>\n",
              "      <td>95.0</td>\n",
              "      <td>46.5</td>\n",
              "      <td>40.8</td>\n",
              "      <td>180234.00</td>\n",
              "      <td>No Finish</td>\n",
              "      <td>FDM</td>\n",
              "      <td>ABS</td>\n",
              "      <td>black</td>\n",
              "      <td>3Dprinting</td>\n",
              "    </tr>\n",
              "    <tr>\n",
              "      <th>8</th>\n",
              "      <td>3131019488revisitedsupport.stl</td>\n",
              "      <td>19.79</td>\n",
              "      <td>118.3</td>\n",
              "      <td>11.0</td>\n",
              "      <td>7.3</td>\n",
              "      <td>9499.49</td>\n",
              "      <td>No Finish</td>\n",
              "      <td>FDM</td>\n",
              "      <td>ABS</td>\n",
              "      <td>black</td>\n",
              "      <td>3Dprinting</td>\n",
              "    </tr>\n",
              "    <tr>\n",
              "      <th>9</th>\n",
              "      <td>2121212121ball.stl</td>\n",
              "      <td>72.65</td>\n",
              "      <td>68.0</td>\n",
              "      <td>68.0</td>\n",
              "      <td>29.9</td>\n",
              "      <td>138257.60</td>\n",
              "      <td>No Finish</td>\n",
              "      <td>FDM</td>\n",
              "      <td>ABS</td>\n",
              "      <td>black</td>\n",
              "      <td>3Dprinting</td>\n",
              "    </tr>\n",
              "    <tr>\n",
              "      <th>10</th>\n",
              "      <td>5351039690RevolvingCaddy.stl</td>\n",
              "      <td>1414.38</td>\n",
              "      <td>245.0</td>\n",
              "      <td>150.0</td>\n",
              "      <td>150.0</td>\n",
              "      <td>5512500.00</td>\n",
              "      <td>No Finish</td>\n",
              "      <td>FDM</td>\n",
              "      <td>ABS</td>\n",
              "      <td>black</td>\n",
              "      <td>3Dprinting</td>\n",
              "    </tr>\n",
              "    <tr>\n",
              "      <th>11</th>\n",
              "      <td>8983787369MDO1313Short1InsertDivider25x4.stl</td>\n",
              "      <td>45.61</td>\n",
              "      <td>46.5</td>\n",
              "      <td>45.0</td>\n",
              "      <td>40.8</td>\n",
              "      <td>85374.00</td>\n",
              "      <td>No Finish</td>\n",
              "      <td>FDM</td>\n",
              "      <td>ABS</td>\n",
              "      <td>black</td>\n",
              "      <td>3Dprinting</td>\n",
              "    </tr>\n",
              "    <tr>\n",
              "      <th>12</th>\n",
              "      <td>3938373635Ensamblaje1.STEP</td>\n",
              "      <td>1492.19</td>\n",
              "      <td>270.0</td>\n",
              "      <td>269.6</td>\n",
              "      <td>181.0</td>\n",
              "      <td>13175352.00</td>\n",
              "      <td>No Finish</td>\n",
              "      <td>FDM</td>\n",
              "      <td>ABS</td>\n",
              "      <td>black</td>\n",
              "      <td>3Dprinting</td>\n",
              "    </tr>\n",
              "  </tbody>\n",
              "</table>\n",
              "</div>\n",
              "      <button class=\"colab-df-convert\" onclick=\"convertToInteractive('df-beb3ae0a-4bc2-4197-804c-3edfd812ce66')\"\n",
              "              title=\"Convert this dataframe to an interactive table.\"\n",
              "              style=\"display:none;\">\n",
              "        \n",
              "  <svg xmlns=\"http://www.w3.org/2000/svg\" height=\"24px\"viewBox=\"0 0 24 24\"\n",
              "       width=\"24px\">\n",
              "    <path d=\"M0 0h24v24H0V0z\" fill=\"none\"/>\n",
              "    <path d=\"M18.56 5.44l.94 2.06.94-2.06 2.06-.94-2.06-.94-.94-2.06-.94 2.06-2.06.94zm-11 1L8.5 8.5l.94-2.06 2.06-.94-2.06-.94L8.5 2.5l-.94 2.06-2.06.94zm10 10l.94 2.06.94-2.06 2.06-.94-2.06-.94-.94-2.06-.94 2.06-2.06.94z\"/><path d=\"M17.41 7.96l-1.37-1.37c-.4-.4-.92-.59-1.43-.59-.52 0-1.04.2-1.43.59L10.3 9.45l-7.72 7.72c-.78.78-.78 2.05 0 2.83L4 21.41c.39.39.9.59 1.41.59.51 0 1.02-.2 1.41-.59l7.78-7.78 2.81-2.81c.8-.78.8-2.07 0-2.86zM5.41 20L4 18.59l7.72-7.72 1.47 1.35L5.41 20z\"/>\n",
              "  </svg>\n",
              "      </button>\n",
              "      \n",
              "  <style>\n",
              "    .colab-df-container {\n",
              "      display:flex;\n",
              "      flex-wrap:wrap;\n",
              "      gap: 12px;\n",
              "    }\n",
              "\n",
              "    .colab-df-convert {\n",
              "      background-color: #E8F0FE;\n",
              "      border: none;\n",
              "      border-radius: 50%;\n",
              "      cursor: pointer;\n",
              "      display: none;\n",
              "      fill: #1967D2;\n",
              "      height: 32px;\n",
              "      padding: 0 0 0 0;\n",
              "      width: 32px;\n",
              "    }\n",
              "\n",
              "    .colab-df-convert:hover {\n",
              "      background-color: #E2EBFA;\n",
              "      box-shadow: 0px 1px 2px rgba(60, 64, 67, 0.3), 0px 1px 3px 1px rgba(60, 64, 67, 0.15);\n",
              "      fill: #174EA6;\n",
              "    }\n",
              "\n",
              "    [theme=dark] .colab-df-convert {\n",
              "      background-color: #3B4455;\n",
              "      fill: #D2E3FC;\n",
              "    }\n",
              "\n",
              "    [theme=dark] .colab-df-convert:hover {\n",
              "      background-color: #434B5C;\n",
              "      box-shadow: 0px 1px 3px 1px rgba(0, 0, 0, 0.15);\n",
              "      filter: drop-shadow(0px 1px 2px rgba(0, 0, 0, 0.3));\n",
              "      fill: #FFFFFF;\n",
              "    }\n",
              "  </style>\n",
              "\n",
              "      <script>\n",
              "        const buttonEl =\n",
              "          document.querySelector('#df-beb3ae0a-4bc2-4197-804c-3edfd812ce66 button.colab-df-convert');\n",
              "        buttonEl.style.display =\n",
              "          google.colab.kernel.accessAllowed ? 'block' : 'none';\n",
              "\n",
              "        async function convertToInteractive(key) {\n",
              "          const element = document.querySelector('#df-beb3ae0a-4bc2-4197-804c-3edfd812ce66');\n",
              "          const dataTable =\n",
              "            await google.colab.kernel.invokeFunction('convertToInteractive',\n",
              "                                                     [key], {});\n",
              "          if (!dataTable) return;\n",
              "\n",
              "          const docLinkHtml = 'Like what you see? Visit the ' +\n",
              "            '<a target=\"_blank\" href=https://colab.research.google.com/notebooks/data_table.ipynb>data table notebook</a>'\n",
              "            + ' to learn more about interactive tables.';\n",
              "          element.innerHTML = '';\n",
              "          dataTable['output_type'] = 'display_data';\n",
              "          await google.colab.output.renderOutput(dataTable, element);\n",
              "          const docLink = document.createElement('div');\n",
              "          docLink.innerHTML = docLinkHtml;\n",
              "          element.appendChild(docLink);\n",
              "        }\n",
              "      </script>\n",
              "    </div>\n",
              "  </div>\n",
              "  "
            ]
          },
          "metadata": {},
          "execution_count": 16
        }
      ]
    },
    {
      "cell_type": "code",
      "source": [
        "df['price (in $ )'][12]=1492.19"
      ],
      "metadata": {
        "colab": {
          "base_uri": "https://localhost:8080/"
        },
        "id": "bdbA7m_tZCI3",
        "outputId": "aef88301-2d28-4d38-9f95-f9e4f3760384"
      },
      "execution_count": 17,
      "outputs": [
        {
          "output_type": "stream",
          "name": "stderr",
          "text": [
            "<ipython-input-17-0231598352eb>:1: SettingWithCopyWarning: \n",
            "A value is trying to be set on a copy of a slice from a DataFrame\n",
            "\n",
            "See the caveats in the documentation: https://pandas.pydata.org/pandas-docs/stable/user_guide/indexing.html#returning-a-view-versus-a-copy\n",
            "  df['price (in $ )'][12]=1492.19\n"
          ]
        }
      ]
    },
    {
      "cell_type": "code",
      "source": [
        "df['price (in $ )'][12]"
      ],
      "metadata": {
        "colab": {
          "base_uri": "https://localhost:8080/"
        },
        "id": "fPVOsr31ZXrD",
        "outputId": "304f0d7a-d6f3-4515-d582-a455bc4a1ca7"
      },
      "execution_count": 18,
      "outputs": [
        {
          "output_type": "execute_result",
          "data": {
            "text/plain": [
              "1492.19"
            ]
          },
          "metadata": {},
          "execution_count": 18
        }
      ]
    },
    {
      "cell_type": "code",
      "source": [
        "#Data Preprocessing\n",
        "scaler = StandardScaler()\n",
        "X_train_scaled = scaler.fit_transform(X_train)\n",
        "X_test_scaled = scaler.transform(X_test)"
      ],
      "metadata": {
        "id": "KKkn-MfGF2Et"
      },
      "execution_count": 19,
      "outputs": []
    },
    {
      "cell_type": "code",
      "source": [
        "X_test"
      ],
      "metadata": {
        "colab": {
          "base_uri": "https://localhost:8080/",
          "height": 1000
        },
        "id": "dJ_M4SXvZ3NI",
        "outputId": "40588bc0-92af-47f9-fa1d-416fc9b232c8"
      },
      "execution_count": 20,
      "outputs": [
        {
          "output_type": "execute_result",
          "data": {
            "text/plain": [
              "     price (in $ )  x(mm)  y(mm)   z(mm)  dimension (mm)\n",
              "202          31.43  149.8   99.0    4.00    5.932080e+04\n",
              "92            4.60   15.3    2.6    1.00    3.978000e+01\n",
              "81          823.16  218.4  123.5  123.50    3.331091e+06\n",
              "54           14.59   44.0   44.0    7.00    1.355200e+04\n",
              "176          22.38   97.9   97.9    9.30    8.913501e+04\n",
              "208         514.17  178.9  149.1  123.70    3.299573e+06\n",
              "169          88.04  131.5  105.5   66.30    9.197965e+05\n",
              "28          329.50  219.8  144.0  131.80    4.171628e+06\n",
              "74           56.72  149.0  149.0    7.00    1.554070e+05\n",
              "39           58.74  193.3   50.1   37.00    3.583202e+05\n",
              "91            7.20   19.1   14.3    3.70    1.010581e+03\n",
              "108         185.85  210.0   40.0   40.00    3.360000e+05\n",
              "187          74.42  116.9   58.0   48.00    3.254496e+05\n",
              "139         149.90  169.1   68.3   39.10    4.515866e+05\n",
              "65           31.33  108.0  108.0    7.00    8.164800e+04\n",
              "63           38.83  124.9   79.8   15.20    1.514987e+05\n",
              "189         464.27  167.0  108.9  108.00    1.964120e+06\n",
              "154          38.23  176.0  176.0   24.50    7.589120e+05\n",
              "49           43.32   34.0   34.0   33.90    3.918840e+04\n",
              "82           72.46  103.0   73.0   45.10    3.391069e+05\n",
              "21            5.31   14.0   14.0    2.00    3.920000e+02\n",
              "94            8.65   19.1   17.2    5.30    1.741156e+03\n",
              "207          69.91   75.1   56.9   56.90    2.431445e+05\n",
              "146          11.37   34.3   20.1    7.30    5.032839e+03\n",
              "33           11.18   18.0   18.0    8.00    2.592000e+03\n",
              "198          70.83  204.5  186.4   24.70    9.415344e+05\n",
              "192          91.37  101.5   62.7   62.60    3.983895e+05\n",
              "172          54.27   60.0   42.5   40.70    1.037850e+05\n",
              "95            8.05   15.7   15.7    5.00    1.232450e+03\n",
              "151           8.45   46.0   33.5   33.10    5.100710e+04\n",
              "6           276.48  213.0   37.0   33.00    2.600730e+05\n",
              "29           26.44  150.0   10.0    8.00    1.200000e+04\n",
              "148         188.89  431.6  345.6  158.40    2.362710e+07\n",
              "37           44.46  270.0   30.0    5.00    4.050000e+04\n",
              "178          26.41   29.2   25.4   20.40    1.513027e+04\n",
              "70           18.31   24.1   16.9   15.00    6.109350e+03\n",
              "210          19.81   35.8   25.5   17.10    1.561059e+04\n",
              "23           21.87   31.2   21.1   17.80    1.171810e+04\n",
              "155         270.67  115.0  113.5   99.00    1.292198e+06\n",
              "36           27.23  102.9   30.9    8.00    2.543688e+04\n",
              "85            4.01    9.8    9.8    1.00    9.604000e+01\n",
              "48           21.12   24.7   19.1   19.10    9.010807e+03\n",
              "173          62.12   79.6  160.3   36.30    4.631836e+05\n",
              "175         127.10  122.6   59.0   91.45    6.614944e+05"
            ],
            "text/html": [
              "\n",
              "  <div id=\"df-71c7e20d-790e-4122-a6e7-6d7027f1b4ec\">\n",
              "    <div class=\"colab-df-container\">\n",
              "      <div>\n",
              "<style scoped>\n",
              "    .dataframe tbody tr th:only-of-type {\n",
              "        vertical-align: middle;\n",
              "    }\n",
              "\n",
              "    .dataframe tbody tr th {\n",
              "        vertical-align: top;\n",
              "    }\n",
              "\n",
              "    .dataframe thead th {\n",
              "        text-align: right;\n",
              "    }\n",
              "</style>\n",
              "<table border=\"1\" class=\"dataframe\">\n",
              "  <thead>\n",
              "    <tr style=\"text-align: right;\">\n",
              "      <th></th>\n",
              "      <th>price (in $ )</th>\n",
              "      <th>x(mm)</th>\n",
              "      <th>y(mm)</th>\n",
              "      <th>z(mm)</th>\n",
              "      <th>dimension (mm)</th>\n",
              "    </tr>\n",
              "  </thead>\n",
              "  <tbody>\n",
              "    <tr>\n",
              "      <th>202</th>\n",
              "      <td>31.43</td>\n",
              "      <td>149.8</td>\n",
              "      <td>99.0</td>\n",
              "      <td>4.00</td>\n",
              "      <td>5.932080e+04</td>\n",
              "    </tr>\n",
              "    <tr>\n",
              "      <th>92</th>\n",
              "      <td>4.60</td>\n",
              "      <td>15.3</td>\n",
              "      <td>2.6</td>\n",
              "      <td>1.00</td>\n",
              "      <td>3.978000e+01</td>\n",
              "    </tr>\n",
              "    <tr>\n",
              "      <th>81</th>\n",
              "      <td>823.16</td>\n",
              "      <td>218.4</td>\n",
              "      <td>123.5</td>\n",
              "      <td>123.50</td>\n",
              "      <td>3.331091e+06</td>\n",
              "    </tr>\n",
              "    <tr>\n",
              "      <th>54</th>\n",
              "      <td>14.59</td>\n",
              "      <td>44.0</td>\n",
              "      <td>44.0</td>\n",
              "      <td>7.00</td>\n",
              "      <td>1.355200e+04</td>\n",
              "    </tr>\n",
              "    <tr>\n",
              "      <th>176</th>\n",
              "      <td>22.38</td>\n",
              "      <td>97.9</td>\n",
              "      <td>97.9</td>\n",
              "      <td>9.30</td>\n",
              "      <td>8.913501e+04</td>\n",
              "    </tr>\n",
              "    <tr>\n",
              "      <th>208</th>\n",
              "      <td>514.17</td>\n",
              "      <td>178.9</td>\n",
              "      <td>149.1</td>\n",
              "      <td>123.70</td>\n",
              "      <td>3.299573e+06</td>\n",
              "    </tr>\n",
              "    <tr>\n",
              "      <th>169</th>\n",
              "      <td>88.04</td>\n",
              "      <td>131.5</td>\n",
              "      <td>105.5</td>\n",
              "      <td>66.30</td>\n",
              "      <td>9.197965e+05</td>\n",
              "    </tr>\n",
              "    <tr>\n",
              "      <th>28</th>\n",
              "      <td>329.50</td>\n",
              "      <td>219.8</td>\n",
              "      <td>144.0</td>\n",
              "      <td>131.80</td>\n",
              "      <td>4.171628e+06</td>\n",
              "    </tr>\n",
              "    <tr>\n",
              "      <th>74</th>\n",
              "      <td>56.72</td>\n",
              "      <td>149.0</td>\n",
              "      <td>149.0</td>\n",
              "      <td>7.00</td>\n",
              "      <td>1.554070e+05</td>\n",
              "    </tr>\n",
              "    <tr>\n",
              "      <th>39</th>\n",
              "      <td>58.74</td>\n",
              "      <td>193.3</td>\n",
              "      <td>50.1</td>\n",
              "      <td>37.00</td>\n",
              "      <td>3.583202e+05</td>\n",
              "    </tr>\n",
              "    <tr>\n",
              "      <th>91</th>\n",
              "      <td>7.20</td>\n",
              "      <td>19.1</td>\n",
              "      <td>14.3</td>\n",
              "      <td>3.70</td>\n",
              "      <td>1.010581e+03</td>\n",
              "    </tr>\n",
              "    <tr>\n",
              "      <th>108</th>\n",
              "      <td>185.85</td>\n",
              "      <td>210.0</td>\n",
              "      <td>40.0</td>\n",
              "      <td>40.00</td>\n",
              "      <td>3.360000e+05</td>\n",
              "    </tr>\n",
              "    <tr>\n",
              "      <th>187</th>\n",
              "      <td>74.42</td>\n",
              "      <td>116.9</td>\n",
              "      <td>58.0</td>\n",
              "      <td>48.00</td>\n",
              "      <td>3.254496e+05</td>\n",
              "    </tr>\n",
              "    <tr>\n",
              "      <th>139</th>\n",
              "      <td>149.90</td>\n",
              "      <td>169.1</td>\n",
              "      <td>68.3</td>\n",
              "      <td>39.10</td>\n",
              "      <td>4.515866e+05</td>\n",
              "    </tr>\n",
              "    <tr>\n",
              "      <th>65</th>\n",
              "      <td>31.33</td>\n",
              "      <td>108.0</td>\n",
              "      <td>108.0</td>\n",
              "      <td>7.00</td>\n",
              "      <td>8.164800e+04</td>\n",
              "    </tr>\n",
              "    <tr>\n",
              "      <th>63</th>\n",
              "      <td>38.83</td>\n",
              "      <td>124.9</td>\n",
              "      <td>79.8</td>\n",
              "      <td>15.20</td>\n",
              "      <td>1.514987e+05</td>\n",
              "    </tr>\n",
              "    <tr>\n",
              "      <th>189</th>\n",
              "      <td>464.27</td>\n",
              "      <td>167.0</td>\n",
              "      <td>108.9</td>\n",
              "      <td>108.00</td>\n",
              "      <td>1.964120e+06</td>\n",
              "    </tr>\n",
              "    <tr>\n",
              "      <th>154</th>\n",
              "      <td>38.23</td>\n",
              "      <td>176.0</td>\n",
              "      <td>176.0</td>\n",
              "      <td>24.50</td>\n",
              "      <td>7.589120e+05</td>\n",
              "    </tr>\n",
              "    <tr>\n",
              "      <th>49</th>\n",
              "      <td>43.32</td>\n",
              "      <td>34.0</td>\n",
              "      <td>34.0</td>\n",
              "      <td>33.90</td>\n",
              "      <td>3.918840e+04</td>\n",
              "    </tr>\n",
              "    <tr>\n",
              "      <th>82</th>\n",
              "      <td>72.46</td>\n",
              "      <td>103.0</td>\n",
              "      <td>73.0</td>\n",
              "      <td>45.10</td>\n",
              "      <td>3.391069e+05</td>\n",
              "    </tr>\n",
              "    <tr>\n",
              "      <th>21</th>\n",
              "      <td>5.31</td>\n",
              "      <td>14.0</td>\n",
              "      <td>14.0</td>\n",
              "      <td>2.00</td>\n",
              "      <td>3.920000e+02</td>\n",
              "    </tr>\n",
              "    <tr>\n",
              "      <th>94</th>\n",
              "      <td>8.65</td>\n",
              "      <td>19.1</td>\n",
              "      <td>17.2</td>\n",
              "      <td>5.30</td>\n",
              "      <td>1.741156e+03</td>\n",
              "    </tr>\n",
              "    <tr>\n",
              "      <th>207</th>\n",
              "      <td>69.91</td>\n",
              "      <td>75.1</td>\n",
              "      <td>56.9</td>\n",
              "      <td>56.90</td>\n",
              "      <td>2.431445e+05</td>\n",
              "    </tr>\n",
              "    <tr>\n",
              "      <th>146</th>\n",
              "      <td>11.37</td>\n",
              "      <td>34.3</td>\n",
              "      <td>20.1</td>\n",
              "      <td>7.30</td>\n",
              "      <td>5.032839e+03</td>\n",
              "    </tr>\n",
              "    <tr>\n",
              "      <th>33</th>\n",
              "      <td>11.18</td>\n",
              "      <td>18.0</td>\n",
              "      <td>18.0</td>\n",
              "      <td>8.00</td>\n",
              "      <td>2.592000e+03</td>\n",
              "    </tr>\n",
              "    <tr>\n",
              "      <th>198</th>\n",
              "      <td>70.83</td>\n",
              "      <td>204.5</td>\n",
              "      <td>186.4</td>\n",
              "      <td>24.70</td>\n",
              "      <td>9.415344e+05</td>\n",
              "    </tr>\n",
              "    <tr>\n",
              "      <th>192</th>\n",
              "      <td>91.37</td>\n",
              "      <td>101.5</td>\n",
              "      <td>62.7</td>\n",
              "      <td>62.60</td>\n",
              "      <td>3.983895e+05</td>\n",
              "    </tr>\n",
              "    <tr>\n",
              "      <th>172</th>\n",
              "      <td>54.27</td>\n",
              "      <td>60.0</td>\n",
              "      <td>42.5</td>\n",
              "      <td>40.70</td>\n",
              "      <td>1.037850e+05</td>\n",
              "    </tr>\n",
              "    <tr>\n",
              "      <th>95</th>\n",
              "      <td>8.05</td>\n",
              "      <td>15.7</td>\n",
              "      <td>15.7</td>\n",
              "      <td>5.00</td>\n",
              "      <td>1.232450e+03</td>\n",
              "    </tr>\n",
              "    <tr>\n",
              "      <th>151</th>\n",
              "      <td>8.45</td>\n",
              "      <td>46.0</td>\n",
              "      <td>33.5</td>\n",
              "      <td>33.10</td>\n",
              "      <td>5.100710e+04</td>\n",
              "    </tr>\n",
              "    <tr>\n",
              "      <th>6</th>\n",
              "      <td>276.48</td>\n",
              "      <td>213.0</td>\n",
              "      <td>37.0</td>\n",
              "      <td>33.00</td>\n",
              "      <td>2.600730e+05</td>\n",
              "    </tr>\n",
              "    <tr>\n",
              "      <th>29</th>\n",
              "      <td>26.44</td>\n",
              "      <td>150.0</td>\n",
              "      <td>10.0</td>\n",
              "      <td>8.00</td>\n",
              "      <td>1.200000e+04</td>\n",
              "    </tr>\n",
              "    <tr>\n",
              "      <th>148</th>\n",
              "      <td>188.89</td>\n",
              "      <td>431.6</td>\n",
              "      <td>345.6</td>\n",
              "      <td>158.40</td>\n",
              "      <td>2.362710e+07</td>\n",
              "    </tr>\n",
              "    <tr>\n",
              "      <th>37</th>\n",
              "      <td>44.46</td>\n",
              "      <td>270.0</td>\n",
              "      <td>30.0</td>\n",
              "      <td>5.00</td>\n",
              "      <td>4.050000e+04</td>\n",
              "    </tr>\n",
              "    <tr>\n",
              "      <th>178</th>\n",
              "      <td>26.41</td>\n",
              "      <td>29.2</td>\n",
              "      <td>25.4</td>\n",
              "      <td>20.40</td>\n",
              "      <td>1.513027e+04</td>\n",
              "    </tr>\n",
              "    <tr>\n",
              "      <th>70</th>\n",
              "      <td>18.31</td>\n",
              "      <td>24.1</td>\n",
              "      <td>16.9</td>\n",
              "      <td>15.00</td>\n",
              "      <td>6.109350e+03</td>\n",
              "    </tr>\n",
              "    <tr>\n",
              "      <th>210</th>\n",
              "      <td>19.81</td>\n",
              "      <td>35.8</td>\n",
              "      <td>25.5</td>\n",
              "      <td>17.10</td>\n",
              "      <td>1.561059e+04</td>\n",
              "    </tr>\n",
              "    <tr>\n",
              "      <th>23</th>\n",
              "      <td>21.87</td>\n",
              "      <td>31.2</td>\n",
              "      <td>21.1</td>\n",
              "      <td>17.80</td>\n",
              "      <td>1.171810e+04</td>\n",
              "    </tr>\n",
              "    <tr>\n",
              "      <th>155</th>\n",
              "      <td>270.67</td>\n",
              "      <td>115.0</td>\n",
              "      <td>113.5</td>\n",
              "      <td>99.00</td>\n",
              "      <td>1.292198e+06</td>\n",
              "    </tr>\n",
              "    <tr>\n",
              "      <th>36</th>\n",
              "      <td>27.23</td>\n",
              "      <td>102.9</td>\n",
              "      <td>30.9</td>\n",
              "      <td>8.00</td>\n",
              "      <td>2.543688e+04</td>\n",
              "    </tr>\n",
              "    <tr>\n",
              "      <th>85</th>\n",
              "      <td>4.01</td>\n",
              "      <td>9.8</td>\n",
              "      <td>9.8</td>\n",
              "      <td>1.00</td>\n",
              "      <td>9.604000e+01</td>\n",
              "    </tr>\n",
              "    <tr>\n",
              "      <th>48</th>\n",
              "      <td>21.12</td>\n",
              "      <td>24.7</td>\n",
              "      <td>19.1</td>\n",
              "      <td>19.10</td>\n",
              "      <td>9.010807e+03</td>\n",
              "    </tr>\n",
              "    <tr>\n",
              "      <th>173</th>\n",
              "      <td>62.12</td>\n",
              "      <td>79.6</td>\n",
              "      <td>160.3</td>\n",
              "      <td>36.30</td>\n",
              "      <td>4.631836e+05</td>\n",
              "    </tr>\n",
              "    <tr>\n",
              "      <th>175</th>\n",
              "      <td>127.10</td>\n",
              "      <td>122.6</td>\n",
              "      <td>59.0</td>\n",
              "      <td>91.45</td>\n",
              "      <td>6.614944e+05</td>\n",
              "    </tr>\n",
              "  </tbody>\n",
              "</table>\n",
              "</div>\n",
              "      <button class=\"colab-df-convert\" onclick=\"convertToInteractive('df-71c7e20d-790e-4122-a6e7-6d7027f1b4ec')\"\n",
              "              title=\"Convert this dataframe to an interactive table.\"\n",
              "              style=\"display:none;\">\n",
              "        \n",
              "  <svg xmlns=\"http://www.w3.org/2000/svg\" height=\"24px\"viewBox=\"0 0 24 24\"\n",
              "       width=\"24px\">\n",
              "    <path d=\"M0 0h24v24H0V0z\" fill=\"none\"/>\n",
              "    <path d=\"M18.56 5.44l.94 2.06.94-2.06 2.06-.94-2.06-.94-.94-2.06-.94 2.06-2.06.94zm-11 1L8.5 8.5l.94-2.06 2.06-.94-2.06-.94L8.5 2.5l-.94 2.06-2.06.94zm10 10l.94 2.06.94-2.06 2.06-.94-2.06-.94-.94-2.06-.94 2.06-2.06.94z\"/><path d=\"M17.41 7.96l-1.37-1.37c-.4-.4-.92-.59-1.43-.59-.52 0-1.04.2-1.43.59L10.3 9.45l-7.72 7.72c-.78.78-.78 2.05 0 2.83L4 21.41c.39.39.9.59 1.41.59.51 0 1.02-.2 1.41-.59l7.78-7.78 2.81-2.81c.8-.78.8-2.07 0-2.86zM5.41 20L4 18.59l7.72-7.72 1.47 1.35L5.41 20z\"/>\n",
              "  </svg>\n",
              "      </button>\n",
              "      \n",
              "  <style>\n",
              "    .colab-df-container {\n",
              "      display:flex;\n",
              "      flex-wrap:wrap;\n",
              "      gap: 12px;\n",
              "    }\n",
              "\n",
              "    .colab-df-convert {\n",
              "      background-color: #E8F0FE;\n",
              "      border: none;\n",
              "      border-radius: 50%;\n",
              "      cursor: pointer;\n",
              "      display: none;\n",
              "      fill: #1967D2;\n",
              "      height: 32px;\n",
              "      padding: 0 0 0 0;\n",
              "      width: 32px;\n",
              "    }\n",
              "\n",
              "    .colab-df-convert:hover {\n",
              "      background-color: #E2EBFA;\n",
              "      box-shadow: 0px 1px 2px rgba(60, 64, 67, 0.3), 0px 1px 3px 1px rgba(60, 64, 67, 0.15);\n",
              "      fill: #174EA6;\n",
              "    }\n",
              "\n",
              "    [theme=dark] .colab-df-convert {\n",
              "      background-color: #3B4455;\n",
              "      fill: #D2E3FC;\n",
              "    }\n",
              "\n",
              "    [theme=dark] .colab-df-convert:hover {\n",
              "      background-color: #434B5C;\n",
              "      box-shadow: 0px 1px 3px 1px rgba(0, 0, 0, 0.15);\n",
              "      filter: drop-shadow(0px 1px 2px rgba(0, 0, 0, 0.3));\n",
              "      fill: #FFFFFF;\n",
              "    }\n",
              "  </style>\n",
              "\n",
              "      <script>\n",
              "        const buttonEl =\n",
              "          document.querySelector('#df-71c7e20d-790e-4122-a6e7-6d7027f1b4ec button.colab-df-convert');\n",
              "        buttonEl.style.display =\n",
              "          google.colab.kernel.accessAllowed ? 'block' : 'none';\n",
              "\n",
              "        async function convertToInteractive(key) {\n",
              "          const element = document.querySelector('#df-71c7e20d-790e-4122-a6e7-6d7027f1b4ec');\n",
              "          const dataTable =\n",
              "            await google.colab.kernel.invokeFunction('convertToInteractive',\n",
              "                                                     [key], {});\n",
              "          if (!dataTable) return;\n",
              "\n",
              "          const docLinkHtml = 'Like what you see? Visit the ' +\n",
              "            '<a target=\"_blank\" href=https://colab.research.google.com/notebooks/data_table.ipynb>data table notebook</a>'\n",
              "            + ' to learn more about interactive tables.';\n",
              "          element.innerHTML = '';\n",
              "          dataTable['output_type'] = 'display_data';\n",
              "          await google.colab.output.renderOutput(dataTable, element);\n",
              "          const docLink = document.createElement('div');\n",
              "          docLink.innerHTML = docLinkHtml;\n",
              "          element.appendChild(docLink);\n",
              "        }\n",
              "      </script>\n",
              "    </div>\n",
              "  </div>\n",
              "  "
            ]
          },
          "metadata": {},
          "execution_count": 20
        }
      ]
    },
    {
      "cell_type": "code",
      "source": [
        "df.isna().sum()"
      ],
      "metadata": {
        "colab": {
          "base_uri": "https://localhost:8080/"
        },
        "id": "OUIkAK23Z_iD",
        "outputId": "8eb602b2-81c9-4041-da21-99052b0786c9"
      },
      "execution_count": 21,
      "outputs": [
        {
          "output_type": "execute_result",
          "data": {
            "text/plain": [
              "name              0\n",
              "price (in $ )     0\n",
              "x(mm)             2\n",
              "y(mm)             2\n",
              "z(mm)             2\n",
              "dimension (mm)    2\n",
              "Finish            0\n",
              "technolgy         0\n",
              "material          0\n",
              "color             0\n",
              "Process           0\n",
              "dtype: int64"
            ]
          },
          "metadata": {},
          "execution_count": 21
        }
      ]
    },
    {
      "cell_type": "code",
      "source": [
        "def fillna(df,col):\n",
        "  df[col].fillna(df[col].astype(\"float64\").mean(), inplace = True)"
      ],
      "metadata": {
        "id": "ZYO1ckiVaDvo"
      },
      "execution_count": 22,
      "outputs": []
    },
    {
      "cell_type": "code",
      "source": [
        "fillna(df,'x(mm)')\n",
        "fillna(df,'y(mm)')\n",
        "fillna(df,'z(mm)')\n"
      ],
      "metadata": {
        "id": "4Cpk2bTdaJdl"
      },
      "execution_count": 23,
      "outputs": []
    },
    {
      "cell_type": "code",
      "source": [
        "df.isna().sum()"
      ],
      "metadata": {
        "colab": {
          "base_uri": "https://localhost:8080/"
        },
        "id": "zxQSpasHaLmv",
        "outputId": "b2c409af-8934-49b7-8c01-788b8f7b9f5a"
      },
      "execution_count": 24,
      "outputs": [
        {
          "output_type": "execute_result",
          "data": {
            "text/plain": [
              "name              0\n",
              "price (in $ )     0\n",
              "x(mm)             0\n",
              "y(mm)             0\n",
              "z(mm)             0\n",
              "dimension (mm)    2\n",
              "Finish            0\n",
              "technolgy         0\n",
              "material          0\n",
              "color             0\n",
              "Process           0\n",
              "dtype: int64"
            ]
          },
          "metadata": {},
          "execution_count": 24
        }
      ]
    },
    {
      "cell_type": "code",
      "source": [
        "df['x(mm)']=df['x(mm)'].astype(float)\n",
        "df['x(mm)']=df['x(mm)'].astype(float)\n",
        "df['x(mm)']=df['x(mm)'].astype(float)\n",
        "df['x(mm)']=df['x(mm)'].astype(float)"
      ],
      "metadata": {
        "id": "wwIGLRDoaRk1"
      },
      "execution_count": 25,
      "outputs": []
    },
    {
      "cell_type": "code",
      "source": [
        "# calculate the surface values based on other columns\n",
        "surface = df['x(mm)'] * df['y(mm)']* df['z(mm)'] \n",
        "# replace the original dimension column with the calculated value\n",
        "df['dimension (mm)'] = surface"
      ],
      "metadata": {
        "id": "fc712QONaXm0"
      },
      "execution_count": 26,
      "outputs": []
    },
    {
      "cell_type": "code",
      "source": [
        "df"
      ],
      "metadata": {
        "colab": {
          "base_uri": "https://localhost:8080/",
          "height": 423
        },
        "id": "vtz-jUrdoEJ6",
        "outputId": "3116f04a-2ce5-4947-bc13-2043f78d8416"
      },
      "execution_count": 27,
      "outputs": [
        {
          "output_type": "execute_result",
          "data": {
            "text/plain": [
              "                                                  name  price (in $ )  x(mm)  \\\n",
              "0                                            first.stl          33.92  138.0   \n",
              "1                                           hello.step         160.63  240.0   \n",
              "2             7772686460MainAssemblycontrolswitch1.STL         154.38   70.0   \n",
              "3                                           second.stl          43.97   46.5   \n",
              "4    19202101113Prusai3MK3SLaserMountforOptLasersGr...          40.29   85.0   \n",
              "..                                                 ...            ...    ...   \n",
              "212                           Ensamblaje gral (2).STEP          67.53  201.7   \n",
              "213             #CCTMothersDayRemix A Mothers Love.STL         934.32  232.3   \n",
              "214                Darkmantle Updated presupported.stl          40.83   50.6   \n",
              "215                                        Tether.STEP           9.47   31.8   \n",
              "216                                zz top keychain.stl          16.02   73.4   \n",
              "\n",
              "     y(mm)  z(mm)  dimension (mm)      Finish technolgy  \\\n",
              "0     34.0   14.5    6.803400e+04  No Finish        FDM   \n",
              "1     70.5   28.0    4.737600e+05  No Finish        FDM   \n",
              "2     60.0   60.0    2.520000e+05  No Finish        FDM   \n",
              "3     45.0   40.8    8.537400e+04  No Finish        FDM   \n",
              "4     42.0   20.0    7.140000e+04  No Finish        FDM   \n",
              "..     ...    ...             ...         ...       ...   \n",
              "212   51.9   39.0    4.082610e+05  No Finish        FDM   \n",
              "213  209.2  209.2    1.016653e+07  No Finish        FDM   \n",
              "214   35.8   35.7    6.466984e+04  No Finish        FDM   \n",
              "215   31.8    3.8    3.842712e+03  No Finish        FDM   \n",
              "216   66.2    7.3    3.547128e+04  No Finish        FDM   \n",
              "\n",
              "                      material  color     Process  \n",
              "0    ABS(standard transparent)  black  3Dprinting  \n",
              "1                          ABS  black  3Dprinting  \n",
              "2                          ABS  black  3Dprinting  \n",
              "3                          ABS  black  3Dprinting  \n",
              "4                          ABS  black  3Dprinting  \n",
              "..                         ...    ...         ...  \n",
              "212                        ABS  black  3Dprinting  \n",
              "213                        ABS  black  3Dprinting  \n",
              "214                        ABS  black  3Dprinting  \n",
              "215                        ABS  black  3Dprinting  \n",
              "216                        ABS  black  3Dprinting  \n",
              "\n",
              "[217 rows x 11 columns]"
            ],
            "text/html": [
              "\n",
              "  <div id=\"df-5773cb41-b0ec-478f-9fb9-752c8b6e5182\">\n",
              "    <div class=\"colab-df-container\">\n",
              "      <div>\n",
              "<style scoped>\n",
              "    .dataframe tbody tr th:only-of-type {\n",
              "        vertical-align: middle;\n",
              "    }\n",
              "\n",
              "    .dataframe tbody tr th {\n",
              "        vertical-align: top;\n",
              "    }\n",
              "\n",
              "    .dataframe thead th {\n",
              "        text-align: right;\n",
              "    }\n",
              "</style>\n",
              "<table border=\"1\" class=\"dataframe\">\n",
              "  <thead>\n",
              "    <tr style=\"text-align: right;\">\n",
              "      <th></th>\n",
              "      <th>name</th>\n",
              "      <th>price (in $ )</th>\n",
              "      <th>x(mm)</th>\n",
              "      <th>y(mm)</th>\n",
              "      <th>z(mm)</th>\n",
              "      <th>dimension (mm)</th>\n",
              "      <th>Finish</th>\n",
              "      <th>technolgy</th>\n",
              "      <th>material</th>\n",
              "      <th>color</th>\n",
              "      <th>Process</th>\n",
              "    </tr>\n",
              "  </thead>\n",
              "  <tbody>\n",
              "    <tr>\n",
              "      <th>0</th>\n",
              "      <td>first.stl</td>\n",
              "      <td>33.92</td>\n",
              "      <td>138.0</td>\n",
              "      <td>34.0</td>\n",
              "      <td>14.5</td>\n",
              "      <td>6.803400e+04</td>\n",
              "      <td>No Finish</td>\n",
              "      <td>FDM</td>\n",
              "      <td>ABS(standard transparent)</td>\n",
              "      <td>black</td>\n",
              "      <td>3Dprinting</td>\n",
              "    </tr>\n",
              "    <tr>\n",
              "      <th>1</th>\n",
              "      <td>hello.step</td>\n",
              "      <td>160.63</td>\n",
              "      <td>240.0</td>\n",
              "      <td>70.5</td>\n",
              "      <td>28.0</td>\n",
              "      <td>4.737600e+05</td>\n",
              "      <td>No Finish</td>\n",
              "      <td>FDM</td>\n",
              "      <td>ABS</td>\n",
              "      <td>black</td>\n",
              "      <td>3Dprinting</td>\n",
              "    </tr>\n",
              "    <tr>\n",
              "      <th>2</th>\n",
              "      <td>7772686460MainAssemblycontrolswitch1.STL</td>\n",
              "      <td>154.38</td>\n",
              "      <td>70.0</td>\n",
              "      <td>60.0</td>\n",
              "      <td>60.0</td>\n",
              "      <td>2.520000e+05</td>\n",
              "      <td>No Finish</td>\n",
              "      <td>FDM</td>\n",
              "      <td>ABS</td>\n",
              "      <td>black</td>\n",
              "      <td>3Dprinting</td>\n",
              "    </tr>\n",
              "    <tr>\n",
              "      <th>3</th>\n",
              "      <td>second.stl</td>\n",
              "      <td>43.97</td>\n",
              "      <td>46.5</td>\n",
              "      <td>45.0</td>\n",
              "      <td>40.8</td>\n",
              "      <td>8.537400e+04</td>\n",
              "      <td>No Finish</td>\n",
              "      <td>FDM</td>\n",
              "      <td>ABS</td>\n",
              "      <td>black</td>\n",
              "      <td>3Dprinting</td>\n",
              "    </tr>\n",
              "    <tr>\n",
              "      <th>4</th>\n",
              "      <td>19202101113Prusai3MK3SLaserMountforOptLasersGr...</td>\n",
              "      <td>40.29</td>\n",
              "      <td>85.0</td>\n",
              "      <td>42.0</td>\n",
              "      <td>20.0</td>\n",
              "      <td>7.140000e+04</td>\n",
              "      <td>No Finish</td>\n",
              "      <td>FDM</td>\n",
              "      <td>ABS</td>\n",
              "      <td>black</td>\n",
              "      <td>3Dprinting</td>\n",
              "    </tr>\n",
              "    <tr>\n",
              "      <th>...</th>\n",
              "      <td>...</td>\n",
              "      <td>...</td>\n",
              "      <td>...</td>\n",
              "      <td>...</td>\n",
              "      <td>...</td>\n",
              "      <td>...</td>\n",
              "      <td>...</td>\n",
              "      <td>...</td>\n",
              "      <td>...</td>\n",
              "      <td>...</td>\n",
              "      <td>...</td>\n",
              "    </tr>\n",
              "    <tr>\n",
              "      <th>212</th>\n",
              "      <td>Ensamblaje gral (2).STEP</td>\n",
              "      <td>67.53</td>\n",
              "      <td>201.7</td>\n",
              "      <td>51.9</td>\n",
              "      <td>39.0</td>\n",
              "      <td>4.082610e+05</td>\n",
              "      <td>No Finish</td>\n",
              "      <td>FDM</td>\n",
              "      <td>ABS</td>\n",
              "      <td>black</td>\n",
              "      <td>3Dprinting</td>\n",
              "    </tr>\n",
              "    <tr>\n",
              "      <th>213</th>\n",
              "      <td>#CCTMothersDayRemix A Mothers Love.STL</td>\n",
              "      <td>934.32</td>\n",
              "      <td>232.3</td>\n",
              "      <td>209.2</td>\n",
              "      <td>209.2</td>\n",
              "      <td>1.016653e+07</td>\n",
              "      <td>No Finish</td>\n",
              "      <td>FDM</td>\n",
              "      <td>ABS</td>\n",
              "      <td>black</td>\n",
              "      <td>3Dprinting</td>\n",
              "    </tr>\n",
              "    <tr>\n",
              "      <th>214</th>\n",
              "      <td>Darkmantle Updated presupported.stl</td>\n",
              "      <td>40.83</td>\n",
              "      <td>50.6</td>\n",
              "      <td>35.8</td>\n",
              "      <td>35.7</td>\n",
              "      <td>6.466984e+04</td>\n",
              "      <td>No Finish</td>\n",
              "      <td>FDM</td>\n",
              "      <td>ABS</td>\n",
              "      <td>black</td>\n",
              "      <td>3Dprinting</td>\n",
              "    </tr>\n",
              "    <tr>\n",
              "      <th>215</th>\n",
              "      <td>Tether.STEP</td>\n",
              "      <td>9.47</td>\n",
              "      <td>31.8</td>\n",
              "      <td>31.8</td>\n",
              "      <td>3.8</td>\n",
              "      <td>3.842712e+03</td>\n",
              "      <td>No Finish</td>\n",
              "      <td>FDM</td>\n",
              "      <td>ABS</td>\n",
              "      <td>black</td>\n",
              "      <td>3Dprinting</td>\n",
              "    </tr>\n",
              "    <tr>\n",
              "      <th>216</th>\n",
              "      <td>zz top keychain.stl</td>\n",
              "      <td>16.02</td>\n",
              "      <td>73.4</td>\n",
              "      <td>66.2</td>\n",
              "      <td>7.3</td>\n",
              "      <td>3.547128e+04</td>\n",
              "      <td>No Finish</td>\n",
              "      <td>FDM</td>\n",
              "      <td>ABS</td>\n",
              "      <td>black</td>\n",
              "      <td>3Dprinting</td>\n",
              "    </tr>\n",
              "  </tbody>\n",
              "</table>\n",
              "<p>217 rows × 11 columns</p>\n",
              "</div>\n",
              "      <button class=\"colab-df-convert\" onclick=\"convertToInteractive('df-5773cb41-b0ec-478f-9fb9-752c8b6e5182')\"\n",
              "              title=\"Convert this dataframe to an interactive table.\"\n",
              "              style=\"display:none;\">\n",
              "        \n",
              "  <svg xmlns=\"http://www.w3.org/2000/svg\" height=\"24px\"viewBox=\"0 0 24 24\"\n",
              "       width=\"24px\">\n",
              "    <path d=\"M0 0h24v24H0V0z\" fill=\"none\"/>\n",
              "    <path d=\"M18.56 5.44l.94 2.06.94-2.06 2.06-.94-2.06-.94-.94-2.06-.94 2.06-2.06.94zm-11 1L8.5 8.5l.94-2.06 2.06-.94-2.06-.94L8.5 2.5l-.94 2.06-2.06.94zm10 10l.94 2.06.94-2.06 2.06-.94-2.06-.94-.94-2.06-.94 2.06-2.06.94z\"/><path d=\"M17.41 7.96l-1.37-1.37c-.4-.4-.92-.59-1.43-.59-.52 0-1.04.2-1.43.59L10.3 9.45l-7.72 7.72c-.78.78-.78 2.05 0 2.83L4 21.41c.39.39.9.59 1.41.59.51 0 1.02-.2 1.41-.59l7.78-7.78 2.81-2.81c.8-.78.8-2.07 0-2.86zM5.41 20L4 18.59l7.72-7.72 1.47 1.35L5.41 20z\"/>\n",
              "  </svg>\n",
              "      </button>\n",
              "      \n",
              "  <style>\n",
              "    .colab-df-container {\n",
              "      display:flex;\n",
              "      flex-wrap:wrap;\n",
              "      gap: 12px;\n",
              "    }\n",
              "\n",
              "    .colab-df-convert {\n",
              "      background-color: #E8F0FE;\n",
              "      border: none;\n",
              "      border-radius: 50%;\n",
              "      cursor: pointer;\n",
              "      display: none;\n",
              "      fill: #1967D2;\n",
              "      height: 32px;\n",
              "      padding: 0 0 0 0;\n",
              "      width: 32px;\n",
              "    }\n",
              "\n",
              "    .colab-df-convert:hover {\n",
              "      background-color: #E2EBFA;\n",
              "      box-shadow: 0px 1px 2px rgba(60, 64, 67, 0.3), 0px 1px 3px 1px rgba(60, 64, 67, 0.15);\n",
              "      fill: #174EA6;\n",
              "    }\n",
              "\n",
              "    [theme=dark] .colab-df-convert {\n",
              "      background-color: #3B4455;\n",
              "      fill: #D2E3FC;\n",
              "    }\n",
              "\n",
              "    [theme=dark] .colab-df-convert:hover {\n",
              "      background-color: #434B5C;\n",
              "      box-shadow: 0px 1px 3px 1px rgba(0, 0, 0, 0.15);\n",
              "      filter: drop-shadow(0px 1px 2px rgba(0, 0, 0, 0.3));\n",
              "      fill: #FFFFFF;\n",
              "    }\n",
              "  </style>\n",
              "\n",
              "      <script>\n",
              "        const buttonEl =\n",
              "          document.querySelector('#df-5773cb41-b0ec-478f-9fb9-752c8b6e5182 button.colab-df-convert');\n",
              "        buttonEl.style.display =\n",
              "          google.colab.kernel.accessAllowed ? 'block' : 'none';\n",
              "\n",
              "        async function convertToInteractive(key) {\n",
              "          const element = document.querySelector('#df-5773cb41-b0ec-478f-9fb9-752c8b6e5182');\n",
              "          const dataTable =\n",
              "            await google.colab.kernel.invokeFunction('convertToInteractive',\n",
              "                                                     [key], {});\n",
              "          if (!dataTable) return;\n",
              "\n",
              "          const docLinkHtml = 'Like what you see? Visit the ' +\n",
              "            '<a target=\"_blank\" href=https://colab.research.google.com/notebooks/data_table.ipynb>data table notebook</a>'\n",
              "            + ' to learn more about interactive tables.';\n",
              "          element.innerHTML = '';\n",
              "          dataTable['output_type'] = 'display_data';\n",
              "          await google.colab.output.renderOutput(dataTable, element);\n",
              "          const docLink = document.createElement('div');\n",
              "          docLink.innerHTML = docLinkHtml;\n",
              "          element.appendChild(docLink);\n",
              "        }\n",
              "      </script>\n",
              "    </div>\n",
              "  </div>\n",
              "  "
            ]
          },
          "metadata": {},
          "execution_count": 27
        }
      ]
    },
    {
      "cell_type": "code",
      "source": [
        "##verification of missing values after the manipulation\n",
        "df.isna().sum()"
      ],
      "metadata": {
        "colab": {
          "base_uri": "https://localhost:8080/"
        },
        "id": "weDOp816aZU8",
        "outputId": "44769305-6bff-4c50-d00e-0780abc1792e"
      },
      "execution_count": 28,
      "outputs": [
        {
          "output_type": "execute_result",
          "data": {
            "text/plain": [
              "name              0\n",
              "price (in $ )     0\n",
              "x(mm)             0\n",
              "y(mm)             0\n",
              "z(mm)             0\n",
              "dimension (mm)    0\n",
              "Finish            0\n",
              "technolgy         0\n",
              "material          0\n",
              "color             0\n",
              "Process           0\n",
              "dtype: int64"
            ]
          },
          "metadata": {},
          "execution_count": 28
        }
      ]
    },
    {
      "cell_type": "code",
      "source": [
        "X_train.isna().sum()"
      ],
      "metadata": {
        "colab": {
          "base_uri": "https://localhost:8080/"
        },
        "id": "1DNQnHEnapSr",
        "outputId": "c241070a-ea2a-47b5-e869-98a1be72f48f"
      },
      "execution_count": 29,
      "outputs": [
        {
          "output_type": "execute_result",
          "data": {
            "text/plain": [
              "price (in $ )     0\n",
              "x(mm)             2\n",
              "y(mm)             2\n",
              "z(mm)             2\n",
              "dimension (mm)    2\n",
              "dtype: int64"
            ]
          },
          "metadata": {},
          "execution_count": 29
        }
      ]
    },
    {
      "cell_type": "code",
      "source": [
        "fillna(X_train,'x(mm)')\n",
        "fillna(X_train,'y(mm)')\n",
        "fillna(X_train,'z(mm)')"
      ],
      "metadata": {
        "id": "FPeKWfuTa0RW"
      },
      "execution_count": 30,
      "outputs": []
    },
    {
      "cell_type": "code",
      "source": [
        "# calculate the surface values based on other columns\n",
        "surface = X_train['x(mm)'] * X_train['y(mm)']* X_train['z(mm)'] \n",
        "# replace the original dimension column with the calculated value\n",
        "X_train['dimension (mm)'] = surface"
      ],
      "metadata": {
        "id": "CZQ2JuAqa9RO"
      },
      "execution_count": 31,
      "outputs": []
    },
    {
      "cell_type": "code",
      "source": [
        "X_train.isna().sum()"
      ],
      "metadata": {
        "colab": {
          "base_uri": "https://localhost:8080/"
        },
        "id": "qZYLp9V4nwkp",
        "outputId": "772bf77f-ea24-42ab-8337-b2afce39a5b5"
      },
      "execution_count": 32,
      "outputs": [
        {
          "output_type": "execute_result",
          "data": {
            "text/plain": [
              "price (in $ )     0\n",
              "x(mm)             0\n",
              "y(mm)             0\n",
              "z(mm)             0\n",
              "dimension (mm)    0\n",
              "dtype: int64"
            ]
          },
          "metadata": {},
          "execution_count": 32
        }
      ]
    },
    {
      "cell_type": "markdown",
      "source": [
        "##**linear regression**"
      ],
      "metadata": {
        "id": "zTMOJzjwiBne"
      }
    },
    {
      "cell_type": "code",
      "source": [
        "# Fit the linear regression model to the training data\n",
        "reg = LinearRegression()\n",
        "reg.fit(X_train, y_train)\n",
        "\n",
        "# Use the model to make predictions on the test data\n",
        "y_pred = reg.predict(X_test)"
      ],
      "metadata": {
        "id": "xe367kINT-7d"
      },
      "execution_count": 67,
      "outputs": []
    },
    {
      "cell_type": "code",
      "source": [
        "y_pred"
      ],
      "metadata": {
        "colab": {
          "base_uri": "https://localhost:8080/"
        },
        "id": "67K9khpBbHhP",
        "outputId": "87361d73-b0fe-4d84-98cf-55ea86453ded"
      },
      "execution_count": 68,
      "outputs": [
        {
          "output_type": "execute_result",
          "data": {
            "text/plain": [
              "array([ 31.43,   4.6 , 823.16,  14.59,  22.38, 514.17,  88.04, 329.5 ,\n",
              "        56.72,  58.74,   7.2 , 185.85,  74.42, 149.9 ,  31.33,  38.83,\n",
              "       464.27,  38.23,  43.32,  72.46,   5.31,   8.65,  69.91,  11.37,\n",
              "        11.18,  70.83,  91.37,  54.27,   8.05,   8.45, 276.48,  26.44,\n",
              "       188.89,  44.46,  26.41,  18.31,  19.81,  21.87, 270.67,  27.23,\n",
              "         4.01,  21.12,  62.12, 127.1 ])"
            ]
          },
          "metadata": {},
          "execution_count": 68
        }
      ]
    },
    {
      "cell_type": "markdown",
      "source": [
        "##testing"
      ],
      "metadata": {
        "id": "xnDfC0-MsDFV"
      }
    },
    {
      "cell_type": "code",
      "source": [
        "print(\"Linear Regression:\")\n",
        "# Calculate the mean squared error and root mean squared error\n",
        "mse = mean_squared_error(y_test, y_pred)\n",
        "print(\"MSE:\", mse)\n",
        "\n",
        "rmse = np.sqrt(mse)\n",
        "print(\"RMSE:\", rmse)\n",
        "\n",
        "r2 = r2_score(y_test, y_pred)\n",
        "print(f\"R^2 score: {r2}\")\n",
        "\n",
        "r_squared = reg.score(X_test, y_test)\n",
        "print(\"R-squared:\", r_squared)"
      ],
      "metadata": {
        "colab": {
          "base_uri": "https://localhost:8080/"
        },
        "id": "0Wj0gsyCUVEg",
        "outputId": "631fe6c1-878e-493e-cef0-ef76247b5301"
      },
      "execution_count": 144,
      "outputs": [
        {
          "output_type": "stream",
          "name": "stdout",
          "text": [
            "Linear Regression:\n",
            "MSE: 2.0729825036836285e-06\n",
            "RMSE: 0.0014397855755922922\n",
            "R^2 score: 0.999999999918832\n",
            "R-squared: 1.0\n"
          ]
        }
      ]
    },
    {
      "cell_type": "markdown",
      "source": [
        "In summary, the result [1. 1. 1.] suggests that the model performed exceptionally well in each fold of the cross-validation process, achieving a perfect score for the chosen evaluation metric."
      ],
      "metadata": {
        "id": "OgsmUsTh01UU"
      }
    },
    {
      "cell_type": "code",
      "source": [
        "print(\"Learned coefficients: \", reg.coef_)\n",
        "# Get the feature names\n",
        "feature_names = df.columns.tolist()  # Assuming the column names represent the feature names\n",
        "\n",
        "# Print the feature names along with the corresponding coefficients\n",
        "for feature, coef in zip(feature_names, reg.coef_):\n",
        "    print(f\"Feature: {feature}, Coefficient: {coef}\")"
      ],
      "metadata": {
        "colab": {
          "base_uri": "https://localhost:8080/"
        },
        "id": "syb35ibFmdih",
        "outputId": "a597d7a1-792a-4dd8-c845-66e2e7fd8004"
      },
      "execution_count": 77,
      "outputs": [
        {
          "output_type": "stream",
          "name": "stdout",
          "text": [
            "Learned coefficients:  [ 1.00000000e+00 -6.17734471e-17  1.04013752e-16 -1.58347927e-16\n",
            " -1.73865160e-20]\n",
            "Feature: name, Coefficient: 1.0000000000000007\n",
            "Feature: price (in $ ), Coefficient: -6.177344706094637e-17\n",
            "Feature: x(mm), Coefficient: 1.040137517235097e-16\n",
            "Feature: y(mm), Coefficient: -1.5834792728567525e-16\n",
            "Feature: z(mm), Coefficient: -1.738651598343671e-20\n"
          ]
        }
      ]
    },
    {
      "cell_type": "code",
      "source": [
        "# Optionally, you can visualize the feature importances using a bar plot\n",
        "plt.bar(range(len(reg.coef_)), reg.coef_)\n",
        "plt.xticks(range(len(reg.coef_)), X.columns, rotation='vertical')\n",
        "plt.xlabel('Features')\n",
        "plt.ylabel('Importance')\n",
        "plt.title('Feature Importances')\n",
        "plt.show()"
      ],
      "metadata": {
        "colab": {
          "base_uri": "https://localhost:8080/",
          "height": 572
        },
        "id": "s1eZA830CtBf",
        "outputId": "e670ac20-ccb2-471f-ba97-cd8e8a4e1732"
      },
      "execution_count": 129,
      "outputs": [
        {
          "output_type": "display_data",
          "data": {
            "text/plain": [
              "<Figure size 640x480 with 1 Axes>"
            ],
            "image/png": "[encoded data removed]"
          },
          "metadata": {}
        }
      ]
    },
    {
      "cell_type": "markdown",
      "source": [
        "##The intercept value, often denoted as \"b\" or \"intercept,\" represents the value of the dependent variable (y) when all independent variables (x) are zero. In linear regression, the intercept term is the value at which the regression line crosses the y-axis.\n",
        "The intercept term captures the constant component of the relationship between y and x. It represents the expected value of y when all independent variables are zero.\n",
        "intercept_ attribute provides the intercept value of the fitted linear regression model. It represents the estimated value of the dependent variable when all independent variables are zero.\n",
        "##the value of -4.263256414560601e-14 is in scientific notation and represents a very small number close to zero. Specifically, it is equal to -0.00000000000004263256414560601."
      ],
      "metadata": {
        "id": "JecUfBHrG66Z"
      }
    },
    {
      "cell_type": "code",
      "source": [
        "print(\"Bias: \", reg.intercept_)   "
      ],
      "metadata": {
        "colab": {
          "base_uri": "https://localhost:8080/"
        },
        "id": "cDoSy78BG0JW",
        "outputId": "9657cdbe-8bed-44d8-ccf3-83f59808544b"
      },
      "execution_count": 145,
      "outputs": [
        {
          "output_type": "stream",
          "name": "stdout",
          "text": [
            "Bias:  -4.263256414560601e-14\n"
          ]
        }
      ]
    },
    {
      "cell_type": "code",
      "source": [
        "predicted_price = reg.predict([[92.5,43.97,46.5,45.0,40.8]])\n",
        "print(\"Predicted price:\", predicted_price)"
      ],
      "metadata": {
        "colab": {
          "base_uri": "https://localhost:8080/"
        },
        "id": "W-yfKQy4iaQh",
        "outputId": "fcfa51c8-5f30-42f8-942f-445a064ecea2"
      },
      "execution_count": 44,
      "outputs": [
        {
          "output_type": "stream",
          "name": "stdout",
          "text": [
            "Predicted price: [92.5]\n"
          ]
        },
        {
          "output_type": "stream",
          "name": "stderr",
          "text": [
            "/usr/local/lib/python3.10/dist-packages/sklearn/base.py:439: UserWarning: X does not have valid feature names, but LinearRegression was fitted with feature names\n",
            "  warnings.warn(\n"
          ]
        }
      ]
    },
    {
      "cell_type": "code",
      "source": [
        "# new 3D model values\n",
        "new_values = [[123.5,1041140.613,123.5, 218.4,100.613]]\n",
        "\n",
        "# Making predictions on new 3D model values\n",
        "price_prediction = reg.predict(new_values)\n",
        "\n",
        "# Displaying the predicted price\n",
        "print(\"Predicted price:\", price_prediction)"
      ],
      "metadata": {
        "colab": {
          "base_uri": "https://localhost:8080/"
        },
        "id": "URgaQxO_iU0Y",
        "outputId": "4c322091-f5f6-4c93-8a86-9862c66b035c"
      },
      "execution_count": 93,
      "outputs": [
        {
          "output_type": "stream",
          "name": "stdout",
          "text": [
            "Predicted price: [123.5]\n"
          ]
        },
        {
          "output_type": "stream",
          "name": "stderr",
          "text": [
            "/usr/local/lib/python3.10/dist-packages/sklearn/base.py:439: UserWarning: X does not have valid feature names, but LinearRegression was fitted with feature names\n",
            "  warnings.warn(\n"
          ]
        }
      ]
    },
    {
      "cell_type": "code",
      "source": [
        "# Use cross-validation to evaluate the model\n",
        "scores = cross_val_score(reg, X_test, y_test, cv=5) # Perform 5-fold cross-validation\n",
        "# Print the scores for each fold\n",
        "print(\"Cross-Validation Scores:\", scores)\n",
        "\n",
        "# Calculate the average score\n",
        "average_score = scores.mean()\n",
        "print(\"Average Score:\", average_score)"
      ],
      "metadata": {
        "colab": {
          "base_uri": "https://localhost:8080/"
        },
        "id": "P9yOX2Eg1guC",
        "outputId": "5418e412-0b22-4735-96ca-80dc7b8996fe"
      },
      "execution_count": 196,
      "outputs": [
        {
          "output_type": "stream",
          "name": "stdout",
          "text": [
            "Cross-Validation Scores: [1. 1. 1. 1. 1.]\n",
            "Average Score: 1.0\n"
          ]
        }
      ]
    },
    {
      "cell_type": "markdown",
      "source": [
        "##**Ridge regression model**"
      ],
      "metadata": {
        "id": "1vUH4F_niG7d"
      }
    },
    {
      "cell_type": "code",
      "source": [
        "#Create and train the Ridge regression model\n",
        "ridge = Ridge(alpha=1)  # Regularization parameter (higher values increase the penalty)\n",
        "ridge.fit(X_train, y_train)"
      ],
      "metadata": {
        "colab": {
          "base_uri": "https://localhost:8080/",
          "height": 74
        },
        "id": "wpZmwSQ7ro-5",
        "outputId": "3595916f-c9cf-4444-da84-e1e2c3a47913"
      },
      "execution_count": 198,
      "outputs": [
        {
          "output_type": "execute_result",
          "data": {
            "text/plain": [
              "Ridge(alpha=1)"
            ],
            "text/html": [
              "<style>#sk-container-id-16 {color: black;background-color: white;}#sk-container-id-16 pre{padding: 0;}#sk-container-id-16 div.sk-toggleable {background-color: white;}#sk-container-id-16 label.sk-toggleable__label {cursor: pointer;display: block;width: 100%;margin-bottom: 0;padding: 0.3em;box-sizing: border-box;text-align: center;}#sk-container-id-16 label.sk-toggleable__label-arrow:before {content: \"▸\";float: left;margin-right: 0.25em;color: #696969;}#sk-container-id-16 label.sk-toggleable__label-arrow:hover:before {color: black;}#sk-container-id-16 div.sk-estimator:hover label.sk-toggleable__label-arrow:before {color: black;}#sk-container-id-16 div.sk-toggleable__content {max-height: 0;max-width: 0;overflow: hidden;text-align: left;background-color: #f0f8ff;}#sk-container-id-16 div.sk-toggleable__content pre {margin: 0.2em;color: black;border-radius: 0.25em;background-color: #f0f8ff;}#sk-container-id-16 input.sk-toggleable__control:checked~div.sk-toggleable__content {max-height: 200px;max-width: 100%;overflow: auto;}#sk-container-id-16 input.sk-toggleable__control:checked~label.sk-toggleable__label-arrow:before {content: \"▾\";}#sk-container-id-16 div.sk-estimator input.sk-toggleable__control:checked~label.sk-toggleable__label {background-color: #d4ebff;}#sk-container-id-16 div.sk-label input.sk-toggleable__control:checked~label.sk-toggleable__label {background-color: #d4ebff;}#sk-container-id-16 input.sk-hidden--visually {border: 0;clip: rect(1px 1px 1px 1px);clip: rect(1px, 1px, 1px, 1px);height: 1px;margin: -1px;overflow: hidden;padding: 0;position: absolute;width: 1px;}#sk-container-id-16 div.sk-estimator {font-family: monospace;background-color: #f0f8ff;border: 1px dotted black;border-radius: 0.25em;box-sizing: border-box;margin-bottom: 0.5em;}#sk-container-id-16 div.sk-estimator:hover {background-color: #d4ebff;}#sk-container-id-16 div.sk-parallel-item::after {content: \"\";width: 100%;border-bottom: 1px solid gray;flex-grow: 1;}#sk-container-id-16 div.sk-label:hover label.sk-toggleable__label {background-color: #d4ebff;}#sk-container-id-16 div.sk-serial::before {content: \"\";position: absolute;border-left: 1px solid gray;box-sizing: border-box;top: 0;bottom: 0;left: 50%;z-index: 0;}#sk-container-id-16 div.sk-serial {display: flex;flex-direction: column;align-items: center;background-color: white;padding-right: 0.2em;padding-left: 0.2em;position: relative;}#sk-container-id-16 div.sk-item {position: relative;z-index: 1;}#sk-container-id-16 div.sk-parallel {display: flex;align-items: stretch;justify-content: center;background-color: white;position: relative;}#sk-container-id-16 div.sk-item::before, #sk-container-id-16 div.sk-parallel-item::before {content: \"\";position: absolute;border-left: 1px solid gray;box-sizing: border-box;top: 0;bottom: 0;left: 50%;z-index: -1;}#sk-container-id-16 div.sk-parallel-item {display: flex;flex-direction: column;z-index: 1;position: relative;background-color: white;}#sk-container-id-16 div.sk-parallel-item:first-child::after {align-self: flex-end;width: 50%;}#sk-container-id-16 div.sk-parallel-item:last-child::after {align-self: flex-start;width: 50%;}#sk-container-id-16 div.sk-parallel-item:only-child::after {width: 0;}#sk-container-id-16 div.sk-dashed-wrapped {border: 1px dashed gray;margin: 0 0.4em 0.5em 0.4em;box-sizing: border-box;padding-bottom: 0.4em;background-color: white;}#sk-container-id-16 div.sk-label label {font-family: monospace;font-weight: bold;display: inline-block;line-height: 1.2em;}#sk-container-id-16 div.sk-label-container {text-align: center;}#sk-container-id-16 div.sk-container {/* jupyter's `normalize.less` sets `[hidden] { display: none; }` but bootstrap.min.css set `[hidden] { display: none !important; }` so we also need the `!important` here to be able to override the default hidden behavior on the sphinx rendered scikit-learn.org. See: https://github.com/scikit-learn/scikit-learn/issues/21755 */display: inline-block !important;position: relative;}#sk-container-id-16 div.sk-text-repr-fallback {display: none;}</style><div id=\"sk-container-id-16\" class=\"sk-top-container\"><div class=\"sk-text-repr-fallback\"><pre>Ridge(alpha=1)</pre><b>In a Jupyter environment, please rerun this cell to show the HTML representation or trust the notebook. <br />On GitHub, the HTML representation is unable to render, please try loading this page with nbviewer.org.</b></div><div class=\"sk-container\" hidden><div class=\"sk-item\"><div class=\"sk-estimator sk-toggleable\"><input class=\"sk-toggleable__control sk-hidden--visually\" id=\"sk-estimator-id-16\" type=\"checkbox\" checked><label for=\"sk-estimator-id-16\" class=\"sk-toggleable__label sk-toggleable__label-arrow\">Ridge</label><div class=\"sk-toggleable__content\"><pre>Ridge(alpha=1)</pre></div></div></div></div></div>"
            ]
          },
          "metadata": {},
          "execution_count": 198
        }
      ]
    },
    {
      "cell_type": "code",
      "source": [
        "## Predict on the test set\n",
        "y_pred = ridge.predict(X_test)\n",
        "y_pred"
      ],
      "metadata": {
        "colab": {
          "base_uri": "https://localhost:8080/"
        },
        "id": "m8tGXOyqr5Qa",
        "outputId": "cf8bae4d-9fd0-4af2-81ee-c6812fc97680"
      },
      "execution_count": 199,
      "outputs": [
        {
          "output_type": "execute_result",
          "data": {
            "text/plain": [
              "array([ 31.4300003 ,   4.59999577, 823.15976931,  14.59000551,\n",
              "        22.38001688, 514.16994879,  88.04004702, 329.50007586,\n",
              "        56.72000998,  58.73999478,   7.19999985, 185.8499219 ,\n",
              "        74.42000652, 149.89996053,  31.33001239,  38.8300039 ,\n",
              "       464.26990596,  38.23005841,  43.32000713,  72.46001341,\n",
              "         5.31000032,   8.65000121,  69.91001775,  11.37000006,\n",
              "        11.18000216,  70.83004699,  91.37001376,  54.27000738,\n",
              "         8.05000127,   8.45002378, 276.47986443,  26.43997242,\n",
              "       188.89088599,  44.4599515 ,  26.41000385,  18.31000193,\n",
              "        19.81000425,  21.87000258, 270.66998944,  27.22998668,\n",
              "         4.00999944,  21.120004  ,  62.12005166, 127.10001894])"
            ]
          },
          "metadata": {},
          "execution_count": 199
        }
      ]
    },
    {
      "cell_type": "code",
      "source": [
        "# test the model\n",
        "print(\"\\nRidge Regression:\")\n",
        "# Calculate the mean squared error and root mean squared error\n",
        "mse = mean_squared_error(y_test, y_pred)\n",
        "print(\"MSE:\", mse)\n",
        "\n",
        "rmse = np.sqrt(mse)\n",
        "print(\"RMSE:\", rmse)\n",
        "\n",
        "r2 = r2_score(y_test, y_pred)\n",
        "print(f\"R^2 score: {r2}\")\n",
        "\n",
        "r_squared = ridge.score(X_test, y_test)\n",
        "print(\"R-squared:\", r_squared)"
      ],
      "metadata": {
        "colab": {
          "base_uri": "https://localhost:8080/"
        },
        "id": "php2O64JsXlG",
        "outputId": "758447bd-771f-4811-eff5-8dbc97953209"
      },
      "execution_count": 200,
      "outputs": [
        {
          "output_type": "stream",
          "name": "stdout",
          "text": [
            "\n",
            "Ridge Regression:\n",
            "MSE: 2.040477658440496e-08\n",
            "RMSE: 0.00014284528898218855\n",
            "R^2 score: 0.9999999999992011\n",
            "R-squared: 0.9999999999992011\n"
          ]
        }
      ]
    },
    {
      "cell_type": "code",
      "source": [
        "print(\"Learned coefficients: \", ridge.coef_)\n",
        "# Get the feature names\n",
        "feature_names = df.columns.tolist()  # Assuming the column names represent the feature names\n",
        "\n",
        "# Print the feature names along with the corresponding coefficients\n",
        "for feature, coef in zip(feature_names, ridge.coef_):\n",
        "    print(f\"Feature: {feature}, Coefficient: {coef}\")"
      ],
      "metadata": {
        "colab": {
          "base_uri": "https://localhost:8080/"
        },
        "id": "MTNPdHKny9Q5",
        "outputId": "d56e5aac-261c-441c-94b8-70db373bfa2c"
      },
      "execution_count": 201,
      "outputs": [
        {
          "output_type": "stream",
          "name": "stdout",
          "text": [
            "Learned coefficients:  [ 9.99999464e-01 -1.44280351e-07  3.55005882e-07  6.78023693e-07\n",
            "  3.47310410e-11]\n",
            "Feature: name, Coefficient: 0.9999994638992781\n",
            "Feature: price (in $ ), Coefficient: -1.4428035145629368e-07\n",
            "Feature: x(mm), Coefficient: 3.5500588231048617e-07\n",
            "Feature: y(mm), Coefficient: 6.780236931855707e-07\n",
            "Feature: z(mm), Coefficient: 3.47310410054908e-11\n"
          ]
        }
      ]
    },
    {
      "cell_type": "code",
      "source": [
        "# Optionally, you can visualize the feature importances using a bar plot\n",
        "plt.bar(range(len(ridge.coef_)), ridge.coef_)\n",
        "plt.xticks(range(len(ridge.coef_)), X.columns, rotation='vertical')\n",
        "plt.xlabel('Features')\n",
        "plt.ylabel('Importance')\n",
        "plt.title('Feature Importances')\n",
        "plt.show()"
      ],
      "metadata": {
        "colab": {
          "base_uri": "https://localhost:8080/",
          "height": 572
        },
        "id": "oXk0ZEbCC8xA",
        "outputId": "48bd5aec-75f3-4f47-9ea8-d01169b76f8a"
      },
      "execution_count": 202,
      "outputs": [
        {
          "output_type": "display_data",
          "data": {
            "text/plain": [
              "<Figure size 640x480 with 1 Axes>"
            ],
            "image/png": "[encoded data removed]"
          },
          "metadata": {}
        }
      ]
    },
    {
      "cell_type": "code",
      "source": [
        "print(\"Bias: \",ridge.intercept_)"
      ],
      "metadata": {
        "colab": {
          "base_uri": "https://localhost:8080/"
        },
        "id": "4Hb_5zIsIoms",
        "outputId": "3ddb3a05-7741-4861-e2c2-209724c17701"
      },
      "execution_count": 203,
      "outputs": [
        {
          "output_type": "stream",
          "name": "stdout",
          "text": [
            "Bias:  -1.1559264834204441e-06\n"
          ]
        }
      ]
    },
    {
      "cell_type": "markdown",
      "source": [
        "##**The value of -1.1559264834204441e-06 is in scientific notation and represents a very small number close to zero. Specifically, it is equal to \n",
        "-0.0000011559264834204441.\n",
        "\n",
        "In the context of machine learning, this value is often associated with the bias term or the intercept in a model. The bias term represents the constant term in a model equation and is added to the weighted sum of the input features to make predictions.\n",
        "\n",
        "In this case, the bias value of -1.1559264834204441e-06 suggests that the model's predictions are adjusted by a very small negative value. It indicates that when all the input features are zero or have a minimal impact on the predictions, the model's predictions will be slightly shifted downwards by this bias value**"
      ],
      "metadata": {
        "id": "-cYsLEjUIu-J"
      }
    },
    {
      "cell_type": "code",
      "source": [
        "predicted_price = ridge.predict([[92.5,43.97,46.5,45.0,40.8]])\n",
        "print(\"Predicted price:\", predicted_price)"
      ],
      "metadata": {
        "colab": {
          "base_uri": "https://localhost:8080/"
        },
        "id": "8RhSBEKDzX6c",
        "outputId": "d49813da-99b7-4c54-a81e-07ce936ecf3a"
      },
      "execution_count": 204,
      "outputs": [
        {
          "output_type": "stream",
          "name": "stdout",
          "text": [
            "Predicted price: [92.49998993]\n"
          ]
        },
        {
          "output_type": "stream",
          "name": "stderr",
          "text": [
            "/usr/local/lib/python3.10/dist-packages/sklearn/base.py:439: UserWarning: X does not have valid feature names, but Ridge was fitted with feature names\n",
            "  warnings.warn(\n"
          ]
        }
      ]
    },
    {
      "cell_type": "code",
      "source": [
        "# new 3D model values\n",
        "new_values = [[123.5,1041140.613,123.5, 218.4,100.613]]\n",
        "\n",
        "# Making predictions on new 3D model values\n",
        "price_prediction = ridge.predict(new_values)\n",
        "\n",
        "# Displaying the predicted price\n",
        "print(\"Predicted price:\", price_prediction)"
      ],
      "metadata": {
        "colab": {
          "base_uri": "https://localhost:8080/"
        },
        "id": "x7wz9ekK1xuc",
        "outputId": "13790a11-c068-40de-8bc7-70f87a71e8cf"
      },
      "execution_count": 205,
      "outputs": [
        {
          "output_type": "stream",
          "name": "stdout",
          "text": [
            "Predicted price: [123.34990843]\n"
          ]
        },
        {
          "output_type": "stream",
          "name": "stderr",
          "text": [
            "/usr/local/lib/python3.10/dist-packages/sklearn/base.py:439: UserWarning: X does not have valid feature names, but Ridge was fitted with feature names\n",
            "  warnings.warn(\n"
          ]
        }
      ]
    },
    {
      "cell_type": "code",
      "source": [
        "# Use cross-validation to evaluate the model\n",
        "scores = cross_val_score(reg, X_test, y_test, cv=5) # Perform 5-fold cross-validation\n",
        "# Print the scores for each fold\n",
        "print(\"Cross-Validation Scores:\", scores)\n",
        "\n",
        "# Calculate the average score\n",
        "average_score = scores.mean()\n",
        "print(\"Average Score:\", average_score)"
      ],
      "metadata": {
        "colab": {
          "base_uri": "https://localhost:8080/"
        },
        "id": "mDhopiXA1oIc",
        "outputId": "e00842e9-c0e0-4adf-fcf8-2a645d1a0574"
      },
      "execution_count": 206,
      "outputs": [
        {
          "output_type": "stream",
          "name": "stdout",
          "text": [
            "Cross-Validation Scores: [1. 1. 1. 1. 1.]\n",
            "Average Score: 1.0\n"
          ]
        }
      ]
    },
    {
      "cell_type": "markdown",
      "source": [
        "##Lasso regression mode"
      ],
      "metadata": {
        "id": "G3hI51v5wlIU"
      }
    },
    {
      "cell_type": "code",
      "source": [
        "# Fit the Lasso regression model to the training data\n",
        "lasso = Lasso(alpha=0.1)\n",
        "lasso.fit(X_train, y_train)"
      ],
      "metadata": {
        "colab": {
          "base_uri": "https://localhost:8080/",
          "height": 74
        },
        "id": "9iDSBjeGwkzT",
        "outputId": "94c15cb5-606b-4084-b795-b6516c7fe184"
      },
      "execution_count": 207,
      "outputs": [
        {
          "output_type": "execute_result",
          "data": {
            "text/plain": [
              "Lasso(alpha=0.1)"
            ],
            "text/html": [
              "<style>#sk-container-id-17 {color: black;background-color: white;}#sk-container-id-17 pre{padding: 0;}#sk-container-id-17 div.sk-toggleable {background-color: white;}#sk-container-id-17 label.sk-toggleable__label {cursor: pointer;display: block;width: 100%;margin-bottom: 0;padding: 0.3em;box-sizing: border-box;text-align: center;}#sk-container-id-17 label.sk-toggleable__label-arrow:before {content: \"▸\";float: left;margin-right: 0.25em;color: #696969;}#sk-container-id-17 label.sk-toggleable__label-arrow:hover:before {color: black;}#sk-container-id-17 div.sk-estimator:hover label.sk-toggleable__label-arrow:before {color: black;}#sk-container-id-17 div.sk-toggleable__content {max-height: 0;max-width: 0;overflow: hidden;text-align: left;background-color: #f0f8ff;}#sk-container-id-17 div.sk-toggleable__content pre {margin: 0.2em;color: black;border-radius: 0.25em;background-color: #f0f8ff;}#sk-container-id-17 input.sk-toggleable__control:checked~div.sk-toggleable__content {max-height: 200px;max-width: 100%;overflow: auto;}#sk-container-id-17 input.sk-toggleable__control:checked~label.sk-toggleable__label-arrow:before {content: \"▾\";}#sk-container-id-17 div.sk-estimator input.sk-toggleable__control:checked~label.sk-toggleable__label {background-color: #d4ebff;}#sk-container-id-17 div.sk-label input.sk-toggleable__control:checked~label.sk-toggleable__label {background-color: #d4ebff;}#sk-container-id-17 input.sk-hidden--visually {border: 0;clip: rect(1px 1px 1px 1px);clip: rect(1px, 1px, 1px, 1px);height: 1px;margin: -1px;overflow: hidden;padding: 0;position: absolute;width: 1px;}#sk-container-id-17 div.sk-estimator {font-family: monospace;background-color: #f0f8ff;border: 1px dotted black;border-radius: 0.25em;box-sizing: border-box;margin-bottom: 0.5em;}#sk-container-id-17 div.sk-estimator:hover {background-color: #d4ebff;}#sk-container-id-17 div.sk-parallel-item::after {content: \"\";width: 100%;border-bottom: 1px solid gray;flex-grow: 1;}#sk-container-id-17 div.sk-label:hover label.sk-toggleable__label {background-color: #d4ebff;}#sk-container-id-17 div.sk-serial::before {content: \"\";position: absolute;border-left: 1px solid gray;box-sizing: border-box;top: 0;bottom: 0;left: 50%;z-index: 0;}#sk-container-id-17 div.sk-serial {display: flex;flex-direction: column;align-items: center;background-color: white;padding-right: 0.2em;padding-left: 0.2em;position: relative;}#sk-container-id-17 div.sk-item {position: relative;z-index: 1;}#sk-container-id-17 div.sk-parallel {display: flex;align-items: stretch;justify-content: center;background-color: white;position: relative;}#sk-container-id-17 div.sk-item::before, #sk-container-id-17 div.sk-parallel-item::before {content: \"\";position: absolute;border-left: 1px solid gray;box-sizing: border-box;top: 0;bottom: 0;left: 50%;z-index: -1;}#sk-container-id-17 div.sk-parallel-item {display: flex;flex-direction: column;z-index: 1;position: relative;background-color: white;}#sk-container-id-17 div.sk-parallel-item:first-child::after {align-self: flex-end;width: 50%;}#sk-container-id-17 div.sk-parallel-item:last-child::after {align-self: flex-start;width: 50%;}#sk-container-id-17 div.sk-parallel-item:only-child::after {width: 0;}#sk-container-id-17 div.sk-dashed-wrapped {border: 1px dashed gray;margin: 0 0.4em 0.5em 0.4em;box-sizing: border-box;padding-bottom: 0.4em;background-color: white;}#sk-container-id-17 div.sk-label label {font-family: monospace;font-weight: bold;display: inline-block;line-height: 1.2em;}#sk-container-id-17 div.sk-label-container {text-align: center;}#sk-container-id-17 div.sk-container {/* jupyter's `normalize.less` sets `[hidden] { display: none; }` but bootstrap.min.css set `[hidden] { display: none !important; }` so we also need the `!important` here to be able to override the default hidden behavior on the sphinx rendered scikit-learn.org. See: https://github.com/scikit-learn/scikit-learn/issues/21755 */display: inline-block !important;position: relative;}#sk-container-id-17 div.sk-text-repr-fallback {display: none;}</style><div id=\"sk-container-id-17\" class=\"sk-top-container\"><div class=\"sk-text-repr-fallback\"><pre>Lasso(alpha=0.1)</pre><b>In a Jupyter environment, please rerun this cell to show the HTML representation or trust the notebook. <br />On GitHub, the HTML representation is unable to render, please try loading this page with nbviewer.org.</b></div><div class=\"sk-container\" hidden><div class=\"sk-item\"><div class=\"sk-estimator sk-toggleable\"><input class=\"sk-toggleable__control sk-hidden--visually\" id=\"sk-estimator-id-17\" type=\"checkbox\" checked><label for=\"sk-estimator-id-17\" class=\"sk-toggleable__label sk-toggleable__label-arrow\">Lasso</label><div class=\"sk-toggleable__content\"><pre>Lasso(alpha=0.1)</pre></div></div></div></div></div>"
            ]
          },
          "metadata": {},
          "execution_count": 207
        }
      ]
    },
    {
      "cell_type": "code",
      "source": [
        "# Use the model to make predictions on the test data\n",
        "y_pred = lasso.predict(X_test)"
      ],
      "metadata": {
        "id": "D-Lcq_rywuTS"
      },
      "execution_count": 208,
      "outputs": []
    },
    {
      "cell_type": "code",
      "source": [
        "y_pred"
      ],
      "metadata": {
        "colab": {
          "base_uri": "https://localhost:8080/"
        },
        "id": "cM7_E-48wuJc",
        "outputId": "44eff68a-7ada-48a4-ebd0-146b625e1ceb"
      },
      "execution_count": 209,
      "outputs": [
        {
          "output_type": "execute_result",
          "data": {
            "text/plain": [
              "array([ 31.43003821,   4.60013272, 823.15787981,  14.59009399,\n",
              "        22.38009072, 514.16923788,  88.04014334, 329.50041847,\n",
              "        56.71996578,  58.74004084,   7.20012159, 185.84946756,\n",
              "        74.41995765, 149.89967495,  31.3300479 ,  38.83004355,\n",
              "       464.26890629,  38.23029774,  43.31997711,  72.459972  ,\n",
              "         5.31012972,   8.65011545,  69.90994358,  11.37010475,\n",
              "        11.18010458,  70.83022871,  91.36991264,  54.26995527,\n",
              "         8.05011791,   8.45013674, 276.47903395,  26.44004076,\n",
              "       188.89909902,  44.4599726 ,  26.41004219,  18.3100744 ,\n",
              "        19.81007168,  21.87006092, 270.66948714,  27.23004282,\n",
              "         4.01013536,  21.12006313,  62.12006927, 127.09986304])"
            ]
          },
          "metadata": {},
          "execution_count": 209
        }
      ]
    },
    {
      "cell_type": "code",
      "source": [
        "# test the model\n",
        "print(\"\\nlasso Regression:\")\n",
        "# Calculate the mean squared error and root mean squared error\n",
        "mse = mean_squared_error(y_test, y_pred)\n",
        "print(\"MSE:\", mse)\n",
        "\n",
        "rmse = np.sqrt(mse)\n",
        "print(\"RMSE:\", rmse)\n",
        "\n",
        "r2 = r2_score(y_test, y_pred)\n",
        "print(f\"R^2 score: {r2}\")\n",
        "\n",
        "r_squared = ridge.score(X_test, y_test)\n",
        "print(\"R-squared:\", r_squared)"
      ],
      "metadata": {
        "colab": {
          "base_uri": "https://localhost:8080/"
        },
        "id": "aUyk0jJ81IWe",
        "outputId": "ee8e7092-8bca-403d-9a59-c461df9e7fdb"
      },
      "execution_count": 210,
      "outputs": [
        {
          "output_type": "stream",
          "name": "stdout",
          "text": [
            "\n",
            "lasso Regression:\n",
            "MSE: 2.0729825036836285e-06\n",
            "RMSE: 0.0014397855755922922\n",
            "R^2 score: 0.999999999918832\n",
            "R-squared: 0.9999999999992011\n"
          ]
        }
      ]
    },
    {
      "cell_type": "code",
      "source": [
        "print(\"Learned coefficients: \", lasso.coef_)\n",
        "\n",
        "# Get the feature names\n",
        "feature_names = df.columns.tolist()  # Assuming the column names represent the feature names\n",
        "\n",
        "# Print the feature names along with the corresponding coefficients\n",
        "for feature, coef in zip(feature_names, lasso.coef_):\n",
        "    print(f\"Feature: {feature}, Coefficient: {coef}\")"
      ],
      "metadata": {
        "colab": {
          "base_uri": "https://localhost:8080/"
        },
        "id": "AnbiGtm1xeMM",
        "outputId": "2528aade-be03-4398-c2a1-9672918f026f"
      },
      "execution_count": 211,
      "outputs": [
        {
          "output_type": "stream",
          "name": "stdout",
          "text": [
            "Learned coefficients:  [9.99995563e-01 0.00000000e+00 0.00000000e+00 0.00000000e+00\n",
            " 4.14104708e-10]\n",
            "Feature: name, Coefficient: 0.9999955625534104\n",
            "Feature: price (in $ ), Coefficient: 0.0\n",
            "Feature: x(mm), Coefficient: 0.0\n",
            "Feature: y(mm), Coefficient: 0.0\n",
            "Feature: z(mm), Coefficient: 4.1410470810368993e-10\n"
          ]
        }
      ]
    },
    {
      "cell_type": "code",
      "source": [
        "# Optionally, you can visualize the feature importances using a bar plot\n",
        "plt.bar(range(len(lasso.coef_)), lasso.coef_)\n",
        "plt.xticks(range(len(lasso.coef_)), X.columns, rotation='vertical')\n",
        "plt.xlabel('Features')\n",
        "plt.ylabel('Importance')\n",
        "plt.title('Feature Importances')\n",
        "plt.show()"
      ],
      "metadata": {
        "colab": {
          "base_uri": "https://localhost:8080/",
          "height": 572
        },
        "id": "JjuzUtH1DJ5K",
        "outputId": "68fd1a4c-e601-48d3-c400-a4eb62d624c5"
      },
      "execution_count": 212,
      "outputs": [
        {
          "output_type": "display_data",
          "data": {
            "text/plain": [
              "<Figure size 640x480 with 1 Axes>"
            ],
            "image/png": "[encoded data removed]"
          },
          "metadata": {}
        }
      ]
    },
    {
      "cell_type": "markdown",
      "source": [
        "##The value of 0.0001531164784722705"
      ],
      "metadata": {
        "id": "GcFMOhzQKwvA"
      }
    },
    {
      "cell_type": "code",
      "source": [
        "print(\"Bias: \",lasso.intercept_)"
      ],
      "metadata": {
        "colab": {
          "base_uri": "https://localhost:8080/"
        },
        "id": "53B6OwbaKjDj",
        "outputId": "ce11beb1-81f8-4d30-edf7-42a57537e1b2"
      },
      "execution_count": 213,
      "outputs": [
        {
          "output_type": "stream",
          "name": "stdout",
          "text": [
            "Bias:  0.0001531164784722705\n"
          ]
        }
      ]
    },
    {
      "cell_type": "code",
      "source": [
        "predicted_price = lasso.predict([[92.5,43.97,46.5,45.0,40.8]])\n",
        "print(\"Predicted price:\", predicted_price)"
      ],
      "metadata": {
        "colab": {
          "base_uri": "https://localhost:8080/"
        },
        "id": "80ai0tvJ2Pw2",
        "outputId": "39cf4d34-3cf7-4cce-80f3-390e09e41710"
      },
      "execution_count": 214,
      "outputs": [
        {
          "output_type": "stream",
          "name": "stdout",
          "text": [
            "Predicted price: [92.49974267]\n"
          ]
        },
        {
          "output_type": "stream",
          "name": "stderr",
          "text": [
            "/usr/local/lib/python3.10/dist-packages/sklearn/base.py:439: UserWarning: X does not have valid feature names, but Lasso was fitted with feature names\n",
            "  warnings.warn(\n"
          ]
        }
      ]
    },
    {
      "cell_type": "code",
      "source": [
        "# new 3D model values\n",
        "new_values = [[123.5,1041140.613,123.5, 218.4,100.613]]\n",
        "\n",
        "# Making predictions on new 3D model values\n",
        "price_prediction = lasso.predict(new_values)\n",
        "\n",
        "# Displaying the predicted price\n",
        "print(\"Predicted price:\", price_prediction)"
      ],
      "metadata": {
        "colab": {
          "base_uri": "https://localhost:8080/"
        },
        "id": "wcv4-MAQ2jUh",
        "outputId": "321f158b-5af1-43b1-aa46-6f296a71ded4"
      },
      "execution_count": 215,
      "outputs": [
        {
          "output_type": "stream",
          "name": "stdout",
          "text": [
            "Predicted price: [123.49960513]\n"
          ]
        },
        {
          "output_type": "stream",
          "name": "stderr",
          "text": [
            "/usr/local/lib/python3.10/dist-packages/sklearn/base.py:439: UserWarning: X does not have valid feature names, but Lasso was fitted with feature names\n",
            "  warnings.warn(\n"
          ]
        }
      ]
    },
    {
      "cell_type": "code",
      "source": [
        "# Use cross-validation to evaluate the model\n",
        "scores = cross_val_score(reg, X_test, y_test, cv=5) # Perform 5-fold cross-validation\n",
        "# Print the scores for each fold\n",
        "print(\"Cross-Validation Scores:\", scores)\n",
        "\n",
        "# Calculate the average score\n",
        "average_score = scores.mean()\n",
        "print(\"Average Score:\", average_score)"
      ],
      "metadata": {
        "colab": {
          "base_uri": "https://localhost:8080/"
        },
        "id": "yzm8S7eW22MP",
        "outputId": "4173ad2b-c180-42f9-c394-a20c33d431d9"
      },
      "execution_count": 216,
      "outputs": [
        {
          "output_type": "stream",
          "name": "stdout",
          "text": [
            "Cross-Validation Scores: [1. 1. 1. 1. 1.]\n",
            "Average Score: 1.0\n"
          ]
        }
      ]
    },
    {
      "cell_type": "markdown",
      "source": [
        "##**decision tree regression** "
      ],
      "metadata": {
        "id": "raoWEcez5rtA"
      }
    },
    {
      "cell_type": "code",
      "source": [
        "# Fit the decision tree regression model to the training data\n",
        "tree = DecisionTreeRegressor()\n",
        "tree.fit(X_train, y_train)"
      ],
      "metadata": {
        "colab": {
          "base_uri": "https://localhost:8080/",
          "height": 74
        },
        "id": "K_esy3so5vXu",
        "outputId": "83fa6c99-9d8c-4aec-df3e-db264b70a999"
      },
      "execution_count": 33,
      "outputs": [
        {
          "output_type": "execute_result",
          "data": {
            "text/plain": [
              "DecisionTreeRegressor()"
            ],
            "text/html": [
              "<style>#sk-container-id-1 {color: black;background-color: white;}#sk-container-id-1 pre{padding: 0;}#sk-container-id-1 div.sk-toggleable {background-color: white;}#sk-container-id-1 label.sk-toggleable__label {cursor: pointer;display: block;width: 100%;margin-bottom: 0;padding: 0.3em;box-sizing: border-box;text-align: center;}#sk-container-id-1 label.sk-toggleable__label-arrow:before {content: \"▸\";float: left;margin-right: 0.25em;color: #696969;}#sk-container-id-1 label.sk-toggleable__label-arrow:hover:before {color: black;}#sk-container-id-1 div.sk-estimator:hover label.sk-toggleable__label-arrow:before {color: black;}#sk-container-id-1 div.sk-toggleable__content {max-height: 0;max-width: 0;overflow: hidden;text-align: left;background-color: #f0f8ff;}#sk-container-id-1 div.sk-toggleable__content pre {margin: 0.2em;color: black;border-radius: 0.25em;background-color: #f0f8ff;}#sk-container-id-1 input.sk-toggleable__control:checked~div.sk-toggleable__content {max-height: 200px;max-width: 100%;overflow: auto;}#sk-container-id-1 input.sk-toggleable__control:checked~label.sk-toggleable__label-arrow:before {content: \"▾\";}#sk-container-id-1 div.sk-estimator input.sk-toggleable__control:checked~label.sk-toggleable__label {background-color: #d4ebff;}#sk-container-id-1 div.sk-label input.sk-toggleable__control:checked~label.sk-toggleable__label {background-color: #d4ebff;}#sk-container-id-1 input.sk-hidden--visually {border: 0;clip: rect(1px 1px 1px 1px);clip: rect(1px, 1px, 1px, 1px);height: 1px;margin: -1px;overflow: hidden;padding: 0;position: absolute;width: 1px;}#sk-container-id-1 div.sk-estimator {font-family: monospace;background-color: #f0f8ff;border: 1px dotted black;border-radius: 0.25em;box-sizing: border-box;margin-bottom: 0.5em;}#sk-container-id-1 div.sk-estimator:hover {background-color: #d4ebff;}#sk-container-id-1 div.sk-parallel-item::after {content: \"\";width: 100%;border-bottom: 1px solid gray;flex-grow: 1;}#sk-container-id-1 div.sk-label:hover label.sk-toggleable__label {background-color: #d4ebff;}#sk-container-id-1 div.sk-serial::before {content: \"\";position: absolute;border-left: 1px solid gray;box-sizing: border-box;top: 0;bottom: 0;left: 50%;z-index: 0;}#sk-container-id-1 div.sk-serial {display: flex;flex-direction: column;align-items: center;background-color: white;padding-right: 0.2em;padding-left: 0.2em;position: relative;}#sk-container-id-1 div.sk-item {position: relative;z-index: 1;}#sk-container-id-1 div.sk-parallel {display: flex;align-items: stretch;justify-content: center;background-color: white;position: relative;}#sk-container-id-1 div.sk-item::before, #sk-container-id-1 div.sk-parallel-item::before {content: \"\";position: absolute;border-left: 1px solid gray;box-sizing: border-box;top: 0;bottom: 0;left: 50%;z-index: -1;}#sk-container-id-1 div.sk-parallel-item {display: flex;flex-direction: column;z-index: 1;position: relative;background-color: white;}#sk-container-id-1 div.sk-parallel-item:first-child::after {align-self: flex-end;width: 50%;}#sk-container-id-1 div.sk-parallel-item:last-child::after {align-self: flex-start;width: 50%;}#sk-container-id-1 div.sk-parallel-item:only-child::after {width: 0;}#sk-container-id-1 div.sk-dashed-wrapped {border: 1px dashed gray;margin: 0 0.4em 0.5em 0.4em;box-sizing: border-box;padding-bottom: 0.4em;background-color: white;}#sk-container-id-1 div.sk-label label {font-family: monospace;font-weight: bold;display: inline-block;line-height: 1.2em;}#sk-container-id-1 div.sk-label-container {text-align: center;}#sk-container-id-1 div.sk-container {/* jupyter's `normalize.less` sets `[hidden] { display: none; }` but bootstrap.min.css set `[hidden] { display: none !important; }` so we also need the `!important` here to be able to override the default hidden behavior on the sphinx rendered scikit-learn.org. See: https://github.com/scikit-learn/scikit-learn/issues/21755 */display: inline-block !important;position: relative;}#sk-container-id-1 div.sk-text-repr-fallback {display: none;}</style><div id=\"sk-container-id-1\" class=\"sk-top-container\"><div class=\"sk-text-repr-fallback\"><pre>DecisionTreeRegressor()</pre><b>In a Jupyter environment, please rerun this cell to show the HTML representation or trust the notebook. <br />On GitHub, the HTML representation is unable to render, please try loading this page with nbviewer.org.</b></div><div class=\"sk-container\" hidden><div class=\"sk-item\"><div class=\"sk-estimator sk-toggleable\"><input class=\"sk-toggleable__control sk-hidden--visually\" id=\"sk-estimator-id-1\" type=\"checkbox\" checked><label for=\"sk-estimator-id-1\" class=\"sk-toggleable__label sk-toggleable__label-arrow\">DecisionTreeRegressor</label><div class=\"sk-toggleable__content\"><pre>DecisionTreeRegressor()</pre></div></div></div></div></div>"
            ]
          },
          "metadata": {},
          "execution_count": 33
        }
      ]
    },
    {
      "cell_type": "code",
      "source": [
        "# Use the model to make predictions on the test data\n",
        "y_pred = tree.predict(X_test)\n",
        "y_pred"
      ],
      "metadata": {
        "colab": {
          "base_uri": "https://localhost:8080/"
        },
        "id": "esR1t5-j55Qr",
        "outputId": "eac97572-a531-44af-ccf5-197d451b683b"
      },
      "execution_count": 34,
      "outputs": [
        {
          "output_type": "execute_result",
          "data": {
            "text/plain": [
              "array([ 31.43,   4.72, 659.2 ,  14.55,  22.28, 317.67,  89.74, 317.67,\n",
              "        56.47,  62.92,   8.05, 178.78,  72.65, 153.24,  31.35,  38.93,\n",
              "       317.67,  38.47,  43.97,  72.65,   5.01,   8.83,  71.82,  11.22,\n",
              "        11.21,  68.85,  81.31,  53.98,   8.05,   9.22, 292.48,  26.75,\n",
              "       193.  ,  43.22,  26.75,  17.43,  19.72,  22.28, 292.48,  27.08,\n",
              "         4.16,  21.07,  60.34, 127.82])"
            ]
          },
          "metadata": {},
          "execution_count": 34
        }
      ]
    },
    {
      "cell_type": "code",
      "source": [
        "# test the model\n",
        "print(\"\\n decision tree:\")\n",
        "# Calculate the mean squared error and root mean squared error\n",
        "mse = mean_squared_error(y_test, y_pred)\n",
        "print(\"MSE:\", mse)\n",
        "\n",
        "rmse = np.sqrt(mse)\n",
        "print(\"RMSE:\", rmse)\n",
        "\n",
        "r2 = r2_score(y_test, y_pred)\n",
        "print(f\"R^2 score: {r2}\")\n",
        "\n",
        "r_squared = tree.score(X_test, y_test)\n",
        "print(\"R-squared:\", r_squared)"
      ],
      "metadata": {
        "colab": {
          "base_uri": "https://localhost:8080/"
        },
        "id": "_5ny5nFE6Is_",
        "outputId": "644b239d-fd0c-4bad-8f96-adfb3398e0ec"
      },
      "execution_count": 37,
      "outputs": [
        {
          "output_type": "stream",
          "name": "stdout",
          "text": [
            "\n",
            " decision tree:\n",
            "MSE: 2001.7547999999988\n",
            "RMSE: 44.740974508832494\n",
            "R^2 score: 0.9216209360512831\n",
            "R-squared: 0.9216209360512831\n"
          ]
        }
      ]
    },
    {
      "cell_type": "code",
      "source": [
        "try:\n",
        "      importances=tree.feature_importances_\n",
        "      print(\"Learned coefficients: \", importances)\n",
        "except AttributeError:\n",
        "      print(\"Decision Tree regressor does not have 'coef_' attribute\")\n"
      ],
      "metadata": {
        "colab": {
          "base_uri": "https://localhost:8080/"
        },
        "id": "kLxYz8DR7Mcq",
        "outputId": "d0f3b5f7-da99-454f-dddb-99f8df5b4052"
      },
      "execution_count": 38,
      "outputs": [
        {
          "output_type": "stream",
          "name": "stdout",
          "text": [
            "Learned coefficients:  [9.90742702e-01 4.60254682e-05 1.65913928e-04 8.63827969e-03\n",
            " 4.07079292e-04]\n"
          ]
        }
      ]
    },
    {
      "cell_type": "code",
      "source": [
        "# Print the importance scores for each feature\n",
        "importances=tree.feature_importances_\n",
        "for feature, importance in zip(X.columns, importances):\n",
        "    print(f\"{feature}: {importance}\")"
      ],
      "metadata": {
        "colab": {
          "base_uri": "https://localhost:8080/"
        },
        "id": "RaEq05PeACPi",
        "outputId": "e5a139b1-5c28-4b0d-e5b7-801a8c578afe"
      },
      "execution_count": 39,
      "outputs": [
        {
          "output_type": "stream",
          "name": "stdout",
          "text": [
            "price (in $ ): 0.9907427016262493\n",
            "x(mm): 4.602546823280242e-05\n",
            "y(mm): 0.00016591392763475735\n",
            "z(mm): 0.008638279685860992\n",
            "dimension (mm): 0.000407079292022038\n"
          ]
        }
      ]
    },
    {
      "cell_type": "code",
      "source": [
        "# Optionally, you can visualize the feature importances using a bar plot\n",
        "plt.bar(range(len(importances)), importances)\n",
        "plt.xticks(range(len(importances)), X.columns, rotation='vertical')\n",
        "plt.xlabel('Features')\n",
        "plt.ylabel('Importance')\n",
        "plt.title('Feature Importances')\n",
        "plt.show()"
      ],
      "metadata": {
        "colab": {
          "base_uri": "https://localhost:8080/",
          "height": 572
        },
        "id": "ArF8qbqQAekj",
        "outputId": "70d7bd33-d224-4cf6-8649-ec005ce4b9e2"
      },
      "execution_count": 41,
      "outputs": [
        {
          "output_type": "display_data",
          "data": {
            "text/plain": [
              "<Figure size 640x480 with 1 Axes>"
            ],
            "image/png": "[encoded data removed]"
          },
          "metadata": {}
        }
      ]
    },
    {
      "cell_type": "markdown",
      "source": [
        "##calculate the bias of decision tree"
      ],
      "metadata": {
        "id": "d4hzi2VTS_ZY"
      }
    },
    {
      "cell_type": "code",
      "source": [
        "# Calculate the mean of the target variable in the training data\n",
        "y_train_mean = np.mean(y_train)\n",
        "# Calculate the intercept value\n",
        "intercept = y_train_mean - np.dot(tree.feature_importances_, np.mean(X_train, axis=0))\n",
        "\n",
        "print(\"bias:\", intercept)"
      ],
      "metadata": {
        "colab": {
          "base_uri": "https://localhost:8080/"
        },
        "id": "eQ1sUZV1S2mr",
        "outputId": "745e72fe-3934-4360-bf34-d54c33e2e5ef"
      },
      "execution_count": 42,
      "outputs": [
        {
          "output_type": "stream",
          "name": "stdout",
          "text": [
            "bias: -231.14793535636346\n"
          ]
        }
      ]
    },
    {
      "cell_type": "code",
      "source": [
        "predicted_price = tree.predict([[92.5,43.97,46.5,45.0,40.8]])\n",
        "print(\"Predicted price:\",predicted_price)"
      ],
      "metadata": {
        "colab": {
          "base_uri": "https://localhost:8080/"
        },
        "id": "iiiFMmmmTWmx",
        "outputId": "6f7c54f2-66c7-4ea0-8e6c-aba78d6ebd40"
      },
      "execution_count": 43,
      "outputs": [
        {
          "output_type": "stream",
          "name": "stdout",
          "text": [
            "Predicted price: [83.95]\n"
          ]
        },
        {
          "output_type": "stream",
          "name": "stderr",
          "text": [
            "/usr/local/lib/python3.10/dist-packages/sklearn/base.py:439: UserWarning: X does not have valid feature names, but DecisionTreeRegressor was fitted with feature names\n",
            "  warnings.warn(\n"
          ]
        }
      ]
    },
    {
      "cell_type": "code",
      "source": [
        "# new 3D model values\n",
        "new_values = [[123.5,1041140.613,123.5, 218.4,100.613]]\n",
        "\n",
        "# Making predictions on new 3D model values\n",
        "price_prediction = tree.predict(new_values)\n",
        "\n",
        "# Displaying the predicted price\n",
        "print(\"Predicted price:\", price_prediction)"
      ],
      "metadata": {
        "colab": {
          "base_uri": "https://localhost:8080/"
        },
        "id": "47awFdRAVnD3",
        "outputId": "34a789ce-c80a-4a74-a669-164d5a0c9201"
      },
      "execution_count": 45,
      "outputs": [
        {
          "output_type": "stream",
          "name": "stdout",
          "text": [
            "Predicted price: [126.03]\n"
          ]
        },
        {
          "output_type": "stream",
          "name": "stderr",
          "text": [
            "/usr/local/lib/python3.10/dist-packages/sklearn/base.py:439: UserWarning: X does not have valid feature names, but DecisionTreeRegressor was fitted with feature names\n",
            "  warnings.warn(\n"
          ]
        }
      ]
    },
    {
      "cell_type": "code",
      "source": [
        "# Use cross-validation to evaluate the model\n",
        "scores = cross_val_score(tree, X_test, y_test, cv=5) # Perform 5-fold cross-validation\n",
        "# Print the scores for each fold\n",
        "print(\"Cross-Validation Scores:\", scores)\n",
        "\n",
        "# Calculate the average score\n",
        "average_score = scores.mean()\n",
        "print(\"Average Score:\", average_score)"
      ],
      "metadata": {
        "colab": {
          "base_uri": "https://localhost:8080/"
        },
        "id": "BcDv0RLTF_Mz",
        "outputId": "db44e8e2-255a-4c16-d3e0-e10709eed772"
      },
      "execution_count": 46,
      "outputs": [
        {
          "output_type": "stream",
          "name": "stdout",
          "text": [
            "Cross-Validation Scores: [0.79840434 0.95673778 0.98587596 0.60138151 0.73391035]\n",
            "Average Score: 0.8152619874305618\n"
          ]
        }
      ]
    },
    {
      "cell_type": "markdown",
      "source": [
        "##Random forest"
      ],
      "metadata": {
        "id": "BiW4jJVwQfRd"
      }
    },
    {
      "cell_type": "code",
      "source": [
        "# Fit the random forest regression model to the training data\n",
        "forest =RandomForestRegressor(n_estimators=100, random_state=0)\n",
        "forest.fit(X_train, y_train)"
      ],
      "metadata": {
        "colab": {
          "base_uri": "https://localhost:8080/",
          "height": 74
        },
        "id": "s6oy-5xIQlUy",
        "outputId": "553be66b-caaf-4845-81fb-e34f6229f3ec"
      },
      "execution_count": 47,
      "outputs": [
        {
          "output_type": "execute_result",
          "data": {
            "text/plain": [
              "RandomForestRegressor(random_state=0)"
            ],
            "text/html": [
              "<style>#sk-container-id-2 {color: black;background-color: white;}#sk-container-id-2 pre{padding: 0;}#sk-container-id-2 div.sk-toggleable {background-color: white;}#sk-container-id-2 label.sk-toggleable__label {cursor: pointer;display: block;width: 100%;margin-bottom: 0;padding: 0.3em;box-sizing: border-box;text-align: center;}#sk-container-id-2 label.sk-toggleable__label-arrow:before {content: \"▸\";float: left;margin-right: 0.25em;color: #696969;}#sk-container-id-2 label.sk-toggleable__label-arrow:hover:before {color: black;}#sk-container-id-2 div.sk-estimator:hover label.sk-toggleable__label-arrow:before {color: black;}#sk-container-id-2 div.sk-toggleable__content {max-height: 0;max-width: 0;overflow: hidden;text-align: left;background-color: #f0f8ff;}#sk-container-id-2 div.sk-toggleable__content pre {margin: 0.2em;color: black;border-radius: 0.25em;background-color: #f0f8ff;}#sk-container-id-2 input.sk-toggleable__control:checked~div.sk-toggleable__content {max-height: 200px;max-width: 100%;overflow: auto;}#sk-container-id-2 input.sk-toggleable__control:checked~label.sk-toggleable__label-arrow:before {content: \"▾\";}#sk-container-id-2 div.sk-estimator input.sk-toggleable__control:checked~label.sk-toggleable__label {background-color: #d4ebff;}#sk-container-id-2 div.sk-label input.sk-toggleable__control:checked~label.sk-toggleable__label {background-color: #d4ebff;}#sk-container-id-2 input.sk-hidden--visually {border: 0;clip: rect(1px 1px 1px 1px);clip: rect(1px, 1px, 1px, 1px);height: 1px;margin: -1px;overflow: hidden;padding: 0;position: absolute;width: 1px;}#sk-container-id-2 div.sk-estimator {font-family: monospace;background-color: #f0f8ff;border: 1px dotted black;border-radius: 0.25em;box-sizing: border-box;margin-bottom: 0.5em;}#sk-container-id-2 div.sk-estimator:hover {background-color: #d4ebff;}#sk-container-id-2 div.sk-parallel-item::after {content: \"\";width: 100%;border-bottom: 1px solid gray;flex-grow: 1;}#sk-container-id-2 div.sk-label:hover label.sk-toggleable__label {background-color: #d4ebff;}#sk-container-id-2 div.sk-serial::before {content: \"\";position: absolute;border-left: 1px solid gray;box-sizing: border-box;top: 0;bottom: 0;left: 50%;z-index: 0;}#sk-container-id-2 div.sk-serial {display: flex;flex-direction: column;align-items: center;background-color: white;padding-right: 0.2em;padding-left: 0.2em;position: relative;}#sk-container-id-2 div.sk-item {position: relative;z-index: 1;}#sk-container-id-2 div.sk-parallel {display: flex;align-items: stretch;justify-content: center;background-color: white;position: relative;}#sk-container-id-2 div.sk-item::before, #sk-container-id-2 div.sk-parallel-item::before {content: \"\";position: absolute;border-left: 1px solid gray;box-sizing: border-box;top: 0;bottom: 0;left: 50%;z-index: -1;}#sk-container-id-2 div.sk-parallel-item {display: flex;flex-direction: column;z-index: 1;position: relative;background-color: white;}#sk-container-id-2 div.sk-parallel-item:first-child::after {align-self: flex-end;width: 50%;}#sk-container-id-2 div.sk-parallel-item:last-child::after {align-self: flex-start;width: 50%;}#sk-container-id-2 div.sk-parallel-item:only-child::after {width: 0;}#sk-container-id-2 div.sk-dashed-wrapped {border: 1px dashed gray;margin: 0 0.4em 0.5em 0.4em;box-sizing: border-box;padding-bottom: 0.4em;background-color: white;}#sk-container-id-2 div.sk-label label {font-family: monospace;font-weight: bold;display: inline-block;line-height: 1.2em;}#sk-container-id-2 div.sk-label-container {text-align: center;}#sk-container-id-2 div.sk-container {/* jupyter's `normalize.less` sets `[hidden] { display: none; }` but bootstrap.min.css set `[hidden] { display: none !important; }` so we also need the `!important` here to be able to override the default hidden behavior on the sphinx rendered scikit-learn.org. See: https://github.com/scikit-learn/scikit-learn/issues/21755 */display: inline-block !important;position: relative;}#sk-container-id-2 div.sk-text-repr-fallback {display: none;}</style><div id=\"sk-container-id-2\" class=\"sk-top-container\"><div class=\"sk-text-repr-fallback\"><pre>RandomForestRegressor(random_state=0)</pre><b>In a Jupyter environment, please rerun this cell to show the HTML representation or trust the notebook. <br />On GitHub, the HTML representation is unable to render, please try loading this page with nbviewer.org.</b></div><div class=\"sk-container\" hidden><div class=\"sk-item\"><div class=\"sk-estimator sk-toggleable\"><input class=\"sk-toggleable__control sk-hidden--visually\" id=\"sk-estimator-id-2\" type=\"checkbox\" checked><label for=\"sk-estimator-id-2\" class=\"sk-toggleable__label sk-toggleable__label-arrow\">RandomForestRegressor</label><div class=\"sk-toggleable__content\"><pre>RandomForestRegressor(random_state=0)</pre></div></div></div></div></div>"
            ]
          },
          "metadata": {},
          "execution_count": 47
        }
      ]
    },
    {
      "cell_type": "code",
      "source": [
        "# Use the model to make predictions on the test data\n",
        "y_pred = forest.predict(X_test)\n",
        "y_pred"
      ],
      "metadata": {
        "colab": {
          "base_uri": "https://localhost:8080/"
        },
        "id": "AV_Es8I3QoVL",
        "outputId": "f8b59b7d-16e2-4b00-d661-aaf7dac0f44a"
      },
      "execution_count": 48,
      "outputs": [
        {
          "output_type": "execute_result",
          "data": {
            "text/plain": [
              "array([ 31.6468,   4.6456, 678.5023,  14.4319,  22.7842, 445.4167,\n",
              "        91.6016, 401.5136,  55.1782,  59.6628,   7.5916, 176.6156,\n",
              "        70.4306, 153.2842,  31.7094,  38.4341, 355.9563,  44.3567,\n",
              "        43.7861,  70.9373,   5.2028,   8.6538,  70.0808,  11.2359,\n",
              "        11.1678,  86.3427,  90.8262,  54.2279,   8.0823,   8.6666,\n",
              "       274.6344,  26.7869, 494.5485,  44.6585,  26.6796,  18.1304,\n",
              "        19.8217,  22.1403, 293.0553,  27.2516,   4.2118,  20.5048,\n",
              "        63.1181, 126.3331])"
            ]
          },
          "metadata": {},
          "execution_count": 48
        }
      ]
    },
    {
      "cell_type": "code",
      "source": [
        "print(\"random forest:\")\n",
        "# Calculate the mean squared error and root mean squared error\n",
        "mse = mean_squared_error(y_test, y_pred)\n",
        "print(\"MSE:\", mse)\n",
        "\n",
        "rmse = np.sqrt(mse)\n",
        "print(\"RMSE:\", rmse)\n",
        "\n",
        "r2 = r2_score(y_test, y_pred)\n",
        "print(f\"R^2 score: {r2}\")\n",
        "\n",
        "r_squared = forest.score(X_test, y_test)\n",
        "print(\"R-squared:\", r_squared)"
      ],
      "metadata": {
        "colab": {
          "base_uri": "https://localhost:8080/"
        },
        "id": "Nbcb60UKQ4PO",
        "outputId": "09c17646-009f-4afa-fcea-f6e92365fbf8"
      },
      "execution_count": 50,
      "outputs": [
        {
          "output_type": "stream",
          "name": "stdout",
          "text": [
            "random forest:\n",
            "MSE: 3111.704975324545\n",
            "RMSE: 55.78265837448539\n",
            "R^2 score: 0.8781606402290114\n",
            "R-squared: 0.8781606402290114\n"
          ]
        }
      ]
    },
    {
      "cell_type": "code",
      "source": [
        "# Print the importance scores for each feature\n",
        "importances=forest.feature_importances_\n",
        "for feature, importance in zip(X.columns, importances):\n",
        "    print(f\"{feature}: {importance}\")"
      ],
      "metadata": {
        "colab": {
          "base_uri": "https://localhost:8080/"
        },
        "id": "5EGffsRgSC5y",
        "outputId": "6826aea2-e4b3-43ea-ec9b-7119f206639e"
      },
      "execution_count": 51,
      "outputs": [
        {
          "output_type": "stream",
          "name": "stdout",
          "text": [
            "price (in $ ): 0.6880343536407949\n",
            "x(mm): 0.008890952961154587\n",
            "y(mm): 0.046758931094736694\n",
            "z(mm): 0.1353829619916938\n",
            "dimension (mm): 0.12093280031161986\n"
          ]
        }
      ]
    },
    {
      "cell_type": "code",
      "source": [
        "# Optionally, you can visualize the feature importances using a bar plot\n",
        "plt.bar(range(len(importances)), importances)\n",
        "plt.xticks(range(len(importances)), X.columns, rotation='vertical')\n",
        "plt.xlabel('Features')\n",
        "plt.ylabel('Importance')\n",
        "plt.title('Feature Importances')\n",
        "plt.show()"
      ],
      "metadata": {
        "colab": {
          "base_uri": "https://localhost:8080/",
          "height": 572
        },
        "id": "toBe5NOySM5v",
        "outputId": "a04f56bc-c488-491d-8d1f-6d05d0c930b4"
      },
      "execution_count": 52,
      "outputs": [
        {
          "output_type": "display_data",
          "data": {
            "text/plain": [
              "<Figure size 640x480 with 1 Axes>"
            ],
            "image/png": "[encoded data removed]"
          },
          "metadata": {}
        }
      ]
    },
    {
      "cell_type": "code",
      "source": [
        "# Calculate the mean of the target variable in the training data\n",
        "y_train_mean = np.mean(y_train)\n",
        "# Calculate the intercept value\n",
        "intercept = y_train_mean - np.dot(forest.feature_importances_, np.mean(X_train, axis=0))\n",
        "\n",
        "print(\"bias:\", intercept)"
      ],
      "metadata": {
        "colab": {
          "base_uri": "https://localhost:8080/"
        },
        "id": "ddwePKZIWS1z",
        "outputId": "dc97618f-fc3c-45bc-9ecf-3a38632e3d31"
      },
      "execution_count": 54,
      "outputs": [
        {
          "output_type": "stream",
          "name": "stdout",
          "text": [
            "bias: -68802.28754851125\n"
          ]
        }
      ]
    },
    {
      "cell_type": "code",
      "source": [
        "predicted_price = forest.predict([[92.5,43.97,46.5,45.0,40.8]])\n",
        "print(\"Predicted price:\",predicted_price)"
      ],
      "metadata": {
        "colab": {
          "base_uri": "https://localhost:8080/"
        },
        "id": "cPexsQ0DWkM-",
        "outputId": "c0b1ed5e-2722-4270-af5d-fc3c138c979c"
      },
      "execution_count": 55,
      "outputs": [
        {
          "output_type": "stream",
          "name": "stdout",
          "text": [
            "Predicted price: [91.0498]\n"
          ]
        },
        {
          "output_type": "stream",
          "name": "stderr",
          "text": [
            "/usr/local/lib/python3.10/dist-packages/sklearn/base.py:439: UserWarning: X does not have valid feature names, but RandomForestRegressor was fitted with feature names\n",
            "  warnings.warn(\n"
          ]
        }
      ]
    },
    {
      "cell_type": "code",
      "source": [
        "# Use cross-validation to evaluate the model\n",
        "scores = cross_val_score(forest, X_test, y_test, cv=5) # Perform 5-fold cross-validation\n",
        "# Print the scores for each fold\n",
        "print(\"Cross-Validation Scores:\", scores)\n",
        "\n",
        "# Calculate the average score\n",
        "average_score = scores.mean()\n",
        "print(\"Average Score:\", average_score)"
      ],
      "metadata": {
        "colab": {
          "base_uri": "https://localhost:8080/"
        },
        "id": "_0nwxJBnWzwS",
        "outputId": "af736c22-af54-4e19-d5ea-79d004672ca1"
      },
      "execution_count": 56,
      "outputs": [
        {
          "output_type": "stream",
          "name": "stdout",
          "text": [
            "Cross-Validation Scores: [0.63323674 0.98455143 0.99220335 0.52684026 0.94756246]\n",
            "Average Score: 0.8168788494788956\n"
          ]
        }
      ]
    },
    {
      "cell_type": "markdown",
      "source": [
        "##**support vector regression **"
      ],
      "metadata": {
        "id": "KMIQKHAQXFVc"
      }
    },
    {
      "cell_type": "code",
      "source": [
        "# Fit the support vector regression model to the training data\n",
        "svr = SVR(kernel='rbf', C=100, epsilon=0.2)\n",
        "svr.fit(X_train, y_train)"
      ],
      "metadata": {
        "colab": {
          "base_uri": "https://localhost:8080/",
          "height": 74
        },
        "id": "otjpoRt8XIb1",
        "outputId": "6c8eef29-c638-4114-dbb6-b90e3f0aadc2"
      },
      "execution_count": 74,
      "outputs": [
        {
          "output_type": "execute_result",
          "data": {
            "text/plain": [
              "SVR(C=100, epsilon=0.2)"
            ],
            "text/html": [
              "<style>#sk-container-id-4 {color: black;background-color: white;}#sk-container-id-4 pre{padding: 0;}#sk-container-id-4 div.sk-toggleable {background-color: white;}#sk-container-id-4 label.sk-toggleable__label {cursor: pointer;display: block;width: 100%;margin-bottom: 0;padding: 0.3em;box-sizing: border-box;text-align: center;}#sk-container-id-4 label.sk-toggleable__label-arrow:before {content: \"▸\";float: left;margin-right: 0.25em;color: #696969;}#sk-container-id-4 label.sk-toggleable__label-arrow:hover:before {color: black;}#sk-container-id-4 div.sk-estimator:hover label.sk-toggleable__label-arrow:before {color: black;}#sk-container-id-4 div.sk-toggleable__content {max-height: 0;max-width: 0;overflow: hidden;text-align: left;background-color: #f0f8ff;}#sk-container-id-4 div.sk-toggleable__content pre {margin: 0.2em;color: black;border-radius: 0.25em;background-color: #f0f8ff;}#sk-container-id-4 input.sk-toggleable__control:checked~div.sk-toggleable__content {max-height: 200px;max-width: 100%;overflow: auto;}#sk-container-id-4 input.sk-toggleable__control:checked~label.sk-toggleable__label-arrow:before {content: \"▾\";}#sk-container-id-4 div.sk-estimator input.sk-toggleable__control:checked~label.sk-toggleable__label {background-color: #d4ebff;}#sk-container-id-4 div.sk-label input.sk-toggleable__control:checked~label.sk-toggleable__label {background-color: #d4ebff;}#sk-container-id-4 input.sk-hidden--visually {border: 0;clip: rect(1px 1px 1px 1px);clip: rect(1px, 1px, 1px, 1px);height: 1px;margin: -1px;overflow: hidden;padding: 0;position: absolute;width: 1px;}#sk-container-id-4 div.sk-estimator {font-family: monospace;background-color: #f0f8ff;border: 1px dotted black;border-radius: 0.25em;box-sizing: border-box;margin-bottom: 0.5em;}#sk-container-id-4 div.sk-estimator:hover {background-color: #d4ebff;}#sk-container-id-4 div.sk-parallel-item::after {content: \"\";width: 100%;border-bottom: 1px solid gray;flex-grow: 1;}#sk-container-id-4 div.sk-label:hover label.sk-toggleable__label {background-color: #d4ebff;}#sk-container-id-4 div.sk-serial::before {content: \"\";position: absolute;border-left: 1px solid gray;box-sizing: border-box;top: 0;bottom: 0;left: 50%;z-index: 0;}#sk-container-id-4 div.sk-serial {display: flex;flex-direction: column;align-items: center;background-color: white;padding-right: 0.2em;padding-left: 0.2em;position: relative;}#sk-container-id-4 div.sk-item {position: relative;z-index: 1;}#sk-container-id-4 div.sk-parallel {display: flex;align-items: stretch;justify-content: center;background-color: white;position: relative;}#sk-container-id-4 div.sk-item::before, #sk-container-id-4 div.sk-parallel-item::before {content: \"\";position: absolute;border-left: 1px solid gray;box-sizing: border-box;top: 0;bottom: 0;left: 50%;z-index: -1;}#sk-container-id-4 div.sk-parallel-item {display: flex;flex-direction: column;z-index: 1;position: relative;background-color: white;}#sk-container-id-4 div.sk-parallel-item:first-child::after {align-self: flex-end;width: 50%;}#sk-container-id-4 div.sk-parallel-item:last-child::after {align-self: flex-start;width: 50%;}#sk-container-id-4 div.sk-parallel-item:only-child::after {width: 0;}#sk-container-id-4 div.sk-dashed-wrapped {border: 1px dashed gray;margin: 0 0.4em 0.5em 0.4em;box-sizing: border-box;padding-bottom: 0.4em;background-color: white;}#sk-container-id-4 div.sk-label label {font-family: monospace;font-weight: bold;display: inline-block;line-height: 1.2em;}#sk-container-id-4 div.sk-label-container {text-align: center;}#sk-container-id-4 div.sk-container {/* jupyter's `normalize.less` sets `[hidden] { display: none; }` but bootstrap.min.css set `[hidden] { display: none !important; }` so we also need the `!important` here to be able to override the default hidden behavior on the sphinx rendered scikit-learn.org. See: https://github.com/scikit-learn/scikit-learn/issues/21755 */display: inline-block !important;position: relative;}#sk-container-id-4 div.sk-text-repr-fallback {display: none;}</style><div id=\"sk-container-id-4\" class=\"sk-top-container\"><div class=\"sk-text-repr-fallback\"><pre>SVR(C=100, epsilon=0.2)</pre><b>In a Jupyter environment, please rerun this cell to show the HTML representation or trust the notebook. <br />On GitHub, the HTML representation is unable to render, please try loading this page with nbviewer.org.</b></div><div class=\"sk-container\" hidden><div class=\"sk-item\"><div class=\"sk-estimator sk-toggleable\"><input class=\"sk-toggleable__control sk-hidden--visually\" id=\"sk-estimator-id-4\" type=\"checkbox\" checked><label for=\"sk-estimator-id-4\" class=\"sk-toggleable__label sk-toggleable__label-arrow\">SVR</label><div class=\"sk-toggleable__content\"><pre>SVR(C=100, epsilon=0.2)</pre></div></div></div></div></div>"
            ]
          },
          "metadata": {},
          "execution_count": 74
        }
      ]
    },
    {
      "cell_type": "code",
      "source": [
        "# Use the model to make predictions on the test data\n",
        "y_pred = svr.predict(X_test)\n",
        "y_pred"
      ],
      "metadata": {
        "colab": {
          "base_uri": "https://localhost:8080/"
        },
        "id": "WugDcE83XOfB",
        "outputId": "0885f97d-71ac-4dd1-ec1e-5650567d1a7a"
      },
      "execution_count": 75,
      "outputs": [
        {
          "output_type": "execute_result",
          "data": {
            "text/plain": [
              "array([ 27.87408677,  17.92488727, 123.96734619,  20.15823201,\n",
              "        33.01446193, 125.50309253, 174.76092634, 104.0480792 ,\n",
              "        44.71165219,  81.87958768,  18.08462876,  77.75136978,\n",
              "        75.79983253,  99.0440181 ,  31.71577318,  44.01275959,\n",
              "       212.68838513, 151.68545067,  24.45248213,  78.32604236,\n",
              "        17.98283055,  18.20491524,  60.62599061,  18.74766377,\n",
              "        18.34508343, 177.56492861,  89.27865385,  35.56999613,\n",
              "        18.12115164,  26.45606513,  63.73466143,  19.9006483 ,\n",
              "       202.39824405,  24.67414529,  20.42047743,  18.92544076,\n",
              "        20.50034283,  19.85387034, 210.86478109,  22.13997636,\n",
              "        17.93414085,  19.4052688 , 101.15945675, 135.97848768])"
            ]
          },
          "metadata": {},
          "execution_count": 75
        }
      ]
    },
    {
      "cell_type": "code",
      "source": [
        "print(\"SVR:\")\n",
        "# Calculate the mean squared error and root mean squared error\n",
        "mse = mean_squared_error(y_test, y_pred)\n",
        "print(\"MSE:\", mse)\n",
        "\n",
        "rmse = np.sqrt(mse)\n",
        "print(\"RMSE:\", rmse)\n",
        "\n",
        "r2 = r2_score(y_test, y_pred)\n",
        "print(f\"R^2 score: {r2}\")\n",
        "\n",
        "r_squared = forest.score(X_test, y_test)\n",
        "print(\"R-squared:\", r_squared)"
      ],
      "metadata": {
        "colab": {
          "base_uri": "https://localhost:8080/"
        },
        "id": "pQo-lsEgXViK",
        "outputId": "d17f7171-6fbc-448e-8e74-7c6120d3289d"
      },
      "execution_count": 76,
      "outputs": [
        {
          "output_type": "stream",
          "name": "stdout",
          "text": [
            "SVR:\n",
            "MSE: 19413.784877804774\n",
            "RMSE: 139.33335881189677\n",
            "R^2 score: 0.23984981256241045\n",
            "R-squared: 0.8781606402290114\n"
          ]
        }
      ]
    },
    {
      "cell_type": "code",
      "source": [
        "try:\n",
        "    print(\"Learned coefficients: \", svr.feature_importance_)\n",
        "except AttributeError:\n",
        "    print(\"svr does not have 'coef_' attribute\")     "
      ],
      "metadata": {
        "colab": {
          "base_uri": "https://localhost:8080/"
        },
        "id": "cYVxc1lAXgdY",
        "outputId": "26fe3df8-542f-4e83-9c04-c78baacd8428"
      },
      "execution_count": 77,
      "outputs": [
        {
          "output_type": "stream",
          "name": "stdout",
          "text": [
            "svr does not have 'coef_' attribute\n"
          ]
        }
      ]
    },
    {
      "cell_type": "code",
      "source": [
        "print(\"Bias of SVR: \", svr.intercept_)"
      ],
      "metadata": {
        "colab": {
          "base_uri": "https://localhost:8080/"
        },
        "id": "YG20LDkHZorL",
        "outputId": "edc4ea3f-2da4-43c5-ce41-c8490eb3e198"
      },
      "execution_count": 78,
      "outputs": [
        {
          "output_type": "stream",
          "name": "stdout",
          "text": [
            "Bias of SVR:  [202.39824405]\n"
          ]
        }
      ]
    },
    {
      "cell_type": "code",
      "source": [
        "# Use the model to make a prediction on new data\n",
        "predicted_price = svr.predict([[92.5,43.97,46.5,45.0,40.8]])\n",
        "print(\"Predicted price:\", predicted_price)"
      ],
      "metadata": {
        "colab": {
          "base_uri": "https://localhost:8080/"
        },
        "id": "ytk9nA0OZ5Ha",
        "outputId": "50760d27-f794-4f9c-d08f-9c4e8a3fdd10"
      },
      "execution_count": 79,
      "outputs": [
        {
          "output_type": "stream",
          "name": "stdout",
          "text": [
            "Predicted price: [17.92508194]\n"
          ]
        },
        {
          "output_type": "stream",
          "name": "stderr",
          "text": [
            "/usr/local/lib/python3.10/dist-packages/sklearn/base.py:439: UserWarning: X does not have valid feature names, but SVR was fitted with feature names\n",
            "  warnings.warn(\n"
          ]
        }
      ]
    },
    {
      "cell_type": "code",
      "source": [
        "# new 3D model values\n",
        "new_values = [[123.5,1041140.613,123.5, 218.4,100.613]]\n",
        "\n",
        "# Making predictions on new 3D model values\n",
        "price_prediction = svr.predict(new_values)\n",
        "\n",
        "# Displaying the predicted price\n",
        "print(\"Predicted price:\", price_prediction)"
      ],
      "metadata": {
        "colab": {
          "base_uri": "https://localhost:8080/"
        },
        "id": "bopDiF55aX7z",
        "outputId": "fcd6cc5a-728a-4f57-d78d-6f200c9ba67b"
      },
      "execution_count": 80,
      "outputs": [
        {
          "output_type": "stream",
          "name": "stdout",
          "text": [
            "Predicted price: [69.81427296]\n"
          ]
        },
        {
          "output_type": "stream",
          "name": "stderr",
          "text": [
            "/usr/local/lib/python3.10/dist-packages/sklearn/base.py:439: UserWarning: X does not have valid feature names, but SVR was fitted with feature names\n",
            "  warnings.warn(\n"
          ]
        }
      ]
    },
    {
      "cell_type": "code",
      "source": [
        "# Use cross-validation to evaluate the model\n",
        "scores = cross_val_score(forest, X_test, y_test, cv=5) # Perform 5-fold cross-validation\n",
        "# Print the scores for each fold\n",
        "print(\"Cross-Validation Scores:\", scores)\n",
        "\n",
        "# Calculate the average score\n",
        "average_score = scores.mean()\n",
        "print(\"Average Score:\", average_score)"
      ],
      "metadata": {
        "colab": {
          "base_uri": "https://localhost:8080/"
        },
        "id": "Uh2FdGZ2aixN",
        "outputId": "bb56374c-1a4f-4245-87d6-9fefe3856e9f"
      },
      "execution_count": 81,
      "outputs": [
        {
          "output_type": "stream",
          "name": "stdout",
          "text": [
            "Cross-Validation Scores: [0.63323674 0.98455143 0.99220335 0.52684026 0.94756246]\n",
            "Average Score: 0.8168788494788956\n"
          ]
        }
      ]
    }
  ]
}