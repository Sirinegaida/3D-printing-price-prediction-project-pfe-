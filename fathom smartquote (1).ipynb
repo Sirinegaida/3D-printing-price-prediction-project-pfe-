{
 "cells": [
  {
   "cell_type": "code",
   "execution_count": 1,
   "id": "fb4986b3",
   "metadata": {},
   "outputs": [
    {
     "ename": "ModuleNotFoundError",
     "evalue": "No module named 'selenium'",
     "output_type": "error",
     "traceback": [
      "\u001b[1;31m---------------------------------------------------------------------------\u001b[0m",
      "\u001b[1;31mModuleNotFoundError\u001b[0m                       Traceback (most recent call last)",
      "Cell \u001b[1;32mIn[1], line 1\u001b[0m\n\u001b[1;32m----> 1\u001b[0m \u001b[39mimport\u001b[39;00m \u001b[39mselenium\u001b[39;00m\n\u001b[0;32m      2\u001b[0m \u001b[39mimport\u001b[39;00m \u001b[39mtime\u001b[39;00m\n\u001b[0;32m      3\u001b[0m \u001b[39mfrom\u001b[39;00m \u001b[39mselenium\u001b[39;00m \u001b[39mimport\u001b[39;00m webdriver \n",
      "\u001b[1;31mModuleNotFoundError\u001b[0m: No module named 'selenium'"
     ]
    }
   ],
   "source": [
    "import selenium\n",
    "import time\n",
    "from selenium import webdriver \n",
    "from pymongo import MongoClient\n",
    "from bs4 import BeautifulSoup\n",
    "from selenium.webdriver.support.wait import WebDriverWait\n",
    "from selenium.webdriver.support import expected_conditions as EC\n",
    "from selenium.webdriver.common.by import By\n",
    "import pymongo\n",
    "import requests\n",
    "from time import sleep\n",
    "import urllib.request\n",
    "import os\n",
    "import pandas as pd\n",
    "from lxml import html"
   ]
  },
  {
   "cell_type": "code",
   "execution_count": 8,
   "id": "6d2d7f69",
   "metadata": {},
   "outputs": [],
   "source": [
    "url = 'https://smartquote.fathommfg.com'"
   ]
  },
  {
   "cell_type": "code",
   "execution_count": 11,
   "id": "fd600cf5",
   "metadata": {},
   "outputs": [
    {
     "ename": "ElementClickInterceptedException",
     "evalue": "Message: element click intercepted: Element <div class=\"input-toggle__btn\">...</div> is not clickable at point (123, 623). Other element would receive the click: <div class=\"_hj-cl39T__MinimizedWidgetMessage__message _hj-hc6BA__styles__roundedCorners _hj-vpfap__MinimizedWidgetMessage__left\">...</div>\n  (Session info: chrome=111.0.5563.65)\nStacktrace:\nBacktrace:\n\t(No symbol) [0x00C0DCE3]\n\t(No symbol) [0x00BA39D1]\n\t(No symbol) [0x00AB4DA8]\n\t(No symbol) [0x00AE52EA]\n\t(No symbol) [0x00AE3BBA]\n\t(No symbol) [0x00AE1EFB]\n\t(No symbol) [0x00AE1027]\n\t(No symbol) [0x00AD8D05]\n\t(No symbol) [0x00AFAECC]\n\t(No symbol) [0x00AD8726]\n\t(No symbol) [0x00AFB224]\n\t(No symbol) [0x00B0D57C]\n\t(No symbol) [0x00AFACC6]\n\t(No symbol) [0x00AD6F68]\n\t(No symbol) [0x00AD80CD]\n\tGetHandleVerifier [0x00E83832+2506274]\n\tGetHandleVerifier [0x00EB9794+2727300]\n\tGetHandleVerifier [0x00EBE36C+2746716]\n\tGetHandleVerifier [0x00CB6690+617600]\n\t(No symbol) [0x00BAC712]\n\t(No symbol) [0x00BB1FF8]\n\t(No symbol) [0x00BB20DB]\n\t(No symbol) [0x00BBC63B]\n\tBaseThreadInitThunk [0x76FE00F9+25]\n\tRtlGetAppContainerNamedObjectPath [0x77847BBE+286]\n\tRtlGetAppContainerNamedObjectPath [0x77847B8E+238]\n",
     "output_type": "error",
     "traceback": [
      "\u001b[1;31m---------------------------------------------------------------------------\u001b[0m",
      "\u001b[1;31mElementClickInterceptedException\u001b[0m          Traceback (most recent call last)",
      "Input \u001b[1;32mIn [11]\u001b[0m, in \u001b[0;36m<cell line: 39>\u001b[1;34m()\u001b[0m\n\u001b[0;32m     37\u001b[0m \u001b[38;5;66;03m#specify unit\u001b[39;00m\n\u001b[0;32m     38\u001b[0m mm \u001b[38;5;241m=\u001b[39m WebDriverWait(browser, \u001b[38;5;241m5\u001b[39m)\u001b[38;5;241m.\u001b[39muntil(EC\u001b[38;5;241m.\u001b[39melement_to_be_clickable((\u001b[38;5;124m'\u001b[39m\u001b[38;5;124mxpath\u001b[39m\u001b[38;5;124m'\u001b[39m, \u001b[38;5;124m'\u001b[39m\u001b[38;5;124m//*[@id=\u001b[39m\u001b[38;5;124m\"\u001b[39m\u001b[38;5;124mapp\u001b[39m\u001b[38;5;124m\"\u001b[39m\u001b[38;5;124m]/div/div/div[1]/div[2]/main/div/div[3]/div/div[2]/div/div/div[2]/div/div[2]/div/div/div/div[1]\u001b[39m\u001b[38;5;124m'\u001b[39m)))\n\u001b[1;32m---> 39\u001b[0m \u001b[43mmm\u001b[49m\u001b[38;5;241;43m.\u001b[39;49m\u001b[43mclick\u001b[49m\u001b[43m(\u001b[49m\u001b[43m)\u001b[49m\n\u001b[0;32m     42\u001b[0m \u001b[38;5;66;03m#check \u001b[39;00m\n\u001b[0;32m     43\u001b[0m check\u001b[38;5;241m=\u001b[39m WebDriverWait(browser, \u001b[38;5;241m10\u001b[39m)\u001b[38;5;241m.\u001b[39muntil(EC\u001b[38;5;241m.\u001b[39melement_to_be_clickable((\u001b[38;5;124m'\u001b[39m\u001b[38;5;124mxpath\u001b[39m\u001b[38;5;124m'\u001b[39m, \u001b[38;5;124m'\u001b[39m\u001b[38;5;124m//*[@id=\u001b[39m\u001b[38;5;124m\"\u001b[39m\u001b[38;5;124mapp\u001b[39m\u001b[38;5;124m\"\u001b[39m\u001b[38;5;124m]/div/div/div[1]/div[2]/main/div/div[5]/div/label\u001b[39m\u001b[38;5;124m'\u001b[39m)))\n",
      "File \u001b[1;32m~\\anaconda3\\lib\\site-packages\\selenium\\webdriver\\remote\\webelement.py:93\u001b[0m, in \u001b[0;36mWebElement.click\u001b[1;34m(self)\u001b[0m\n\u001b[0;32m     91\u001b[0m \u001b[38;5;28;01mdef\u001b[39;00m \u001b[38;5;21mclick\u001b[39m(\u001b[38;5;28mself\u001b[39m) \u001b[38;5;241m-\u001b[39m\u001b[38;5;241m>\u001b[39m \u001b[38;5;28;01mNone\u001b[39;00m:\n\u001b[0;32m     92\u001b[0m     \u001b[38;5;124;03m\"\"\"Clicks the element.\"\"\"\u001b[39;00m\n\u001b[1;32m---> 93\u001b[0m     \u001b[38;5;28;43mself\u001b[39;49m\u001b[38;5;241;43m.\u001b[39;49m\u001b[43m_execute\u001b[49m\u001b[43m(\u001b[49m\u001b[43mCommand\u001b[49m\u001b[38;5;241;43m.\u001b[39;49m\u001b[43mCLICK_ELEMENT\u001b[49m\u001b[43m)\u001b[49m\n",
      "File \u001b[1;32m~\\anaconda3\\lib\\site-packages\\selenium\\webdriver\\remote\\webelement.py:403\u001b[0m, in \u001b[0;36mWebElement._execute\u001b[1;34m(self, command, params)\u001b[0m\n\u001b[0;32m    401\u001b[0m     params \u001b[38;5;241m=\u001b[39m {}\n\u001b[0;32m    402\u001b[0m params[\u001b[38;5;124m\"\u001b[39m\u001b[38;5;124mid\u001b[39m\u001b[38;5;124m\"\u001b[39m] \u001b[38;5;241m=\u001b[39m \u001b[38;5;28mself\u001b[39m\u001b[38;5;241m.\u001b[39m_id\n\u001b[1;32m--> 403\u001b[0m \u001b[38;5;28;01mreturn\u001b[39;00m \u001b[38;5;28;43mself\u001b[39;49m\u001b[38;5;241;43m.\u001b[39;49m\u001b[43m_parent\u001b[49m\u001b[38;5;241;43m.\u001b[39;49m\u001b[43mexecute\u001b[49m\u001b[43m(\u001b[49m\u001b[43mcommand\u001b[49m\u001b[43m,\u001b[49m\u001b[43m \u001b[49m\u001b[43mparams\u001b[49m\u001b[43m)\u001b[49m\n",
      "File \u001b[1;32m~\\anaconda3\\lib\\site-packages\\selenium\\webdriver\\remote\\webdriver.py:440\u001b[0m, in \u001b[0;36mWebDriver.execute\u001b[1;34m(self, driver_command, params)\u001b[0m\n\u001b[0;32m    438\u001b[0m response \u001b[38;5;241m=\u001b[39m \u001b[38;5;28mself\u001b[39m\u001b[38;5;241m.\u001b[39mcommand_executor\u001b[38;5;241m.\u001b[39mexecute(driver_command, params)\n\u001b[0;32m    439\u001b[0m \u001b[38;5;28;01mif\u001b[39;00m response:\n\u001b[1;32m--> 440\u001b[0m     \u001b[38;5;28;43mself\u001b[39;49m\u001b[38;5;241;43m.\u001b[39;49m\u001b[43merror_handler\u001b[49m\u001b[38;5;241;43m.\u001b[39;49m\u001b[43mcheck_response\u001b[49m\u001b[43m(\u001b[49m\u001b[43mresponse\u001b[49m\u001b[43m)\u001b[49m\n\u001b[0;32m    441\u001b[0m     response[\u001b[38;5;124m\"\u001b[39m\u001b[38;5;124mvalue\u001b[39m\u001b[38;5;124m\"\u001b[39m] \u001b[38;5;241m=\u001b[39m \u001b[38;5;28mself\u001b[39m\u001b[38;5;241m.\u001b[39m_unwrap_value(response\u001b[38;5;241m.\u001b[39mget(\u001b[38;5;124m\"\u001b[39m\u001b[38;5;124mvalue\u001b[39m\u001b[38;5;124m\"\u001b[39m, \u001b[38;5;28;01mNone\u001b[39;00m))\n\u001b[0;32m    442\u001b[0m     \u001b[38;5;28;01mreturn\u001b[39;00m response\n",
      "File \u001b[1;32m~\\anaconda3\\lib\\site-packages\\selenium\\webdriver\\remote\\errorhandler.py:245\u001b[0m, in \u001b[0;36mErrorHandler.check_response\u001b[1;34m(self, response)\u001b[0m\n\u001b[0;32m    243\u001b[0m         alert_text \u001b[38;5;241m=\u001b[39m value[\u001b[38;5;124m\"\u001b[39m\u001b[38;5;124malert\u001b[39m\u001b[38;5;124m\"\u001b[39m]\u001b[38;5;241m.\u001b[39mget(\u001b[38;5;124m\"\u001b[39m\u001b[38;5;124mtext\u001b[39m\u001b[38;5;124m\"\u001b[39m)\n\u001b[0;32m    244\u001b[0m     \u001b[38;5;28;01mraise\u001b[39;00m exception_class(message, screen, stacktrace, alert_text)  \u001b[38;5;66;03m# type: ignore[call-arg]  # mypy is not smart enough here\u001b[39;00m\n\u001b[1;32m--> 245\u001b[0m \u001b[38;5;28;01mraise\u001b[39;00m exception_class(message, screen, stacktrace)\n",
      "\u001b[1;31mElementClickInterceptedException\u001b[0m: Message: element click intercepted: Element <div class=\"input-toggle__btn\">...</div> is not clickable at point (123, 623). Other element would receive the click: <div class=\"_hj-cl39T__MinimizedWidgetMessage__message _hj-hc6BA__styles__roundedCorners _hj-vpfap__MinimizedWidgetMessage__left\">...</div>\n  (Session info: chrome=111.0.5563.65)\nStacktrace:\nBacktrace:\n\t(No symbol) [0x00C0DCE3]\n\t(No symbol) [0x00BA39D1]\n\t(No symbol) [0x00AB4DA8]\n\t(No symbol) [0x00AE52EA]\n\t(No symbol) [0x00AE3BBA]\n\t(No symbol) [0x00AE1EFB]\n\t(No symbol) [0x00AE1027]\n\t(No symbol) [0x00AD8D05]\n\t(No symbol) [0x00AFAECC]\n\t(No symbol) [0x00AD8726]\n\t(No symbol) [0x00AFB224]\n\t(No symbol) [0x00B0D57C]\n\t(No symbol) [0x00AFACC6]\n\t(No symbol) [0x00AD6F68]\n\t(No symbol) [0x00AD80CD]\n\tGetHandleVerifier [0x00E83832+2506274]\n\tGetHandleVerifier [0x00EB9794+2727300]\n\tGetHandleVerifier [0x00EBE36C+2746716]\n\tGetHandleVerifier [0x00CB6690+617600]\n\t(No symbol) [0x00BAC712]\n\t(No symbol) [0x00BB1FF8]\n\t(No symbol) [0x00BB20DB]\n\t(No symbol) [0x00BBC63B]\n\tBaseThreadInitThunk [0x76FE00F9+25]\n\tRtlGetAppContainerNamedObjectPath [0x77847BBE+286]\n\tRtlGetAppContainerNamedObjectPath [0x77847B8E+238]\n"
     ]
    }
   ],
   "source": [
    "#Open web browser and navigate to url\n",
    "browser = webdriver.Chrome()\n",
    "response = browser.get(url)\n",
    "\n",
    "#wait amount of time to load page \n",
    "browser.implicitly_wait(5)\n",
    "#select technology\n",
    "technology=browser.find_element('xpath','//*[@id=\"app\"]/div/div/div[1]/div[2]/main/div/div[2]/div/div[2]/div/div[1]')\n",
    "technology.click()\n",
    "\n",
    "#accept the coockies\n",
    "COOKIES=browser.find_element('xpath','/html/body/div[6]/div[3]/div/div[1]/div/div[2]/div/button[2]')\n",
    "COOKIES.click()\n",
    "\n",
    "#choose a random 3D Model \n",
    "pièce_dexemple = browser.find_element('xpath','//*[@id=\"app\"]/div/div/div[1]/div[2]/main/div/div[3]/div/div[2]/div/div')\n",
    "pièce_dexemple.click()\n",
    "\n",
    "\n",
    "\n",
    "#login \n",
    "sleep(5)\n",
    "Login = WebDriverWait(browser, 5).until(EC.element_to_be_clickable(('xpath', '//*[@id=\"app\"]/div/div/div[4]/div[2]/div/div/div/div/div[1]/div[1]')))\n",
    "Login.click()\n",
    "\n",
    "#target username and password\n",
    "email = WebDriverWait(browser, 5).until(EC.element_to_be_clickable(('xpath', '//*[@id=\"app\"]/div/div/div[4]/div[2]/div/div/div/div/div[2]/form/div[1]/div/div/div/input')))\n",
    "password = WebDriverWait(browser, 5).until(EC.element_to_be_clickable(('xpath', '//*[@id=\"app\"]/div/div/div[4]/div[2]/div/div/div/div/div[2]/form/div[2]/div/div/div/input')))\n",
    "#enter email and password\n",
    "email.send_keys(\"sirine@seekmake.com\") # please insert your user_name here \n",
    "password.clear()\n",
    "password.send_keys(\"sirine2000\") # please insert your password here \n",
    "loginbutton = WebDriverWait(browser, 5).until(EC.element_to_be_clickable(('xpath', '//*[@id=\"sqlogin\"]')))\n",
    "loginbutton.click()\n",
    "\n",
    "sleep(10)\n",
    "#specify unit\n",
    "mm = WebDriverWait(browser, 5).until(EC.element_to_be_clickable(('xpath', '//*[@id=\"app\"]/div/div/div[1]/div[2]/main/div/div[3]/div/div[2]/div/div/div[2]/div/div[2]/div/div/div/div[1]')))\n",
    "mm.click()\n",
    "\n",
    "\n",
    "#check \n",
    "check= WebDriverWait(browser, 10).until(EC.element_to_be_clickable(('xpath', '//*[@id=\"app\"]/div/div/div[1]/div[2]/main/div/div[5]/div/label')))\n",
    "\n",
    "check.click()\n",
    "\n",
    "sleep(10)\n",
    "#start quoting\n",
    "button=WebDriverWait(browser, 10).until(EC.element_to_be_clickable(('xpath', '/html/body/div[1]/div/div/div[1]/div[2]/main/div/div[6]/div/div/div')))\n",
    "\n",
    "button.click()\n",
    "\n",
    "\n"
   ]
  },
  {
   "cell_type": "code",
   "execution_count": 13,
   "id": "29f1e769",
   "metadata": {},
   "outputs": [],
   "source": [
    "def FDMcheck():\n",
    "    FDMcheck= browser.find_element('xpath','/html/body/div[1]/div/div/div[1]/div[1]/main/div[1]/div/div[3]/div/div[1]/div[2]/div[2]/div/div/div[5]/div[1]/div/div/span')\n",
    "    FDMcheck.click()\n",
    "    FDMcheckclick=browser.find_element('xpath','/html/body/div[1]/div/div/div[1]/div[1]/main/div[1]/div/div[3]/div/div[1]/div[2]/div[2]/div/div/div[5]/div[1]/div/div[2]/div[2]')\n",
    "    sleep(2)\n",
    "    FDMcheckclick.click()\n",
    "sleep(5)    \n",
    "FDMcheck()    "
   ]
  },
  {
   "cell_type": "code",
   "execution_count": 26,
   "id": "328fba06",
   "metadata": {},
   "outputs": [],
   "source": [
    "def extract_3DModel():\n",
    "    model_info_list = [] \n",
    "  \n",
    "    model_names = browser.find_elements('class name','part__name')\n",
    "    dimensions = browser.find_elements('class name','part__dimensions')   \n",
    "    prices = browser.find_elements('class name','part-price')\n",
    "    materials = browser.find_elements('xpath', '//*[@id=\"app\"]/div/div/div[1]/div[1]/main/div[1]/div/div[3]/div/div[1]/div[2]/div[2]/div/div/div[6]/div[1]/div/div')\n",
    "    print(materials)\n",
    "    #soup = BeautifulSoup(html, \"html.parser\")\n",
    "    #div_element = soup.find(\"div\", class_=\"input-select__input\")\n",
    "    #span_element = div_element.find(\"span\", class_=\"input-select__value\")\n",
    "    #print(span_elemnt.text)\n",
    "    \n",
    "    print(\"The data frame of model information:\")\n",
    "\n",
    "    for i in range(len(model_names)):\n",
    "        model_info = {}\n",
    "        model_info[\"name\"] = model_names[i].text\n",
    "        model_info[\"dimension\"]=  dimensions[i].text\n",
    "        model_info[\"prices\"]=  prices[i].text\n",
    "        \n",
    "        model_info[\"material\"]=  materials[i]\n",
    "        print(model_info[\"prices\"])\n",
    "\n",
    "        model_info_list.append(model_info)\n",
    "\n",
    "    df = pd.DataFrame(model_info_list)\n",
    "    return df\n",
    "\n",
    "    df\n"
   ]
  },
  {
   "cell_type": "code",
   "execution_count": 27,
   "id": "00351b15",
   "metadata": {},
   "outputs": [
    {
     "name": "stdout",
     "output_type": "stream",
     "text": [
      "[<selenium.webdriver.remote.webelement.WebElement (session=\"63f93630570c2e4e335e796a7af8b445\", element=\"4a27de44-f124-4930-af58-fcf050693bfd\")>]\n",
      "The data frame of model information:\n",
      "$37.75\n"
     ]
    },
    {
     "data": {
      "text/html": [
       "<div>\n",
       "<style scoped>\n",
       "    .dataframe tbody tr th:only-of-type {\n",
       "        vertical-align: middle;\n",
       "    }\n",
       "\n",
       "    .dataframe tbody tr th {\n",
       "        vertical-align: top;\n",
       "    }\n",
       "\n",
       "    .dataframe thead th {\n",
       "        text-align: right;\n",
       "    }\n",
       "</style>\n",
       "<table border=\"1\" class=\"dataframe\">\n",
       "  <thead>\n",
       "    <tr style=\"text-align: right;\">\n",
       "      <th></th>\n",
       "      <th>name</th>\n",
       "      <th>dimension</th>\n",
       "      <th>prices</th>\n",
       "      <th>material</th>\n",
       "    </tr>\n",
       "  </thead>\n",
       "  <tbody>\n",
       "    <tr>\n",
       "      <th>0</th>\n",
       "      <td>11017.stl</td>\n",
       "      <td>265.0 x 46.4 x 8.4 mm</td>\n",
       "      <td>$37.75</td>\n",
       "      <td>&lt;selenium.webdriver.remote.webelement.WebEleme...</td>\n",
       "    </tr>\n",
       "  </tbody>\n",
       "</table>\n",
       "</div>"
      ],
      "text/plain": [
       "        name              dimension  prices  \\\n",
       "0  11017.stl  265.0 x 46.4 x 8.4 mm  $37.75   \n",
       "\n",
       "                                            material  \n",
       "0  <selenium.webdriver.remote.webelement.WebEleme...  "
      ]
     },
     "execution_count": 27,
     "metadata": {},
     "output_type": "execute_result"
    }
   ],
   "source": [
    "extract_3DModel()"
   ]
  },
  {
   "cell_type": "code",
   "execution_count": null,
   "id": "91a4de62",
   "metadata": {},
   "outputs": [],
   "source": [
    "df = pd.DataFrame(data)\n",
    "df.to_csv('350.csv', index=False)\n"
   ]
  },
  {
   "cell_type": "code",
   "execution_count": null,
   "id": "15a59912",
   "metadata": {},
   "outputs": [],
   "source": []
  },
  {
   "cell_type": "code",
   "execution_count": null,
   "id": "aaef8bb0",
   "metadata": {},
   "outputs": [],
   "source": []
  }
 ],
 "metadata": {
  "kernelspec": {
   "display_name": "Python 3 (ipykernel)",
   "language": "python",
   "name": "python3"
  },
  "language_info": {
   "codemirror_mode": {
    "name": "ipython",
    "version": 3
   },
   "file_extension": ".py",
   "mimetype": "text/x-python",
   "name": "python",
   "nbconvert_exporter": "python",
   "pygments_lexer": "ipython3",
   "version": "3.9.8"
  }
 },
 "nbformat": 4,
 "nbformat_minor": 5
}
