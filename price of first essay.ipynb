{
 "cells": [
  {
   "cell_type": "code",
   "execution_count": 1,
   "id": "699ba218",
   "metadata": {},
   "outputs": [],
   "source": [
    "import selenium\n",
    "import time\n",
    "from selenium import webdriver \n",
    "from pymongo import MongoClient\n",
    "from bs4 import BeautifulSoup\n",
    "from selenium.webdriver.support.wait import WebDriverWait\n",
    "from selenium.webdriver.support import expected_conditions as EC\n",
    "from selenium.webdriver.common.by import By\n",
    "import pymongo\n",
    "import requests\n",
    "from time import sleep\n",
    "import urllib.request\n",
    "import os\n",
    "import pandas as pd"
   ]
  },
  {
   "cell_type": "code",
   "execution_count": 2,
   "id": "0fc2cca0",
   "metadata": {},
   "outputs": [],
   "source": [
    "url = 'https://get.xometry.eu/quotes/'"
   ]
  },
  {
   "cell_type": "code",
   "execution_count": 4,
   "id": "35ad22e9",
   "metadata": {
    "scrolled": true
   },
   "outputs": [
    {
     "ename": "TimeoutException",
     "evalue": "Message: \nStacktrace:\nBacktrace:\n\t(No symbol) [0x00C0DCE3]\n\t(No symbol) [0x00BA39D1]\n\t(No symbol) [0x00AB4DA8]\n\t(No symbol) [0x00AE019F]\n\t(No symbol) [0x00AE03AB]\n\t(No symbol) [0x00B0EE62]\n\t(No symbol) [0x00AFAF14]\n\t(No symbol) [0x00B0D57C]\n\t(No symbol) [0x00AFACC6]\n\t(No symbol) [0x00AD6F68]\n\t(No symbol) [0x00AD80CD]\n\tGetHandleVerifier [0x00E83832+2506274]\n\tGetHandleVerifier [0x00EB9794+2727300]\n\tGetHandleVerifier [0x00EBE36C+2746716]\n\tGetHandleVerifier [0x00CB6690+617600]\n\t(No symbol) [0x00BAC712]\n\t(No symbol) [0x00BB1FF8]\n\t(No symbol) [0x00BB20DB]\n\t(No symbol) [0x00BBC63B]\n\tBaseThreadInitThunk [0x76FE00F9+25]\n\tRtlGetAppContainerNamedObjectPath [0x77847BBE+286]\n\tRtlGetAppContainerNamedObjectPath [0x77847B8E+238]\n",
     "output_type": "error",
     "traceback": [
      "\u001b[1;31m---------------------------------------------------------------------------\u001b[0m",
      "\u001b[1;31mTimeoutException\u001b[0m                          Traceback (most recent call last)",
      "Input \u001b[1;32mIn [4]\u001b[0m, in \u001b[0;36m<cell line: 29>\u001b[1;34m()\u001b[0m\n\u001b[0;32m     26\u001b[0m pièce_dexemple\u001b[38;5;241m.\u001b[39mclick()\n\u001b[0;32m     28\u001b[0m \u001b[38;5;66;03m#start quoting \u001b[39;00m\n\u001b[1;32m---> 29\u001b[0m button\u001b[38;5;241m=\u001b[39m\u001b[43mWebDriverWait\u001b[49m\u001b[43m(\u001b[49m\u001b[43mbrowser\u001b[49m\u001b[43m,\u001b[49m\u001b[43m \u001b[49m\u001b[38;5;241;43m10\u001b[39;49m\u001b[43m)\u001b[49m\u001b[38;5;241;43m.\u001b[39;49m\u001b[43muntil\u001b[49m\u001b[43m(\u001b[49m\u001b[43mEC\u001b[49m\u001b[38;5;241;43m.\u001b[39;49m\u001b[43melement_to_be_clickable\u001b[49m\u001b[43m(\u001b[49m\u001b[43m(\u001b[49m\u001b[38;5;124;43m'\u001b[39;49m\u001b[38;5;124;43mxpath\u001b[39;49m\u001b[38;5;124;43m'\u001b[39;49m\u001b[43m,\u001b[49m\u001b[43m \u001b[49m\u001b[38;5;124;43m'\u001b[39;49m\u001b[38;5;124;43m//*[@id=\u001b[39;49m\u001b[38;5;124;43m\"\u001b[39;49m\u001b[38;5;124;43mroot\u001b[39;49m\u001b[38;5;124;43m\"\u001b[39;49m\u001b[38;5;124;43m]/section/main/div[3]/div/div[3]/button[2]\u001b[39;49m\u001b[38;5;124;43m'\u001b[39;49m\u001b[43m)\u001b[49m\u001b[43m)\u001b[49m\u001b[43m)\u001b[49m\n\u001b[0;32m     31\u001b[0m button\u001b[38;5;241m.\u001b[39mclick()\n",
      "File \u001b[1;32m~\\anaconda3\\lib\\site-packages\\selenium\\webdriver\\support\\wait.py:95\u001b[0m, in \u001b[0;36mWebDriverWait.until\u001b[1;34m(self, method, message)\u001b[0m\n\u001b[0;32m     93\u001b[0m     \u001b[38;5;28;01mif\u001b[39;00m time\u001b[38;5;241m.\u001b[39mmonotonic() \u001b[38;5;241m>\u001b[39m end_time:\n\u001b[0;32m     94\u001b[0m         \u001b[38;5;28;01mbreak\u001b[39;00m\n\u001b[1;32m---> 95\u001b[0m \u001b[38;5;28;01mraise\u001b[39;00m TimeoutException(message, screen, stacktrace)\n",
      "\u001b[1;31mTimeoutException\u001b[0m: Message: \nStacktrace:\nBacktrace:\n\t(No symbol) [0x00C0DCE3]\n\t(No symbol) [0x00BA39D1]\n\t(No symbol) [0x00AB4DA8]\n\t(No symbol) [0x00AE019F]\n\t(No symbol) [0x00AE03AB]\n\t(No symbol) [0x00B0EE62]\n\t(No symbol) [0x00AFAF14]\n\t(No symbol) [0x00B0D57C]\n\t(No symbol) [0x00AFACC6]\n\t(No symbol) [0x00AD6F68]\n\t(No symbol) [0x00AD80CD]\n\tGetHandleVerifier [0x00E83832+2506274]\n\tGetHandleVerifier [0x00EB9794+2727300]\n\tGetHandleVerifier [0x00EBE36C+2746716]\n\tGetHandleVerifier [0x00CB6690+617600]\n\t(No symbol) [0x00BAC712]\n\t(No symbol) [0x00BB1FF8]\n\t(No symbol) [0x00BB20DB]\n\t(No symbol) [0x00BBC63B]\n\tBaseThreadInitThunk [0x76FE00F9+25]\n\tRtlGetAppContainerNamedObjectPath [0x77847BBE+286]\n\tRtlGetAppContainerNamedObjectPath [0x77847B8E+238]\n"
     ]
    }
   ],
   "source": [
    "#Open web browser and navigate to url\n",
    "browser = webdriver.Chrome()\n",
    "response = browser.get(url)\n",
    "\n",
    "\n",
    "#wait amount of time to load page \n",
    "browser.implicitly_wait(5)\n",
    "\n",
    "#login process \n",
    "Login = WebDriverWait(browser, 10).until(EC.element_to_be_clickable(('xpath', '//*[@id=\"root\"]/section/main/div/div/div')))\n",
    "Login.click()\n",
    "\n",
    "#target username and password\n",
    "email = WebDriverWait(browser, 10).until(EC.element_to_be_clickable(('xpath', '//*[@id=\"email\"]')))\n",
    "password = WebDriverWait(browser, 10).until(EC.element_to_be_clickable(('xpath', '//*[@id=\"password\"]')))\n",
    "#enter email and password\n",
    "email.clear()\n",
    "email.send_keys(\"sirinemahjoubgaida@gmail.com\") # please insert your user_name here \n",
    "password.clear()\n",
    "password.send_keys(\"sirine\") # please insert your password here \n",
    "loginbutton = WebDriverWait(browser, 10).until(EC.element_to_be_clickable(('xpath', '//*[@id=\"root\"]/section/main/div/div/div/form/button')))\n",
    "loginbutton.click()\n",
    "\n",
    "#choose a random 3D Model \n",
    "pièce_dexemple =WebDriverWait(browser, 10).until(EC.element_to_be_clickable(('xpath', '//*[@id=\"root\"]/section/main/div[3]/div')))\n",
    "pièce_dexemple.click()\n",
    "\n",
    "#start quoting \n",
    "button=WebDriverWait(browser, 10).until(EC.element_to_be_clickable(('xpath', '//*[@id=\"root\"]/section/main/div[3]/div/div[3]/button[2]')))\n",
    "\n",
    "button.click()"
   ]
  },
  {
   "cell_type": "code",
   "execution_count": 7,
   "id": "ad3f3c64",
   "metadata": {
    "scrolled": true
   },
   "outputs": [
    {
     "name": "stdout",
     "output_type": "stream",
     "text": [
      "the list of prices :  []\n"
     ]
    }
   ],
   "source": [
    "    pricesList = []\n",
    "    prices = browser.find_elements('class name','shipping-selector-price')\n",
    "    \n",
    "    for price in prices:\n",
    "   \t    pricesList.append(price.text)\n",
    "            \n",
    "    print (\"the list of prices : \" , pricesList) "
   ]
  },
  {
   "cell_type": "code",
   "execution_count": null,
   "id": "55583a3f",
   "metadata": {},
   "outputs": [],
   "source": []
  },
  {
   "cell_type": "code",
   "execution_count": null,
   "id": "4a3882f2",
   "metadata": {},
   "outputs": [],
   "source": []
  },
  {
   "cell_type": "code",
   "execution_count": null,
   "id": "a4787cef",
   "metadata": {},
   "outputs": [],
   "source": []
  },
  {
   "cell_type": "code",
   "execution_count": null,
   "id": "cee777ea",
   "metadata": {},
   "outputs": [],
   "source": []
  },
  {
   "cell_type": "code",
   "execution_count": null,
   "id": "47a0d084",
   "metadata": {},
   "outputs": [],
   "source": []
  },
  {
   "cell_type": "code",
   "execution_count": null,
   "id": "a56018f4",
   "metadata": {},
   "outputs": [],
   "source": []
  },
  {
   "cell_type": "code",
   "execution_count": null,
   "id": "40cd2d1b",
   "metadata": {},
   "outputs": [],
   "source": []
  },
  {
   "cell_type": "code",
   "execution_count": null,
   "id": "84758748",
   "metadata": {},
   "outputs": [],
   "source": [
    "df.to_csv('sample.csv', index=False)"
   ]
  },
  {
   "cell_type": "code",
   "execution_count": null,
   "id": "8e5ebcee",
   "metadata": {},
   "outputs": [],
   "source": []
  },
  {
   "cell_type": "code",
   "execution_count": null,
   "id": "d7e210c0",
   "metadata": {},
   "outputs": [],
   "source": [
    "ModelNames = browser.find_elements('class name','part-description__title')\n",
    "for ModelName in ModelNames:\n",
    "        print(ModelName.text)\n",
    "print(len(ModelNames))"
   ]
  },
  {
   "cell_type": "code",
   "execution_count": null,
   "id": "dc07318e",
   "metadata": {},
   "outputs": [],
   "source": [
    "def extract_3DModel():\n",
    "    model_info_list = [] \n",
    "    prices = browser.find_elements('class name','h3d-subtitle-2')\n",
    "    dimensions = browser.find_elements('class name','part-description__sizes')\n",
    "    specifications = browser.find_elements('class name','part-specs')\n",
    "    errors =  browser.find_elements('class name','h3d-banner__title')\n",
    "    model_names = browser.find_elements('class name','part-description__title')\n",
    "\n",
    "    for i in range(len(model_names)):\n",
    "        model_info = {}\n",
    "        model_info[\"name\"] = model_names[i].text\n",
    "        model_info[\"price\"] = prices[i].text\n",
    "        if i < len(errors):\n",
    "            model_info[\"error\"] = errors[i].text\n",
    "        else:\n",
    "            model_info[\"error\"] = None\n",
    "        dimension = dimensions[i].text.replace('\\n', '').replace('\\u202f', '').strip()\n",
    "        if dimension:\n",
    "            model_info[\"dimension\"] = dimension\n",
    "        else:\n",
    "            model_info[\"dimension\"] = None\n",
    "        model_info[\"specification\"] = specifications[i].text.replace('\\n', '')\n",
    "        model_info_list.append(model_info)\n",
    "        \n",
    "    df = pd.DataFrame(model_info_list)\n",
    "    print(\"The data frame of model information:\")\n",
    "    df\n",
    "    return df\n",
    "data= extract_3DModel()"
   ]
  },
  {
   "cell_type": "code",
   "execution_count": null,
   "id": "5a977e04",
   "metadata": {},
   "outputs": [],
   "source": [
    "data.to_csv('sample.csv', index=False)"
   ]
  },
  {
   "cell_type": "code",
   "execution_count": null,
   "id": "93c99835",
   "metadata": {
    "scrolled": false
   },
   "outputs": [],
   "source": [
    "data"
   ]
  },
  {
   "cell_type": "code",
   "execution_count": null,
   "id": "99cd4ce0",
   "metadata": {},
   "outputs": [],
   "source": [
    "errors =  browser.find_elements('class name','h3d-banner__title')\n",
    "for error in errors:\n",
    "    print(error.text)"
   ]
  },
  {
   "cell_type": "code",
   "execution_count": null,
   "id": "295961a4",
   "metadata": {},
   "outputs": [],
   "source": [
    "errors =  browser.find_elements('class name','ng-star-inserted')\n",
    "for error in errors:\n",
    "    print(error.text)"
   ]
  },
  {
   "cell_type": "code",
   "execution_count": null,
   "id": "88053149",
   "metadata": {},
   "outputs": [],
   "source": [
    "errors =  browser.find_elements('class name','h3d-list--disc')\n",
    "for error in errors:\n",
    "    print(error.text)"
   ]
  },
  {
   "cell_type": "code",
   "execution_count": null,
   "id": "6c8c01dd",
   "metadata": {},
   "outputs": [],
   "source": []
  }
 ],
 "metadata": {
  "kernelspec": {
   "display_name": "Python 3 (ipykernel)",
   "language": "python",
   "name": "python3"
  },
  "language_info": {
   "codemirror_mode": {
    "name": "ipython",
    "version": 3
   },
   "file_extension": ".py",
   "mimetype": "text/x-python",
   "name": "python",
   "nbconvert_exporter": "python",
   "pygments_lexer": "ipython3",
   "version": "3.9.12"
  }
 },
 "nbformat": 4,
 "nbformat_minor": 5
}
